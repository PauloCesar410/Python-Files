{
 "cells": [
  {
   "cell_type": "code",
   "execution_count": 1,
   "metadata": {},
   "outputs": [
    {
     "name": "stdout",
     "output_type": "stream",
     "text": [
      "Escolha o valor 1 ou 2 para o jogador A: 1\n",
      "Escolha o valor 1 ou 2 para o jogador C: 2\n",
      "Escolha o valor 1 ou 2 para o jogador P: 0\n",
      "Este valor não é possível, digite o valor 1 ou 2\n",
      "Escolha o valor 1 ou 2: 1\n",
      "C: Carlos ganhou\n",
      "Fim do jogo!\n"
     ]
    }
   ],
   "source": [
    "# Jogo Dois Um da SBC  \n",
    "#Jogador A\n",
    "valor =int(input(\"Escolha o valor 1 ou 2 para o jogador A: \"))\n",
    "if (valor == 1) or (valor == 2):\n",
    "     A = valor\n",
    "else:\n",
    "    print(\"Este valor não é possível, digite o valor 1 ou 2\")\n",
    "    valor =int(input(\"Escolha o valor 1 ou 2: \"))\n",
    "    A=valor\n",
    "\n",
    "#Jogador C\n",
    "valor=int(input(\"Escolha o valor 1 ou 2 para o jogador C: \"))\n",
    "if (valor == 1) or (valor == 2):\n",
    "     C=valor\n",
    "else:\n",
    "     print(\"Este valor não é possível, digite o valor 1 ou 2: \")\n",
    "     valor =int(input(\"Escolha o valor 1 ou 2: \"))\n",
    "     C = valor\n",
    "     \n",
    "#Jogador P     \n",
    "valor =int(input(\"Escolha o valor 1 ou 2 para o jogador P: \"))\n",
    "if (valor == 1) or (valor == 2):\n",
    "     P=valor\n",
    "else:\n",
    "     print(\"Este valor não é possível, digite o valor 1 ou 2\")\n",
    "     valor =int(input(\"Escolha o valor 1 ou 2: \"))\n",
    "     P = valor     \n",
    "\n",
    "if (A == C == P == 2) or (A == C == P == 1):\n",
    "    print(\"X: Ninguém ganhou\")\n",
    "elif(A == C == 1) and (P == 2):\n",
    "    print(\"P: Pietro ganhou\")\n",
    "elif (A == P == 1) and (C == 2):\n",
    "    print(\"C: Carlos ganhou\")\n",
    "elif (C == P == 2) and (A == 1):\n",
    "    print(\"A: André ganhou\")\n",
    "elif (C == P == 1) and (A == 2):\n",
    "    print(\"A: André ganhou\")\n",
    "elif (A == P == 2) and (C == 1):\n",
    "    print(\"C: Carlos ganhou\")\n",
    "elif (A == C == 2) and (P == 1):\n",
    "    print(\"P: Pietro ganhou\")\n",
    "print(\"Fim do jogo!\")     \n"
   ]
  },
  {
   "cell_type": "code",
   "execution_count": null,
   "metadata": {},
   "outputs": [],
   "source": []
  }
 ],
 "metadata": {
  "kernelspec": {
   "display_name": "Python 3",
   "language": "python",
   "name": "python3"
  },
  "language_info": {
   "codemirror_mode": {
    "name": "ipython",
    "version": 3
   },
   "file_extension": ".py",
   "mimetype": "text/x-python",
   "name": "python",
   "nbconvert_exporter": "python",
   "pygments_lexer": "ipython3",
   "version": "3.7.6"
  }
 },
 "nbformat": 4,
 "nbformat_minor": 4
}
