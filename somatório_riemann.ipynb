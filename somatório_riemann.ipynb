{
 "cells": [
  {
   "cell_type": "code",
   "execution_count": 1,
   "metadata": {},
   "outputs": [],
   "source": [
    "import numpy as np\n"
   ]
  },
  {
   "cell_type": "code",
   "execution_count": 18,
   "metadata": {},
   "outputs": [
    {
     "name": "stdout",
     "output_type": "stream",
     "text": [
      "digite o ponto inicial: 0\n"
     ]
    }
   ],
   "source": [
    "a=float(input('digite o ponto inicial: '))\n"
   ]
  },
  {
   "cell_type": "code",
   "execution_count": 19,
   "metadata": {},
   "outputs": [
    {
     "name": "stdout",
     "output_type": "stream",
     "text": [
      "digite o ponto final: 2\n"
     ]
    }
   ],
   "source": [
    "b=float(input('digite o ponto final: '))\n"
   ]
  },
  {
   "cell_type": "code",
   "execution_count": 20,
   "metadata": {},
   "outputs": [
    {
     "name": "stdout",
     "output_type": "stream",
     "text": [
      "digite a quantidade de divisões do intervalo: 100000\n"
     ]
    }
   ],
   "source": [
    "n=int(input('digite a quantidade de divisões do intervalo: '))\n"
   ]
  },
  {
   "cell_type": "code",
   "execution_count": 21,
   "metadata": {},
   "outputs": [],
   "source": [
    "h=((b-a)/n)\n"
   ]
  },
  {
   "cell_type": "code",
   "execution_count": 22,
   "metadata": {},
   "outputs": [
    {
     "name": "stdout",
     "output_type": "stream",
     "text": [
      "2e-05\n"
     ]
    }
   ],
   "source": [
    "print(h)\n",
    "\n"
   ]
  },
  {
   "cell_type": "code",
   "execution_count": 23,
   "metadata": {},
   "outputs": [],
   "source": [
    "def f(x):\n",
    "    return x\n"
   ]
  },
  {
   "cell_type": "code",
   "execution_count": 24,
   "metadata": {},
   "outputs": [],
   "source": [
    "soma=0\n",
    "for i in range(0,n,1):\n",
    "    x=a+h*i\n",
    "    soma += f(x)*h\n"
   ]
  },
  {
   "cell_type": "code",
   "execution_count": 25,
   "metadata": {},
   "outputs": [
    {
     "name": "stdout",
     "output_type": "stream",
     "text": [
      "1.999980000000001\n"
     ]
    }
   ],
   "source": [
    "print(soma)\n"
   ]
  },
  {
   "cell_type": "code",
   "execution_count": 26,
   "metadata": {},
   "outputs": [
    {
     "name": "stdout",
     "output_type": "stream",
     "text": [
      "O valor exato da integral é: 2.0\n"
     ]
    }
   ],
   "source": [
    "valor_exato = (b**2-a**2)/2\n",
    "print(\"O valor exato da integral é:\", valor_exato)\n"
   ]
  },
  {
   "cell_type": "code",
   "execution_count": 27,
   "metadata": {},
   "outputs": [
    {
     "name": "stdout",
     "output_type": "stream",
     "text": [
      "O valor do erro absoluto  no cálculo da integral é: 1.99999999990208e-05\n"
     ]
    }
   ],
   "source": [
    "erro_absoluto = (valor_exato - soma)\n",
    "print(\"O valor do erro absoluto  no cálculo da integral é:\", erro_absoluto)\n"
   ]
  },
  {
   "cell_type": "code",
   "execution_count": 28,
   "metadata": {},
   "outputs": [
    {
     "name": "stdout",
     "output_type": "stream",
     "text": [
      "O valor do erro realtivo  no cálculo da integral é: 9.9999999995104e-06\n"
     ]
    }
   ],
   "source": [
    "erro_relativo = (valor_exato - soma)/valor_exato\n",
    "print(\"O valor do erro realtivo  no cálculo da integral é:\", erro_relativo)\n"
   ]
  },
  {
   "cell_type": "code",
   "execution_count": 29,
   "metadata": {},
   "outputs": [
    {
     "name": "stdout",
     "output_type": "stream",
     "text": [
      "O valor do erro percentual  no cálculo da integral é: 0.00099999999995104 %\n"
     ]
    }
   ],
   "source": [
    "erro_percentual = erro_relativo*100\n",
    "print(\"O valor do erro percentual  no cálculo da integral é:\", erro_percentual, \"%\")\n"
   ]
  },
  {
   "cell_type": "code",
   "execution_count": null,
   "metadata": {},
   "outputs": [],
   "source": []
  }
 ],
 "metadata": {
  "kernelspec": {
   "display_name": "Python 3",
   "language": "python",
   "name": "python3"
  },
  "language_info": {
   "codemirror_mode": {
    "name": "ipython",
    "version": 3
   },
   "file_extension": ".py",
   "mimetype": "text/x-python",
   "name": "python",
   "nbconvert_exporter": "python",
   "pygments_lexer": "ipython3",
   "version": "3.7.6"
  }
 },
 "nbformat": 4,
 "nbformat_minor": 4
}
