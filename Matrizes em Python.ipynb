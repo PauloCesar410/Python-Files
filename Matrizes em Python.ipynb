{
 "cells": [
  {
   "cell_type": "code",
   "execution_count": 9,
   "metadata": {},
   "outputs": [],
   "source": [
    "def crie_matriz(n_linhas, n_colunas, valor):  # Cria matriz com um valor fixo\n",
    "    matriz=[]\n",
    "    for i in range(n_linhas):\n",
    "        linha=[]\n",
    "        for j in range(n_colunas):\n",
    "            linha+= [valor]\n",
    "            matriz+=[linha]\n",
    "        return matriz"
   ]
  },
  {
   "cell_type": "code",
   "execution_count": 10,
   "metadata": {},
   "outputs": [
    {
     "data": {
      "text/plain": [
       "[[2, 2, 2, 2, 2],\n",
       " [2, 2, 2, 2, 2],\n",
       " [2, 2, 2, 2, 2],\n",
       " [2, 2, 2, 2, 2],\n",
       " [2, 2, 2, 2, 2]]"
      ]
     },
     "execution_count": 10,
     "metadata": {},
     "output_type": "execute_result"
    }
   ],
   "source": [
    "A = crie_matriz(5,5,2)\n",
    "A"
   ]
  },
  {
   "cell_type": "code",
   "execution_count": 11,
   "metadata": {},
   "outputs": [
    {
     "name": "stdout",
     "output_type": "stream",
     "text": [
      "digite o valor do elemento0\n",
      "digite o valor do elemento0\n",
      "digite o valor do elemento0\n",
      "digite o valor do elemento0\n",
      "digite o valor do elemento0\n",
      "digite o valor do elemento0\n",
      "digite o valor do elemento0\n",
      "digite o valor do elemento0\n",
      "digite o valor do elemento0\n",
      "[[0.0, 0.0, 0.0], [0.0, 0.0, 0.0], [0.0, 0.0, 0.0]]\n"
     ]
    }
   ],
   "source": [
    "import random  # Somente se for usar uma matriz com elementos aleatórios\n",
    "def matriz(n_linhas, n_colunas):\n",
    "    matriz = [] # Matriz\n",
    "    linha = [] # Linha\n",
    "\n",
    "    while len(matriz) != n_linhas: # Quando o número de elementos da matriz(linhas) forem diferentes da quantidade máxima definida pelo usuário, ele ficará rodando.\n",
    "        #n = random.randint(0,99) # Utilizei random para adicionar os valores\n",
    "        n =float(input('digite o valor do elemento'))\n",
    "        linha.append(n) # Adiciono n à linha\n",
    "\n",
    "        if len(linha) == n_colunas: # Se a quantidade de elementos for igual à quantidade de colunas definida pelo usuário :\n",
    "            matriz.append(linha) # Adiciono a linha à matriz\n",
    "            linha = [] # E zero a \"linha\" para adicionar outra à matriz\n",
    "    return matriz # Retorno a mesma\n",
    "\n",
    "\n",
    "A=matriz(3,3)\n",
    "print(A)"
   ]
  },
  {
   "cell_type": "code",
   "execution_count": 12,
   "metadata": {},
   "outputs": [],
   "source": [
    "def somar(m1, m2):\n",
    "    matriz_soma = []\n",
    "    # Supondo que as duas matrizes possuem o mesmo tamanho\n",
    "    quant_linhas = len(m1) # Conta quantas linhas existem\n",
    "    quant_colunas = len(m1[0]) # Conta quantos elementos têm em uma linha\n",
    "    for i in range(quant_linhas):\n",
    "        # Cria uma nova linha na matriz_soma\n",
    "        matriz_soma.append([])\n",
    "        for j in range(quant_colunas):\n",
    "            # Somando os elementos que possuem o mesmo índice\n",
    "            soma = m1[i][j] + m2[i][j]\n",
    "            matriz_soma[i].append(soma)\n",
    "    return matriz_soma"
   ]
  },
  {
   "cell_type": "code",
   "execution_count": 13,
   "metadata": {},
   "outputs": [
    {
     "name": "stdout",
     "output_type": "stream",
     "text": [
      "[[0.0, 0.0, 0.0], [0.0, 0.0, 0.0], [0.0, 0.0, 0.0]]\n"
     ]
    }
   ],
   "source": [
    "S=somar(A,A)\n",
    "print(S)"
   ]
  },
  {
   "cell_type": "code",
   "execution_count": 14,
   "metadata": {},
   "outputs": [],
   "source": [
    "def mult_escalar(matriz, escalar):\n",
    "    matriz_mult = []\n",
    "    quant_linhas = len(matriz) # Conta quantas linhas existem\n",
    "    quant_colunas = len(matriz[0]) # Conta quantos elementos têm em uma linha\n",
    "    for i in range(quant_linhas):\n",
    "        # Cria uma nova linha na matriz_mult\n",
    "        matriz_mult.append([])\n",
    "        for j in range(quant_colunas):\n",
    "            # Multiplicando cada elemento pelo escalar\n",
    "            mult = escalar * matriz[i][j]\n",
    "            matriz_mult[i].append(mult)\n",
    "    return matriz_mult"
   ]
  },
  {
   "cell_type": "code",
   "execution_count": 15,
   "metadata": {},
   "outputs": [
    {
     "name": "stdout",
     "output_type": "stream",
     "text": [
      "[[0.0, 0.0, 0.0], [0.0, 0.0, 0.0], [0.0, 0.0, 0.0]]\n"
     ]
    }
   ],
   "source": [
    "M=mult_escalar(A,3)\n",
    "print(M)"
   ]
  },
  {
   "cell_type": "code",
   "execution_count": 16,
   "metadata": {},
   "outputs": [],
   "source": [
    "def subtrair(m1, m2):\n",
    "    matriz_subtrair = []\n",
    "    # Supondo que as duas matrizes possuem o mesmo tamanho\n",
    "    quant_linhas = len(m1) # Conta quantas linhas existem\n",
    "    quant_colunas = len(m1[0]) # Conta quantos elementos têm em uma linha\n",
    "    for i in range(quant_linhas):\n",
    "        # Cria uma nova linha na matriz_soma\n",
    "        matriz_subtrair.append([])\n",
    "        for j in range(quant_colunas):\n",
    "            # Somando os elementos que possuem o mesmo índice\n",
    "            subtrair = m1[i][j] - m2[i][j]\n",
    "            matriz_subtrair[i].append(subtrair)\n",
    "    return matriz_subtrair"
   ]
  },
  {
   "cell_type": "code",
   "execution_count": 17,
   "metadata": {},
   "outputs": [
    {
     "name": "stdout",
     "output_type": "stream",
     "text": [
      "[[0.0, 0.0, 0.0], [0.0, 0.0, 0.0], [0.0, 0.0, 0.0]]\n"
     ]
    }
   ],
   "source": [
    "S=subtrair(A,A)\n",
    "print(S)"
   ]
  },
  {
   "cell_type": "code",
   "execution_count": 18,
   "metadata": {},
   "outputs": [
    {
     "name": "stdout",
     "output_type": "stream",
     "text": [
      "0.0\n"
     ]
    }
   ],
   "source": [
    "import numpy as np\n",
    "Determinante =np.linalg.det(A)\n",
    "print(Determinante)"
   ]
  },
  {
   "cell_type": "code",
   "execution_count": 19,
   "metadata": {},
   "outputs": [
    {
     "name": "stdout",
     "output_type": "stream",
     "text": [
      "[0. 0. 0.] [[1. 0. 0.]\n",
      " [0. 1. 0.]\n",
      " [0. 0. 1.]]\n"
     ]
    }
   ],
   "source": [
    "autovalores,autovetores = np.linalg.eig(A)\n",
    "print(autovalores,autovetores)"
   ]
  },
  {
   "cell_type": "code",
   "execution_count": 20,
   "metadata": {},
   "outputs": [
    {
     "name": "stdout",
     "output_type": "stream",
     "text": [
      "Matriz A \n",
      " [[1 3 2]\n",
      " [3 4 0]\n",
      " [1 2 3]]\n",
      "Vetor b \n",
      " [ 1 -2  4]\n",
      "Solução de Ax=b é c =  [ 0.90909091 -1.18181818  1.81818182]\n",
      "-11.000000000000002\n"
     ]
    }
   ],
   "source": [
    "import numpy as np \n",
    "A = np.array(((1, 3, 2), (3, 4 ,0), (1, 2, 3)))\n",
    "print(\"Matriz A \\n\",A)\n",
    "b = np.array((1, -2, 4))\n",
    "print(\"Vetor b \\n\",b)\n",
    "c  =np.linalg.solve(A, b)\n",
    "print(\"Solução de Ax=b é c = \",c)\n",
    "Determinante =np.linalg.det(A)\n",
    "print(Determinante)"
   ]
  },
  {
   "cell_type": "code",
   "execution_count": 21,
   "metadata": {},
   "outputs": [
    {
     "name": "stdout",
     "output_type": "stream",
     "text": [
      "Matriz A: \n",
      " [[1 3 2]\n",
      " [3 4 0]]\n",
      "Matriz B: \n",
      " [[ 3 -1]\n",
      " [ 2  1]\n",
      " [ 5  2]]\n",
      "Matriz AxB: \n",
      " [[19  6]\n",
      " [17  1]]\n"
     ]
    }
   ],
   "source": [
    "import numpy as np\n",
    "A = np.array([[1, 3, 2], [3, 4, 0]])\n",
    "B = np.array([[3, -1], [2, 1], [5, 2]])\n",
    "C = np.matmul(A, B)\n",
    "print(\"Matriz A: \\n\", A)\n",
    "print(\"Matriz B: \\n\", B)\n",
    "print(\"Matriz AxB: \\n\", C)\n"
   ]
  },
  {
   "cell_type": "code",
   "execution_count": 22,
   "metadata": {},
   "outputs": [],
   "source": [
    "class Matriz: # Código paar multiplicação de matrizes usando Classes\n",
    "    def __init__(self, mat):\n",
    "        self.mat = mat\n",
    "        self.lin = len(mat)\n",
    "        self.col = len(mat[0])\n",
    "\n",
    "    def getLinha(self, n):\n",
    "        return [i for i in self.mat[n]]\n",
    "\n",
    "    def getColuna(self, n):\n",
    "        return [i[n] for i in self.mat]\n",
    "\n",
    "    # opcional: dar overload no operador de multiplicação\n",
    "    def __mul__(self, mat2):\n",
    "        matRes = []\n",
    "\n",
    "        for i in range(self.lin):           \n",
    "            matRes.append([])\n",
    "\n",
    "            for j in range(mat2.col):\n",
    "                listMult = [x*y for x, y in zip(self.getLinha(i), mat2.getColuna(j))]\n",
    "                matRes[i].append(sum(listMult))\n",
    "\n",
    "        return matRes"
   ]
  },
  {
   "cell_type": "code",
   "execution_count": 23,
   "metadata": {},
   "outputs": [
    {
     "name": "stdout",
     "output_type": "stream",
     "text": [
      "[[8, 9, 3], [16, 18, 6]]\n"
     ]
    }
   ],
   "source": [
    "mat1 = Matriz([[2, 3], [4, 6]])\n",
    "mat2 = Matriz([[1, 3, 0], [2, 1, 1]])\n",
    "print(mat1*mat2)"
   ]
  },
  {
   "cell_type": "code",
   "execution_count": 24,
   "metadata": {},
   "outputs": [
    {
     "name": "stdout",
     "output_type": "stream",
     "text": [
      "[[8, 9], [16, 18]]\n"
     ]
    }
   ],
   "source": [
    "def getLinha(matriz, n):\n",
    "    return [i for i in matriz[n]]  # ou simplesmente return matriz[n]\n",
    "\n",
    "def getColuna(matriz, n):\n",
    "    return [i[n] for i in matriz]\n",
    "\n",
    "mat1 = [[2, 3], [4, 6]]            # uma matriz 2x2\n",
    "mat1lin = len(mat1)                # retorna 2\n",
    "mat1col = len(mat1[0])             # retorna 2\n",
    "\n",
    "mat2 = [[1, 3, 0], [2, 1, 1]]      # uma matriz 2x3\n",
    "mat2lin = len(mat2)                # retorna 2\n",
    "mat2col = len(mat1[0])             # retorna 3\n",
    "\n",
    "matRes = []                        # deverá ser uma matriz 2x3\n",
    "for i in range(mat1lin):           \n",
    "    matRes.append([])\n",
    "\n",
    "    for j in range(mat2col):\n",
    "        # multiplica cada linha de mat1 por cada coluna de mat2;\n",
    "        listMult = [x*y for x, y in zip(getLinha(mat1, i), getColuna(mat2, j))]\n",
    "\n",
    "        # e em seguida adiciona a matRes a soma das multiplicações\n",
    "        matRes[i].append(sum(listMult))\n",
    "\n",
    "print(matRes)"
   ]
  },
  {
   "cell_type": "code",
   "execution_count": 27,
   "metadata": {},
   "outputs": [
    {
     "name": "stdout",
     "output_type": "stream",
     "text": [
      "0.0\n",
      "[ 0.          0.          0.         -4.79409338 -2.22369592 -0.91892752\n",
      "  0.7928024  -0.02608558]\n"
     ]
    }
   ],
   "source": [
    "import numpy as np\n",
    "k=0.25\n",
    "l=2.55\n",
    "pho1=0.580\n",
    "pho2=0.001\n",
    "pho3=0.2\n",
    "pho4=0.3\n",
    "beta=2.55\n",
    "betalinha=7.65\n",
    "gammaa=0.94\n",
    "gammai=0.27\n",
    "gammar=0.5\n",
    "gammap=1\n",
    "deltah=0.3\n",
    "deltai=3.5\n",
    "deltap=1\n",
    "betal=beta*l\n",
    "kpho1=k*pho1\n",
    "kpho3=k*pho3\n",
    "kpho4=k*pho4\n",
    "wi=gammaa+gammai+deltai\n",
    "kpho2=k*pho2\n",
    "wp=gammaa+gammai+deltap\n",
    "wh=gammaa+gammai+deltah\n",
    "\n",
    "R = [ [0, 0, -beta, -betalinha, -betal,0,0,0], [0, -k ,beta, betalinha, betal,0,0,0], [0, kpho1, -wi,0,0,kpho3,0,0], [0,kpho2,0,-wp,0,kpho4,0,0], [0,k*(1-pho1-pho2),0,0,0,k*(pho3+pho4),0,0], [0,0,0,gammai,gammar,0,0,0], [0,0,deltai,deltap,deltah,0,0,0], [0,0,deltai,deltap,deltah,0,0,0]]\n",
    "print(np.linalg.det( R ))\n",
    "#Determinante =np.linalg.det(R)\n",
    "autovalores,autovetores = np.linalg.eig(R)\n",
    "print(autovalores)"
   ]
  },
  {
   "cell_type": "code",
   "execution_count": 28,
   "metadata": {},
   "outputs": [
    {
     "name": "stdout",
     "output_type": "stream",
     "text": [
      "[[1, 1, 1], [2, 2, 2], [3, 3, 3]]\n",
      "0.0\n"
     ]
    }
   ],
   "source": [
    "import numpy\n",
    "\n",
    "matriz = [ [1, 1, 1], [2, 2, 2], [3, 3, 3] ]\n",
    "print(matriz)\n",
    "\n",
    "print( numpy.linalg.det( matriz ) )"
   ]
  },
  {
   "cell_type": "code",
   "execution_count": 6,
   "metadata": {},
   "outputs": [
    {
     "name": "stdout",
     "output_type": "stream",
     "text": [
      "4.647840483375\n",
      "[-4.84817976 -0.33808614 -1.28216993 -2.21156417]\n"
     ]
    }
   ],
   "source": [
    "import numpy\n",
    "R1= [ [-k,beta,betalinha,-betal], [kpho1,-wi,0,0], [kpho2,0,-wp,0], [0,gammaa,gammaa,-wh]]\n",
    "print( numpy.linalg.det( R1 ) )\n",
    "autovalores,autovetores = np.linalg.eig(R1)\n",
    "print(autovalores)"
   ]
  },
  {
   "cell_type": "code",
   "execution_count": 7,
   "metadata": {},
   "outputs": [
    {
     "name": "stdout",
     "output_type": "stream",
     "text": [
      "[[-3.38172987e+00  1.07548624e+00 -5.51189237e+00  1.45627142e+01]\n",
      " [-1.04108457e-01 -1.79204776e-01 -1.69686708e-01  4.48321351e-01]\n",
      " [-3.82548628e-04  1.21661340e-04 -4.53112205e-01  1.64736586e-03]\n",
      " [-6.50473808e-02 -1.11482204e-01 -3.87702634e-01 -3.82138680e-01]]\n"
     ]
    }
   ],
   "source": [
    "inversa=numpy.linalg.inv(R1)\n",
    "print(inversa)"
   ]
  },
  {
   "cell_type": "code",
   "execution_count": 8,
   "metadata": {},
   "outputs": [
    {
     "name": "stdout",
     "output_type": "stream",
     "text": [
      "3.9294352500000005\n",
      "[1.51 4.71 2.21 0.25]\n"
     ]
    }
   ],
   "source": [
    "import numpy\n",
    "Ri= [ [k,0,0,0], [-kpho1,wi,0,0], [-kpho2,0,wp,0], [0,-gammaa,-gammaa,wh]]\n",
    "print( numpy.linalg.det( Ri ) )\n",
    "autovalores,autovetores = np.linalg.eig(Ri)\n",
    "print(autovalores)"
   ]
  },
  {
   "cell_type": "code",
   "execution_count": 9,
   "metadata": {},
   "outputs": [
    {
     "name": "stdout",
     "output_type": "stream",
     "text": [
      "[[4.00000000e+00 0.00000000e+00 0.00000000e+00 0.00000000e+00]\n",
      " [1.23142251e-01 2.12314225e-01 0.00000000e+00 0.00000000e+00]\n",
      " [4.52488688e-04 0.00000000e+00 4.52488688e-01 0.00000000e+00]\n",
      " [7.69397714e-02 1.32169120e-01 2.81681700e-01 6.62251656e-01]]\n"
     ]
    }
   ],
   "source": [
    "inversa=numpy.linalg.inv(Ri)\n",
    "print(inversa)"
   ]
  },
  {
   "cell_type": "code",
   "execution_count": 23,
   "metadata": {},
   "outputs": [
    {
     "name": "stdout",
     "output_type": "stream",
     "text": [
      "[[0.8177751410651186, 1.400830978192095, 5.293173713703515, 4.306291390728477], [0.0, 0.0, 0.0, 0.0], [0.0, 0.0, 0.0, 0.0], [0.0, 0.0, 0.0, 0.0]]\n",
      "[[0, 2.55, 7.65, 6.5024999999999995], [0, 0, 0, 0], [0, 0, 0, 0], [0, 0, 0, 0]]\n"
     ]
    }
   ],
   "source": [
    "Ri= Matriz([ [k,0,0,0], [-kpho1,wi,0,0], [-kpho2,0,wp,0], [0,-gammaa,-gammaa,wh]])\n",
    "Jf= Matriz([ [0,beta,betalinha,betal], [0,0,0,0], [0,0,0,0], [0,0,0,0]])\n",
    "temporaria =Matriz(inversa)\n",
    "\n",
    "print(Jf*temporaria)\n",
    "Jf1=[ [0,beta,betalinha,betal], [0,0,0,0], [0,0,0,0], [0,0,0,0]]\n",
    "print(Jf1)"
   ]
  },
  {
   "cell_type": "code",
   "execution_count": 14,
   "metadata": {},
   "outputs": [
    {
     "name": "stdout",
     "output_type": "stream",
     "text": [
      "[0.81777514 0.         0.         0.        ]\n"
     ]
    }
   ],
   "source": [
    "raio=Jf*temporaria\n",
    "autovalores,autovetores = np.linalg.eig(raio)\n",
    "print(autovalores)"
   ]
  },
  {
   "cell_type": "code",
   "execution_count": 26,
   "metadata": {},
   "outputs": [
    {
     "name": "stdout",
     "output_type": "stream",
     "text": [
      "[[4.00000000e+00 0.00000000e+00 0.00000000e+00 0.00000000e+00]\n",
      " [1.23142251e-01 2.12314225e-01 0.00000000e+00 0.00000000e+00]\n",
      " [4.52488688e-04 0.00000000e+00 4.52488688e-01 0.00000000e+00]\n",
      " [7.69397714e-02 1.32169120e-01 2.81681700e-01 6.62251656e-01]]\n",
      "[[ 1.00000000e+00  0.00000000e+00  0.00000000e+00  0.00000000e+00]\n",
      " [-1.78556263e-02  1.00000000e+00  0.00000000e+00  0.00000000e+00]\n",
      " [-1.13122172e-07  0.00000000e+00  1.00000000e+00  0.00000000e+00]\n",
      " [ 0.00000000e+00 -1.24238973e-01 -2.64780798e-01  1.00000000e+00]]\n"
     ]
    }
   ],
   "source": [
    "M=[ [k,0,0,0], [-kpho1,wi,0,0], [-kpho2,0,wp,0], [0,-gammaa,-gammaa,wh]]\n",
    "inversa1=numpy.linalg.inv(M)\n",
    "print(inversa1)\n",
    "novamatriz=M*inversa1\n",
    "print(novamatriz)"
   ]
  },
  {
   "cell_type": "code",
   "execution_count": null,
   "metadata": {},
   "outputs": [],
   "source": []
  }
 ],
 "metadata": {
  "kernelspec": {
   "display_name": "Python 3",
   "language": "python",
   "name": "python3"
  },
  "language_info": {
   "codemirror_mode": {
    "name": "ipython",
    "version": 3
   },
   "file_extension": ".py",
   "mimetype": "text/x-python",
   "name": "python",
   "nbconvert_exporter": "python",
   "pygments_lexer": "ipython3",
   "version": "3.7.6"
  }
 },
 "nbformat": 4,
 "nbformat_minor": 4
}
