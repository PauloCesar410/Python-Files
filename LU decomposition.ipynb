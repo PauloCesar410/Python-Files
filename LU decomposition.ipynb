{
 "cells": [
  {
   "cell_type": "code",
   "execution_count": 10,
   "metadata": {},
   "outputs": [],
   "source": [
    "import numpy as np; # biblioteca de manipulação de matrizes\n",
    "\n",
    "def main ():\n",
    "    ''' função apenas para matrizes quadradas NxN, chama  fatoraLU e retorn L ,U '''\n",
    "    \n",
    "    m = int(input(\"Digite o número de linhas da matriz: \"))\n",
    "    matriz = cria_matriz(m  )\n",
    "    triangula = fatoraLU(matriz )\n",
    "  \n",
    "    return  triangula\n",
    "\n",
    "def  cria_matriz(m ):\n",
    "    matriz  =  np.zeros([m,m] )\n",
    "    for  i in range(0, m ):\n",
    "        for j in range(0, m ):\n",
    "            matriz  [ i , j ] =  input( \"Digite o elemento [\" + str(i )+\"] [\" + str(j )+\"]\" )\n",
    "            matriz [ i , j ] = float(matriz[ i , j ]  )   \n",
    "    return  matriz\n",
    "\n",
    "def fatoraLU (matriz ):\n",
    "    U = np.copy(matriz )  \n",
    "    n = np.shape(U)[0] # retorna o numero de linhas da matriz \n",
    "    L = np.eye(n)  \n",
    "    for j in np.arange(n-1):  \n",
    "        for i in np.arange(j+1,n):  \n",
    "            L[i,j] = U[i,j]/U[j,j]  \n",
    "            for k in np.arange(j+1,n):  \n",
    "                U[i,k] = U[i,k] - L[i,j]*U[j,k]  \n",
    "            U[i,j] = 0      \n",
    "    return L, U;"
   ]
  },
  {
   "cell_type": "code",
   "execution_count": 11,
   "metadata": {},
   "outputs": [],
   "source": [
    "\n",
    "import numpy as np; # biblioteca de manipulação de matrizes\n",
    "from numpy import linalg as LA ; # biblioteca de manipulação de matrizes\n",
    "\n",
    "def main ():\n",
    "    m = int(input(\"Digite o número de linhas da matriz: \"))\n",
    "    matriz = cria_matriz(m  )\n",
    "    return matriz \n",
    "\n",
    "def  cria_matriz(m ):\n",
    "    matriz  =  np.zeros([m,m] )\n",
    "    for  i in range(0, m ):\n",
    "        for j in range(0, m ):\n",
    "            matriz  [ i , j ] =  input( \"Digite o elemento [\" + str(i )+\"] [\" + str(j )+\"]\" )\n",
    "            matriz [ i , j ] = float(matriz[ i , j ]  )  \n",
    "    return  matriz\n",
    "\n",
    "\n",
    "def norm0():\n",
    "   #  L = int(input (\" Linha para norma \" ))\n",
    "   matriz =  main ()\n",
    "   print(\"Norma maxima  \")\n",
    "   norm0 = LA.norm(matriz,1 )\n",
    "   return norm0\n",
    "\n",
    "def norm1():\n",
    "    matriz = main ()\n",
    "    print(\"Norma singular \")\n",
    "    norm1 = LA.norm(matriz,2 )\n",
    "    return norm1\n",
    "\n",
    "def norm2():\n",
    "    ''' Escolha a linha para calcular a\n",
    "norma observando o quantas são'''\n",
    "    matriz = main ()\n",
    "    L = int(input (\" Linha para norma: \" ))\n",
    "    print(\"Norma maxima  \")\n",
    "    # LA.norm(matriz , L )\n",
    "    norm2 = LA.norm(Matriz, ord=1, axis=L)\n",
    "    return  norm2\n",
    "\n",
    "def norm3():\n",
    "\n",
    "    matriz = main ()\n",
    "    print(\"Norma de Frobenius \")\n",
    "    norm3 = LA.norm(matriz,'fro' )\n",
    "    return  norm3\n",
    "\n",
    "def norm4 ():\n",
    "    ''' essa norma em especial foi só para testes, não é relevante'''\n",
    "    matriz = main ()\n",
    "    print(\"Norma de minima \")\n",
    "    norm4 = LA.norm(matriz , -np.inf)\n",
    "    return  norm4\n",
    "\n",
    "\n",
    "\n",
    "\n"
   ]
  },
  {
   "cell_type": "code",
   "execution_count": 35,
   "metadata": {},
   "outputs": [
    {
     "name": "stdout",
     "output_type": "stream",
     "text": [
      "[[11, -3, 4, 8], [-3, 12, 6, 11], [4, 6, 5, 13], [8, 11, 13, 5]]\n",
      "-3\n"
     ]
    }
   ],
   "source": [
    "A = [[11, -3, 4, 8], [-3, 12, 6, 11], [4, 6, 5, 13], [8, 11, 13, 5]]\n",
    "print(A)\n",
    "type('A')\n",
    "print(A[1][0])"
   ]
  },
  {
   "cell_type": "code",
   "execution_count": 36,
   "metadata": {},
   "outputs": [],
   "source": [
    "def constroimatriz2():\n",
    "    matriz=[]\n",
    "    for i in range(4):\n",
    "        list.append(matriz,[0]*3)\n",
    "        return  matriz"
   ]
  },
  {
   "cell_type": "code",
   "execution_count": null,
   "metadata": {},
   "outputs": [],
   "source": []
  }
 ],
 "metadata": {
  "kernelspec": {
   "display_name": "Python 3",
   "language": "python",
   "name": "python3"
  },
  "language_info": {
   "codemirror_mode": {
    "name": "ipython",
    "version": 3
   },
   "file_extension": ".py",
   "mimetype": "text/x-python",
   "name": "python",
   "nbconvert_exporter": "python",
   "pygments_lexer": "ipython3",
   "version": "3.7.6"
  }
 },
 "nbformat": 4,
 "nbformat_minor": 4
}
