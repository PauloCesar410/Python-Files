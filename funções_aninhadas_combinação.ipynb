{
 "cells": [
  {
   "cell_type": "code",
   "execution_count": 3,
   "metadata": {},
   "outputs": [
    {
     "name": "stdout",
     "output_type": "stream",
     "text": [
      "Combinacao 5, 3-a-3 = 10\n",
      "10.0\n"
     ]
    }
   ],
   "source": [
    "def combinacao (n, k) : # combinacao de n, k-a-k\n",
    "  def fatorial (n) : # fatorial de n (supondo n natural)\n",
    "    fat = 1;\n",
    "    for i in range(2, n+1) :\n",
    "      fat *= i;\n",
    "    return fat;\n",
    "  return fatorial(n) / (fatorial(k)*fatorial(n-k));\n",
    "\n",
    "def main () :\n",
    "  n = 5; k = 3;\n",
    "  print(\"Combinacao %d, %d-a-%d = %d\" % (n, k, k, combinacao(n,k)));\n",
    "  # Problema de declarar 'fatorial()' dentro de 'combinacao()': a linha abaixo daria erro!\n",
    "  # Erro: NameError: global name 'fatorial' is not defined\n",
    "  # print(\"fat(0)=%d, fat(1)=%d, fat(2)=%d, fat(3)=%d\" % (fatorial(0), fatorial(1), fatorial(2), fatorial(3)));\n",
    "\n",
    "main();\n",
    "print(combinacao(5,3))"
   ]
  },
  {
   "cell_type": "code",
   "execution_count": null,
   "metadata": {},
   "outputs": [],
   "source": []
  }
 ],
 "metadata": {
  "kernelspec": {
   "display_name": "Python 3",
   "language": "python",
   "name": "python3"
  },
  "language_info": {
   "codemirror_mode": {
    "name": "ipython",
    "version": 3
   },
   "file_extension": ".py",
   "mimetype": "text/x-python",
   "name": "python",
   "nbconvert_exporter": "python",
   "pygments_lexer": "ipython3",
   "version": "3.7.6"
  }
 },
 "nbformat": 4,
 "nbformat_minor": 4
}
