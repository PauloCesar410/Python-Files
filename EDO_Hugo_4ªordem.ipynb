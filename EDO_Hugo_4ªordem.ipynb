{
 "cells": [
  {
   "cell_type": "code",
   "execution_count": 3,
   "metadata": {},
   "outputs": [
    {
     "name": "stdout",
     "output_type": "stream",
     "text": [
      "------Método de Runge-Kutta de 4º ordem------\n",
      "\n",
      "Digite o número de iterações: 10000\n",
      "Digite o tamanho do passo: 0.1\n",
      "Digite o valor de x0: 0\n",
      "Digite o valor de y0: 1\n",
      "1000.0000000001588     inf\n"
     ]
    },
    {
     "data": {
      "image/png": "[encoded data removed]",
      "text/plain": [
       "<Figure size 432x288 with 1 Axes>"
      ]
     },
     "metadata": {
      "needs_background": "light"
     },
     "output_type": "display_data"
    }
   ],
   "source": [
    "import matplotlib.pyplot as plt\n",
    "\n",
    "def Eq_Diff(x, y):\n",
    "    fx=(y)\n",
    "    return fx\n",
    "print(\"------Método de Runge-Kutta de 4º ordem------\\n\")\n",
    "n=int(input(\"Digite o número de iterações: \"))\n",
    "h=float(input(\"Digite o tamanho do passo: \"))\n",
    "x0=float(input(\"Digite o valor de x0: \"))\n",
    "y0=float(input(\"Digite o valor de y0: \"))\n",
    "xk=[x0]\n",
    "yk=[y0]\n",
    "\n",
    "for i in range(0,n):\n",
    "    xn=xk[i]+h\n",
    "    k1=h*Eq_Diff(xk[i], yk[i])\n",
    "    k2=h*Eq_Diff(xk[i]+h/2, yk[i]+k1/2)\n",
    "    k3=h*Eq_Diff(xk[i]+h/2, yk[i]+k2/2)\n",
    "    k4=h*Eq_Diff(xk[i]+h, yk[i]+k3)\n",
    "    yn=yk[i]+(k1+2*k2+2*k3+k4)/6\n",
    "    xk.append(xn)\n",
    "    yk.append(yn)\n",
    "print(xk[i+1],\"   \",yk[i+1])\n",
    "\n",
    "plt.scatter(xk,yk)\n",
    "plt.grid()\n",
    "plt.show()"
   ]
  },
  {
   "cell_type": "code",
   "execution_count": null,
   "metadata": {},
   "outputs": [],
   "source": []
  }
 ],
 "metadata": {
  "kernelspec": {
   "display_name": "Python 3",
   "language": "python",
   "name": "python3"
  },
  "language_info": {
   "codemirror_mode": {
    "name": "ipython",
    "version": 3
   },
   "file_extension": ".py",
   "mimetype": "text/x-python",
   "name": "python",
   "nbconvert_exporter": "python",
   "pygments_lexer": "ipython3",
   "version": "3.7.6"
  }
 },
 "nbformat": 4,
 "nbformat_minor": 4
}
