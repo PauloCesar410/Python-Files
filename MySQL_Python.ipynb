{
 "cells": [
  {
   "cell_type": "code",
   "execution_count": 1,
   "metadata": {},
   "outputs": [
    {
     "name": "stdout",
     "output_type": "stream",
     "text": [
      "Collecting mysqlclient\n",
      "  Downloading mysqlclient-2.1.0-cp37-cp37m-win_amd64.whl (179 kB)\n",
      "Installing collected packages: mysqlclient\n",
      "Successfully installed mysqlclient-2.1.0\n"
     ]
    }
   ],
   "source": [
    "!pip install mysqlclient"
   ]
  },
  {
   "cell_type": "code",
   "execution_count": 2,
   "metadata": {},
   "outputs": [],
   "source": [
    "import MySQLdb"
   ]
  },
  {
   "cell_type": "code",
   "execution_count": 8,
   "metadata": {},
   "outputs": [],
   "source": [
    "host=\"localhost\"\n",
    "user=\"root\"\n",
    "password=\"Hashem33\"\n",
    "db=\"escola_curso\"\n",
    "port=3306"
   ]
  },
  {
   "cell_type": "code",
   "execution_count": 113,
   "metadata": {},
   "outputs": [],
   "source": [
    "con=MySQLdb.connect(host,user,password,db,port)"
   ]
  },
  {
   "cell_type": "code",
   "execution_count": 114,
   "metadata": {},
   "outputs": [],
   "source": [
    "c=con.cursor(MySQLdb.cursors.DictCursor)\n",
    "\n",
    "def select(fields, tables, where=None):\n",
    "    global c\n",
    "    query = \"SELECT \" + fields + \" FROM \" + tables\n",
    "    if where:\n",
    "        query = query + \" WHERE \" + where\n",
    "\n",
    "    c.execute(query)\n",
    "    return c.fetchall()\n",
    "\n",
    "result1= select(\"nome,cpf\", \"alunos\", \"id_aluno=1\")\n"
   ]
  },
  {
   "cell_type": "markdown",
   "metadata": {},
   "source": [
    "# Create a CRUD(Select)"
   ]
  },
  {
   "cell_type": "code",
   "execution_count": 115,
   "metadata": {},
   "outputs": [
    {
     "name": "stdout",
     "output_type": "stream",
     "text": [
      "({'nome': 'Pedro Magalhães Martins', 'cpf': '12345678901'},)\n"
     ]
    }
   ],
   "source": [
    "print(result1)"
   ]
  },
  {
   "cell_type": "code",
   "execution_count": 116,
   "metadata": {},
   "outputs": [
    {
     "name": "stdout",
     "output_type": "stream",
     "text": [
      "({'nome': 'Pedro Magalhães Martins', 'cpf': '12345678901'}, {'nome': 'Diego MAriano', 'cpf': '12345678999'}, {'nome': 'Fliper Ama', 'cpf': '125215157'}, {'nome': 'Ricardo Amado', 'cpf': '125555157'}, {'nome': 'Regina Cazé', 'cpf': '1558555157'}, {'nome': 'João Pedro', 'cpf': '12345678911'}, {'nome': 'Maria Pedro', 'cpf': '12345678910'}, {'nome': 'João Pedro', 'cpf': '12345678911'}, {'nome': 'Maria Pedro', 'cpf': '12345678910'})\n"
     ]
    }
   ],
   "source": [
    "result = select(\"nome,cpf\", \"alunos\")\n",
    "print(result)"
   ]
  },
  {
   "cell_type": "code",
   "execution_count": 117,
   "metadata": {},
   "outputs": [
    {
     "name": "stdout",
     "output_type": "stream",
     "text": [
      "{'nome': 'Pedro Magalhães Martins', 'cpf': '12345678901'}\n"
     ]
    }
   ],
   "source": [
    "print(result[0])"
   ]
  },
  {
   "cell_type": "code",
   "execution_count": 118,
   "metadata": {},
   "outputs": [
    {
     "name": "stdout",
     "output_type": "stream",
     "text": [
      "12345678901\n"
     ]
    }
   ],
   "source": [
    "print(result[0][\"cpf\"])"
   ]
  },
  {
   "cell_type": "markdown",
   "metadata": {},
   "source": [
    "# Create a CRUD(Insert)"
   ]
  },
  {
   "cell_type": "code",
   "execution_count": 119,
   "metadata": {},
   "outputs": [],
   "source": [
    "def insert(values,table,fields=None):\n",
    "    \n",
    "    global c,con\n",
    "    \n",
    "    query = \"INSERT INTO \" + table\n",
    "    if (fields):\n",
    "        query = query + \" (\" + fields + \") \"\n",
    "    query = query + \" VALUES\" + \",\".join([\"(\" + v + \")\" for v in values])\n",
    "    \n",
    "    c.execute(query)\n",
    "    con.commit()\n",
    "    \n",
    "values = [\"DEFAULT,'João Pedro','2000-01-01', 'Av.das Pedras,123','Betim','MG','12345678911'\",\n",
    "             \"DEFAULT,'Maria Pedro','2000-01-01', 'Av.das Pedras,123','Betim','MG','12345678910'\"]\n",
    "insert(values,\"alunos\")\n"
   ]
  },
  {
   "cell_type": "code",
   "execution_count": 120,
   "metadata": {},
   "outputs": [
    {
     "name": "stdout",
     "output_type": "stream",
     "text": [
      "({'id_aluno': 1, 'nome': 'Pedro Magalhães Martins', 'data_nascimento': datetime.date(1987, 7, 17), 'endereco': 'Av.Anto.Carlos,6673', 'cidade': 'CONTAGEM', 'estado': 'MG', 'cpf': '12345678901'}, {'id_aluno': 2, 'nome': 'Diego MAriano', 'data_nascimento': datetime.date(1990, 1, 1), 'endereco': 'Av.Anto.Carlos,6673', 'cidade': 'BELO HORIZONTE', 'estado': 'MG', 'cpf': '12345678999'}, {'id_aluno': 3, 'nome': 'Fliper Ama', 'data_nascimento': datetime.date(2017, 1, 1), 'endereco': 'Av.Anto.Carlos,6673', 'cidade': 'BELO HORIZONTE', 'estado': 'MG', 'cpf': '125215157'}, {'id_aluno': 4, 'nome': 'Ricardo Amado', 'data_nascimento': datetime.date(1997, 2, 13), 'endereco': 'Av.Brasil,6630', 'cidade': 'CABO FRIO', 'estado': 'RJ', 'cpf': '125555157'}, {'id_aluno': 5, 'nome': 'Regina Cazé', 'data_nascimento': datetime.date(1920, 2, 2), 'endereco': 'Rua do MAr,6630', 'cidade': 'SLAVADOR', 'estado': 'BA', 'cpf': '1558555157'}, {'id_aluno': 6, 'nome': 'João Pedro', 'data_nascimento': datetime.date(2000, 1, 1), 'endereco': 'Av.das Pedras,123', 'cidade': 'Betim', 'estado': 'MG', 'cpf': '12345678911'}, {'id_aluno': 7, 'nome': 'Maria Pedro', 'data_nascimento': datetime.date(2000, 1, 1), 'endereco': 'Av.das Pedras,123', 'cidade': 'Betim', 'estado': 'MG', 'cpf': '12345678910'}, {'id_aluno': 8, 'nome': 'João Pedro', 'data_nascimento': datetime.date(2000, 1, 1), 'endereco': 'Av.das Pedras,123', 'cidade': 'Betim', 'estado': 'MG', 'cpf': '12345678911'}, {'id_aluno': 9, 'nome': 'Maria Pedro', 'data_nascimento': datetime.date(2000, 1, 1), 'endereco': 'Av.das Pedras,123', 'cidade': 'Betim', 'estado': 'MG', 'cpf': '12345678910'}, {'id_aluno': 10, 'nome': 'João Pedro', 'data_nascimento': datetime.date(2000, 1, 1), 'endereco': 'Av.das Pedras,123', 'cidade': 'Betim', 'estado': 'MG', 'cpf': '12345678911'}, {'id_aluno': 11, 'nome': 'Maria Pedro', 'data_nascimento': datetime.date(2000, 1, 1), 'endereco': 'Av.das Pedras,123', 'cidade': 'Betim', 'estado': 'MG', 'cpf': '12345678910'})\n"
     ]
    }
   ],
   "source": [
    "print(select(\"*\",\"alunos\"))"
   ]
  },
  {
   "cell_type": "markdown",
   "metadata": {},
   "source": [
    "# Create a CRUD(Update)"
   ]
  },
  {
   "cell_type": "code",
   "execution_count": 147,
   "metadata": {},
   "outputs": [],
   "source": [
    "def update(sets, table, where=None):\n",
    "    \n",
    "    global c,con\n",
    "    \n",
    "    query = \"UPDATE \" + table\n",
    "    query = query + \" SET \" + \",\".join([field + \"= '\" + value + \"'\" for field, value in sets.items()])\n",
    "    if (where):\n",
    "        query = query + \" WHERE \" + where\n",
    "   \n",
    "    c.execute(query)\n",
    "    con.commit()"
   ]
  },
  {
   "cell_type": "code",
   "execution_count": 150,
   "metadata": {},
   "outputs": [],
   "source": [
    "update({\"nome\": \"Fliper Ama\", \"cidade\": \"São Paulo\"}, \"alunos\", \"id_aluno=3\" )"
   ]
  },
  {
   "cell_type": "markdown",
   "metadata": {},
   "source": [
    "# Create a CRUD(Delete)"
   ]
  },
  {
   "cell_type": "code",
   "execution_count": 155,
   "metadata": {},
   "outputs": [],
   "source": [
    "def delete(table,where):\n",
    "    global c,con\n",
    "    query = \"DELETE FROM \" + table + \" WHERE \" + where\n",
    "    \n",
    "    c.execute(query)\n",
    "    con.commit()"
   ]
  },
  {
   "cell_type": "code",
   "execution_count": 168,
   "metadata": {},
   "outputs": [
    {
     "name": "stdout",
     "output_type": "stream",
     "text": [
      "({'id_aluno': 9, 'nome': 'Maria Pedro', 'data_nascimento': datetime.date(2000, 1, 1), 'endereco': 'Av.das Pedras,123', 'cidade': 'Betim', 'estado': 'MG', 'cpf': '12345678910'},)\n"
     ]
    }
   ],
   "source": [
    "print(select(\"*\",\"alunos\", \"id_aluno = 9\"))\n"
   ]
  },
  {
   "cell_type": "code",
   "execution_count": 169,
   "metadata": {},
   "outputs": [
    {
     "name": "stdout",
     "output_type": "stream",
     "text": [
      "None\n"
     ]
    }
   ],
   "source": [
    "print( delete(\"alunos\", \"id_aluno = 9\"))"
   ]
  },
  {
   "cell_type": "code",
   "execution_count": 170,
   "metadata": {},
   "outputs": [
    {
     "name": "stdout",
     "output_type": "stream",
     "text": [
      "()\n"
     ]
    }
   ],
   "source": [
    "print(select(\"*\",\"alunos\", \"id_aluno = 9\"))"
   ]
  },
  {
   "cell_type": "markdown",
   "metadata": {},
   "source": [
    "# Fechando o curso e a conexão com o banco de dados"
   ]
  },
  {
   "cell_type": "code",
   "execution_count": null,
   "metadata": {},
   "outputs": [],
   "source": [
    "c.close()"
   ]
  },
  {
   "cell_type": "code",
   "execution_count": 172,
   "metadata": {},
   "outputs": [],
   "source": [
    "con.close()"
   ]
  }
 ],
 "metadata": {
  "kernelspec": {
   "display_name": "Python 3",
   "language": "python",
   "name": "python3"
  },
  "language_info": {
   "codemirror_mode": {
    "name": "ipython",
    "version": 3
   },
   "file_extension": ".py",
   "mimetype": "text/x-python",
   "name": "python",
   "nbconvert_exporter": "python",
   "pygments_lexer": "ipython3",
   "version": "3.7.6"
  }
 },
 "nbformat": 4,
 "nbformat_minor": 4
}
