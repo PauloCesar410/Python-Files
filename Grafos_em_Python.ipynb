{
 "cells": [
  {
   "cell_type": "markdown",
   "metadata": {},
   "source": [
    "#    Grafos em Python    "
   ]
  },
  {
   "cell_type": "markdown",
   "metadata": {},
   "source": [
    "# Introdução a programação orientada a objetos (POO)"
   ]
  },
  {
   "cell_type": "code",
   "execution_count": 1,
   "metadata": {},
   "outputs": [],
   "source": [
    "#Progrmação Orientada a Objetos (POO) usando Python\n",
    "#Criar uma classe carro, com dois atributos modelo e cor\n",
    "#O self é sempre o primeiro argumento a ser passado em um construtor e nos métodos de instâncias.\n",
    "#O self é uma convenção e não uma palavra reservada, neste exemplo troquei self por outro_self. \n",
    "#O importante é que alguma palavra seja passada como primeiro argumento e essa palavra sempre fará referencia ao próprio objeto.\n",
    "class carro():\n",
    "    def __init__(outro_self,modelo,cor,preco, valor):  \n",
    "        outro_self.modelo = modelo\n",
    "        outro_self.cor = cor\n",
    "        outro_self.preco = preco\n",
    "        outro_self.valor=valor\n",
    "    def mostrar(outro_self):\n",
    "        print(\"O modelo do carro escolhido é: \", outro_self.modelo)\n",
    "        print(\"A cor do carro escolhido é: \" , outro_self.cor)\n",
    "        print(\"O preço do carro escolhido é: \" , outro_self.preco)\n",
    "    def posso_comprar(outro_self,valor):\n",
    "        if valor <= 10.000:\n",
    "            print(\"Este dinheiro não comprar este carro!\")\n",
    "        elif (10.000 < valor < 50.000):\n",
    "                print(\"Ainda não chegou o momento de posuir um carro destes\")\n",
    "        elif valor > 50.000:\n",
    "                print(\"Faça um financiamento para ficar endividado, só para ter este carro!\")\n",
    "        elif valor >150.000:\n",
    "                print(\"já pode pensar em comprar este carro!\")\n",
    "       "
   ]
  },
  {
   "cell_type": "code",
   "execution_count": 2,
   "metadata": {},
   "outputs": [],
   "source": [
    "#Sendo que cada objeto possui diferentes self com atributos\n",
    "carro1 = carro(\"Toyota Corolla\",\"prata\",\"R$ 180.000,00\",\"R$100.000,00\") #Instanciando um elemento carro1\n",
    "carro2 = carro(\"Renult Duster\",\"prata\",\"R$145.000,00\",\"R$ 120.000,00\") #Instanciando um elemento carro2\n",
    "carro3 = carro(\"Mitsubishi L200\",\"prata\", \"R$ 300.000,00\",\"R$ 100.000,00\") #Instanciando um elemento carro3"
   ]
  },
  {
   "cell_type": "code",
   "execution_count": 4,
   "metadata": {},
   "outputs": [
    {
     "name": "stdout",
     "output_type": "stream",
     "text": [
      "O modelo do carro escolhido é:  Mitsubishi L200\n",
      "A cor do carro escolhido é:  prata\n",
      "O preço do carro escolhido é:  R$ 300.000,00\n"
     ]
    }
   ],
   "source": [
    "carro3.mostrar()"
   ]
  },
  {
   "cell_type": "code",
   "execution_count": 5,
   "metadata": {},
   "outputs": [
    {
     "name": "stdout",
     "output_type": "stream",
     "text": [
      "Faça um financiamento para ficar endividado, só para ter este carro!\n"
     ]
    }
   ],
   "source": [
    "carro1.posso_comprar(120.000)"
   ]
  },
  {
   "cell_type": "code",
   "execution_count": null,
   "metadata": {},
   "outputs": [],
   "source": [
    "#Uma representação para os grafos é chamada lista de adjacências, e consiste de um arranjo (ou lista) A \n",
    "#com n nodos em que A[i] contém a lista de vizinhos do vértice i. "
   ]
  },
  {
   "cell_type": "markdown",
   "metadata": {},
   "source": [
    "# Representação explicíta de um grafo em Python"
   ]
  },
  {
   "cell_type": "code",
   "execution_count": 1,
   "metadata": {},
   "outputs": [],
   "source": [
    "#Representação explícita de um grafo em Python  (Grafo1)\n",
    "#Este código representa um grafo como um dicionário de listas\n",
    "#Existe uma aresta do vértice A para o vértice B, uma aresta do vértice B para os vértices C e D, e assim por diante.\n",
    "grafo1 = { \"A\" : [\"B\"],\n",
    "          \"B\" : [\"C\", \"D\"],\n",
    "          \"C\" : [\"B\", \"E\"],\n",
    "          \"D\" : [\"A\"],\n",
    "          \"E\" : [\"B\"]\n",
    "        }"
   ]
  },
  {
   "cell_type": "code",
   "execution_count": 2,
   "metadata": {},
   "outputs": [
    {
     "name": "stdout",
     "output_type": "stream",
     "text": [
      "{'A': ['B'], 'B': ['C', 'D'], 'C': ['B', 'E'], 'D': ['A'], 'E': ['B']}\n"
     ]
    },
    {
     "data": {
      "text/plain": [
       "dict"
      ]
     },
     "execution_count": 2,
     "metadata": {},
     "output_type": "execute_result"
    }
   ],
   "source": [
    "print(grafo1)\n",
    "type(grafo1)"
   ]
  },
  {
   "cell_type": "code",
   "execution_count": 3,
   "metadata": {},
   "outputs": [
    {
     "name": "stdout",
     "output_type": "stream",
     "text": [
      "A\n",
      "B\n",
      "C\n",
      "D\n",
      "E\n"
     ]
    }
   ],
   "source": [
    "#Para iterar sobre cada vértice v do grafo\n",
    "for v in grafo1:\n",
    "    print(v)"
   ]
  },
  {
   "cell_type": "markdown",
   "metadata": {},
   "source": [
    "# # Representação implicíta de um grafo em Python"
   ]
  },
  {
   "cell_type": "code",
   "execution_count": 16,
   "metadata": {},
   "outputs": [],
   "source": [
    "grafo = [ [1],           # Vizinhos do vértice 0.\n",
    "          [2, 3],        # Vizinhos do vértice 1.\n",
    "          [1, 4],        # Vizinhos do vértice 2.\n",
    "          [0],           # Vizinhos do vértice 3.\n",
    "          [1]            # Vizinhos do vértice 4.\n",
    "        ]"
   ]
  },
  {
   "cell_type": "code",
   "execution_count": 17,
   "metadata": {},
   "outputs": [
    {
     "name": "stdout",
     "output_type": "stream",
     "text": [
      "[[1], [2, 3], [1, 4], [0], [1]]\n"
     ]
    }
   ],
   "source": [
    "print(grafo)"
   ]
  },
  {
   "cell_type": "markdown",
   "metadata": {},
   "source": [
    "# Representação explicíta de um grafo em Python"
   ]
  },
  {
   "cell_type": "code",
   "execution_count": 1,
   "metadata": {},
   "outputs": [],
   "source": [
    "#Grafo2"
   ]
  },
  {
   "cell_type": "code",
   "execution_count": 18,
   "metadata": {},
   "outputs": [],
   "source": [
    "#Existe um aresta de u para v, u para u, u para x, v para w, v para x,w para x duas vezes e de x para y \n",
    "grafo2={\"u\":[\"v\",\"u\",\"x\"],\n",
    "        \"v\":[\"w\",\"x\"],\n",
    "        \"w\":[\"x\",\"x\"],\n",
    "        \"x\":[\"y\"],\n",
    "        \"y\":[\"x\"],\n",
    "       }"
   ]
  },
  {
   "cell_type": "code",
   "execution_count": 19,
   "metadata": {},
   "outputs": [
    {
     "name": "stdout",
     "output_type": "stream",
     "text": [
      "{'u': ['v', 'u', 'x'], 'v': ['w', 'x'], 'w': ['x', 'x'], 'x': ['y'], 'y': ['x']}\n"
     ]
    }
   ],
   "source": [
    "print(grafo2)"
   ]
  },
  {
   "cell_type": "code",
   "execution_count": 20,
   "metadata": {},
   "outputs": [
    {
     "name": "stdout",
     "output_type": "stream",
     "text": [
      "u\n",
      "v\n",
      "w\n",
      "x\n",
      "y\n"
     ]
    }
   ],
   "source": [
    "for v in grafo2:\n",
    "    print(v)"
   ]
  },
  {
   "cell_type": "code",
   "execution_count": 13,
   "metadata": {},
   "outputs": [],
   "source": [
    "#Grafo3"
   ]
  },
  {
   "cell_type": "code",
   "execution_count": 21,
   "metadata": {},
   "outputs": [],
   "source": [
    "grafo3 ={\"v0\":[\"v1\",\"v2\",\"v3\",\"v4\",\"v5\"],\n",
    "         \"v1\":[\"v2\"],\n",
    "         \"v2\":[\"v3\"],\n",
    "         \"v3\":[\"v4\"],\n",
    "         \"v4\":[\"v5\"],\n",
    "         \"v5\":[\"v1\"]\n",
    "    \n",
    "        }"
   ]
  },
  {
   "cell_type": "code",
   "execution_count": 22,
   "metadata": {},
   "outputs": [
    {
     "name": "stdout",
     "output_type": "stream",
     "text": [
      "{'v0': ['v1', 'v2', 'v3', 'v4', 'v5'], 'v1': ['v2'], 'v2': ['v3'], 'v3': ['v4'], 'v4': ['v5'], 'v5': ['v1']}\n"
     ]
    }
   ],
   "source": [
    "print(grafo3)"
   ]
  },
  {
   "cell_type": "markdown",
   "metadata": {},
   "source": [
    "# Representação de um grafo usando POO"
   ]
  },
  {
   "cell_type": "code",
   "execution_count": null,
   "metadata": {},
   "outputs": [],
   "source": [
    "#Antes de proseguirmos, é muito importante mencionar que se você precisa criar e manipular um grafo em Python\n",
    "#de forma simples e rápida, a forma mostrada acima é provavelmente sua melhor opção.\n",
    "#Poreém se você quer algo mais elaborado devemos usar os conceitos de POO.  "
   ]
  },
  {
   "cell_type": "code",
   "execution_count": 23,
   "metadata": {},
   "outputs": [],
   "source": [
    "#Dado um grafo qualquer, precisamos realizar operações sobre ele. \n",
    "#As operações mais comuns são obter a lista de vértices do grafo, são: \n",
    "#obter a lista de arestas, verificar se existe uma aresta entre dois vértices,\n",
    "#adicionar uma aresta entre dois vértices, dentre outras.\n",
    "#Esta calsse nos permite criar tanto grafos direcionados quanto não direcionados, por meio do parâmetro direcionado\n",
    "\n",
    "#default_factory: Uma função que retorna o valor padrão para o dicionário definido.\n",
    "#Se esse argumento estiver ausente, o dicionário gerará um KeyError.\n",
    "from collections import defaultdict\n",
    "\n",
    "class Grafo(object):\n",
    "    #Implementando básica de um grafo.\n",
    "\n",
    "     # Inicializando  a estrutura básica de um grafo.\"\"\"\n",
    "    def __init__(self, arestas, direcionado=False):\n",
    "        self.adj = defaultdict(set)\n",
    "        self.direcionado = direcionado\n",
    "        self.adiciona_arestas(arestas)\n",
    "\n",
    "    #Retorna a lista de vértices do grafo.\n",
    "    def get_vertices(self):\n",
    "        return list(self.adj.keys())\n",
    "\n",
    "    #Retorna a lista de arestas do grafo.\n",
    "    def get_arestas(self):\n",
    "        return [(k, v) for k in self.adj.keys() for v in self.adj[k]]\n",
    "\n",
    "    #Adiciona arestas ao grafo.\n",
    "    def adiciona_arestas(self, arestas):\n",
    "        for u, v in arestas:\n",
    "            self.adiciona_arco(u, v)\n",
    "\n",
    "\n",
    "    def adiciona_arco(self, u, v):\n",
    "        #Adiciona uma aresta entre dois nós\n",
    "        self.adj[u].add(v)\n",
    "        # Se o grafo é não-direcionado, precisamos adicionar aretas nos dois sentidos.\n",
    "        if not self.direcionado:\n",
    "            self.adj[v].add(u)\n",
    "\n",
    "   #Existe uma aresta entre os vértices u e v?\n",
    "    def existe_aresta(self, u, v):        \n",
    "        return u in self.adj and v in self.adj[u]\n",
    "\n",
    "\n",
    "   #Permite o acesso a estrutura de dados como o acesso a estruturas de dados padrão do Python\n",
    "    def __len__(self):\n",
    "        return len(self.adj)\n",
    "\n",
    "   #Para que possamos imprimir o grafo de forma legível\n",
    "    def __str__(self): \n",
    "        return '{}({})'.format(self.__class__.__name__, dict(self.adj))\n",
    "\n",
    "   # Ao fazer grafo[v] obtenhamos a lista de adjacências do vértice v\n",
    "    def __getitem__(self, v):\n",
    "        return self.adj[v]\n",
    "    "
   ]
  },
  {
   "cell_type": "markdown",
   "metadata": {},
   "source": [
    "# 1º Exemplo de grafo "
   ]
  },
  {
   "cell_type": "code",
   "execution_count": 37,
   "metadata": {},
   "outputs": [],
   "source": [
    "# Cria a lista de arestas.\n",
    "arestas = [('A', 'B'), ('B', 'C'), ('B', 'D'), ('C', 'B'), ('C', 'E'), ('D', 'A'), ('E', 'B')]"
   ]
  },
  {
   "cell_type": "code",
   "execution_count": 39,
   "metadata": {},
   "outputs": [
    {
     "name": "stdout",
     "output_type": "stream",
     "text": [
      "defaultdict(<class 'set'>, {'A': {'B'}, 'B': {'C', 'D'}, 'C': {'E', 'B'}, 'D': {'A'}, 'E': {'B'}})\n"
     ]
    }
   ],
   "source": [
    "# Cria e imprime o grafo.\n",
    "grafo = Grafo(arestas, direcionado=True)\n",
    "print(grafo.adj)"
   ]
  },
  {
   "cell_type": "code",
   "execution_count": 40,
   "metadata": {},
   "outputs": [
    {
     "name": "stdout",
     "output_type": "stream",
     "text": [
      "['A', 'B', 'C', 'D', 'E']\n"
     ]
    }
   ],
   "source": [
    "print(grafo.get_vertices())"
   ]
  },
  {
   "cell_type": "code",
   "execution_count": 41,
   "metadata": {},
   "outputs": [
    {
     "name": "stdout",
     "output_type": "stream",
     "text": [
      "[('A', 'B'), ('B', 'C'), ('B', 'D'), ('C', 'E'), ('C', 'B'), ('D', 'A'), ('E', 'B')]\n"
     ]
    }
   ],
   "source": [
    "print(grafo.get_arestas())"
   ]
  },
  {
   "cell_type": "code",
   "execution_count": 42,
   "metadata": {},
   "outputs": [
    {
     "name": "stdout",
     "output_type": "stream",
     "text": [
      "True False\n"
     ]
    }
   ],
   "source": [
    "print(grafo.existe_aresta('A', 'B'), grafo.existe_aresta('E', 'C'))"
   ]
  },
  {
   "cell_type": "markdown",
   "metadata": {},
   "source": [
    "# 2º Exemplo de grafo"
   ]
  },
  {
   "cell_type": "code",
   "execution_count": 47,
   "metadata": {},
   "outputs": [],
   "source": [
    "# Cria a lista de arestas.\n",
    "arestas1 = [('u', 'v'), ('u', 'u'), ('v', 'w'), ('w', 'x'), ('v', 'x'), ('w', 'x'), ('u', 'x'),('x','y')]"
   ]
  },
  {
   "cell_type": "code",
   "execution_count": 48,
   "metadata": {},
   "outputs": [
    {
     "name": "stdout",
     "output_type": "stream",
     "text": [
      "defaultdict(<class 'set'>, {'u': {'v', 'x', 'u'}, 'v': {'x', 'w', 'u'}, 'w': {'v', 'x'}, 'x': {'v', 'w', 'y', 'u'}, 'y': {'x'}})\n"
     ]
    }
   ],
   "source": [
    "# Cria e imprime o grafo.\n",
    "grafo = Grafo(arestas1, direcionado=False)\n",
    "print(grafo.adj)"
   ]
  },
  {
   "cell_type": "code",
   "execution_count": 49,
   "metadata": {},
   "outputs": [
    {
     "name": "stdout",
     "output_type": "stream",
     "text": [
      "['u', 'v', 'w', 'x', 'y']\n"
     ]
    }
   ],
   "source": [
    "print(grafo.get_vertices())"
   ]
  },
  {
   "cell_type": "code",
   "execution_count": 50,
   "metadata": {},
   "outputs": [
    {
     "name": "stdout",
     "output_type": "stream",
     "text": [
      "[('u', 'v'), ('u', 'x'), ('u', 'u'), ('v', 'x'), ('v', 'w'), ('v', 'u'), ('w', 'v'), ('w', 'x'), ('x', 'v'), ('x', 'w'), ('x', 'y'), ('x', 'u'), ('y', 'x')]\n"
     ]
    }
   ],
   "source": [
    "print(grafo.get_arestas())"
   ]
  },
  {
   "cell_type": "code",
   "execution_count": 51,
   "metadata": {},
   "outputs": [
    {
     "name": "stdout",
     "output_type": "stream",
     "text": [
      "False True\n"
     ]
    }
   ],
   "source": [
    "print(grafo.existe_aresta('u', 'w'), grafo.existe_aresta('w', 'x'))"
   ]
  },
  {
   "cell_type": "markdown",
   "metadata": {},
   "source": [
    "# 3º Exemplo de grafo"
   ]
  },
  {
   "cell_type": "code",
   "execution_count": 25,
   "metadata": {},
   "outputs": [],
   "source": [
    "# Cria a lista de arestas.\n",
    "arestas1 = [('v1', 'v2'), ('v2', 'v3'), ('v3', 'v4'), ('v4', 'v5'), ('v5', 'v1'), ('v0', 'v1'), ('v0', 'v2'),('v0','v3'),('v0','v4'),('v0','v5')]"
   ]
  },
  {
   "cell_type": "code",
   "execution_count": 26,
   "metadata": {},
   "outputs": [
    {
     "name": "stdout",
     "output_type": "stream",
     "text": [
      "defaultdict(<class 'set'>, {'v1': {'v0', 'v5', 'v2'}, 'v2': {'v0', 'v1', 'v3'}, 'v3': {'v0', 'v4', 'v2'}, 'v4': {'v0', 'v5', 'v3'}, 'v5': {'v0', 'v4', 'v1'}, 'v0': {'v5', 'v1', 'v3', 'v4', 'v2'}})\n"
     ]
    }
   ],
   "source": [
    "# Cria e imprime o grafo.\n",
    "grafo = Grafo(arestas1, direcionado=False)\n",
    "print(grafo.adj)"
   ]
  },
  {
   "cell_type": "code",
   "execution_count": 27,
   "metadata": {},
   "outputs": [
    {
     "name": "stdout",
     "output_type": "stream",
     "text": [
      "['v1', 'v2', 'v3', 'v4', 'v5', 'v0']\n"
     ]
    }
   ],
   "source": [
    "print(grafo.get_vertices())"
   ]
  },
  {
   "cell_type": "code",
   "execution_count": 28,
   "metadata": {},
   "outputs": [
    {
     "name": "stdout",
     "output_type": "stream",
     "text": [
      "[('v1', 'v0'), ('v1', 'v5'), ('v1', 'v2'), ('v2', 'v0'), ('v2', 'v1'), ('v2', 'v3'), ('v3', 'v0'), ('v3', 'v4'), ('v3', 'v2'), ('v4', 'v0'), ('v4', 'v5'), ('v4', 'v3'), ('v5', 'v0'), ('v5', 'v4'), ('v5', 'v1'), ('v0', 'v5'), ('v0', 'v1'), ('v0', 'v3'), ('v0', 'v4'), ('v0', 'v2')]\n"
     ]
    }
   ],
   "source": [
    "print(grafo.get_arestas())"
   ]
  },
  {
   "cell_type": "code",
   "execution_count": 29,
   "metadata": {},
   "outputs": [
    {
     "name": "stdout",
     "output_type": "stream",
     "text": [
      "False False\n"
     ]
    }
   ],
   "source": [
    "print(grafo.existe_aresta('v1', 'v4'), grafo.existe_aresta('v5', 'v2')) "
   ]
  },
  {
   "cell_type": "code",
   "execution_count": 30,
   "metadata": {},
   "outputs": [
    {
     "name": "stdout",
     "output_type": "stream",
     "text": [
      "Este grafo possui  6  vértices\n"
     ]
    }
   ],
   "source": [
    "print(\"Este grafo possui \", len(grafo), \" vértices\")"
   ]
  },
  {
   "cell_type": "markdown",
   "metadata": {},
   "source": [
    "# Biblioteca Networkx"
   ]
  },
  {
   "cell_type": "code",
   "execution_count": 1,
   "metadata": {},
   "outputs": [],
   "source": [
    "#Analisando grafos com Python e a biblioteca Networkx\n",
    "#!pip install networkx"
   ]
  },
  {
   "cell_type": "code",
   "execution_count": 2,
   "metadata": {},
   "outputs": [],
   "source": [
    "#Grafo1\n",
    "import networkx as nx\n",
    "G = nx.Graph()"
   ]
  },
  {
   "cell_type": "code",
   "execution_count": 3,
   "metadata": {},
   "outputs": [],
   "source": [
    "# adicionando vertices\n",
    "G.add_node(1)\n",
    "G.add_node(2)"
   ]
  },
  {
   "cell_type": "code",
   "execution_count": 4,
   "metadata": {},
   "outputs": [
    {
     "name": "stdout",
     "output_type": "stream",
     "text": [
      "[1, 2]\n"
     ]
    }
   ],
   "source": [
    "# Visualizando os vertices\n",
    "print(G.nodes())"
   ]
  },
  {
   "cell_type": "code",
   "execution_count": 5,
   "metadata": {},
   "outputs": [],
   "source": [
    "#adicionando arestas\n",
    "G.add_edge(1, 2)"
   ]
  },
  {
   "cell_type": "code",
   "execution_count": 6,
   "metadata": {},
   "outputs": [],
   "source": [
    "# total de vertices e arestas\n",
    "n_vertices = G.number_of_nodes()\n",
    "n_arestas = G.number_of_edges()"
   ]
  },
  {
   "cell_type": "code",
   "execution_count": 7,
   "metadata": {},
   "outputs": [
    {
     "name": "stdout",
     "output_type": "stream",
     "text": [
      "vertices:  2 \n",
      "arestas:  1\n"
     ]
    }
   ],
   "source": [
    "print('vertices: ', n_vertices, '\\narestas: ', n_arestas)"
   ]
  },
  {
   "cell_type": "code",
   "execution_count": 8,
   "metadata": {},
   "outputs": [
    {
     "name": "stdout",
     "output_type": "stream",
     "text": [
      "[1, 2, 4, 5]\n"
     ]
    }
   ],
   "source": [
    "G.add_edge(4, 5)\n",
    "print(G.nodes())"
   ]
  },
  {
   "cell_type": "code",
   "execution_count": 9,
   "metadata": {},
   "outputs": [
    {
     "name": "stdout",
     "output_type": "stream",
     "text": [
      "[(1, 2), (4, 5)]\n"
     ]
    }
   ],
   "source": [
    "print(G.edges)"
   ]
  },
  {
   "cell_type": "code",
   "execution_count": 26,
   "metadata": {},
   "outputs": [
    {
     "data": {
      "image/png": "[encoded data removed]",
      "text/plain": [
       "<Figure size 432x288 with 1 Axes>"
      ]
     },
     "metadata": {},
     "output_type": "display_data"
    }
   ],
   "source": [
    "nx.draw(G)"
   ]
  },
  {
   "cell_type": "code",
   "execution_count": 10,
   "metadata": {},
   "outputs": [
    {
     "name": "stdout",
     "output_type": "stream",
     "text": [
      "[1, 2, 4, 5]\n",
      "[1, 4, 5]\n"
     ]
    }
   ],
   "source": [
    "# adicionando vertices\n",
    "G.add_node(1)\n",
    "G.add_node(2) \n",
    "print(G.nodes()) #[1, 2]\n",
    "\n",
    "# remove o nó 2\n",
    "G.remove_node(2)\n",
    "print(G.nodes())\n",
    " #[1]"
   ]
  },
  {
   "cell_type": "code",
   "execution_count": 11,
   "metadata": {},
   "outputs": [
    {
     "data": {
      "image/png": "[encoded data removed]",
      "text/plain": [
       "<Figure size 432x288 with 1 Axes>"
      ]
     },
     "metadata": {},
     "output_type": "display_data"
    }
   ],
   "source": [
    "nx.draw(G)"
   ]
  },
  {
   "cell_type": "code",
   "execution_count": 12,
   "metadata": {},
   "outputs": [],
   "source": [
    "#adicionar arestas sem a necessidade de incluir cada um dos itens\n",
    "G.add_edge(3, 4)\n",
    "G.add_edge(1, 3)\n",
    "G.add_edge(5, 6)\n",
    "G.add_edge(5, 9)\n",
    "G.add_edge(7, 8)\n",
    "G.add_edge(1, 8)\n",
    "G.add_edge(1, 4)"
   ]
  },
  {
   "cell_type": "code",
   "execution_count": 13,
   "metadata": {},
   "outputs": [
    {
     "data": {
      "image/png": "[encoded data removed]",
      "text/plain": [
       "<Figure size 432x288 with 1 Axes>"
      ]
     },
     "metadata": {},
     "output_type": "display_data"
    }
   ],
   "source": [
    "nx.draw(G)  # imprimindo o grafo"
   ]
  },
  {
   "cell_type": "code",
   "execution_count": 14,
   "metadata": {},
   "outputs": [
    {
     "data": {
      "image/png": "[encoded data removed]",
      "text/plain": [
       "<Figure size 432x288 with 1 Axes>"
      ]
     },
     "metadata": {},
     "output_type": "display_data"
    }
   ],
   "source": [
    "#Podemos adicionar rótulos aos nós usando o atributo with_labels\n",
    "nx.draw(G, with_labels=True)"
   ]
  },
  {
   "cell_type": "code",
   "execution_count": 15,
   "metadata": {},
   "outputs": [
    {
     "data": {
      "image/png": "[encoded data removed]",
      "text/plain": [
       "<Figure size 432x288 with 1 Axes>"
      ]
     },
     "metadata": {},
     "output_type": "display_data"
    }
   ],
   "source": [
    "#Alterar a cor e o tamanho dos vértices com as propriedades node_size e node_color, respectivamente\n",
    "nx.draw(G, with_labels=True, node_size=1200, node_color='red')"
   ]
  },
  {
   "cell_type": "code",
   "execution_count": 33,
   "metadata": {},
   "outputs": [
    {
     "name": "stdout",
     "output_type": "stream",
     "text": [
      "1\n"
     ]
    }
   ],
   "source": [
    "# verificando a quantidade de subgrafos\n",
    "# Subgrafo: partes do grafo que não se conectam entre si\n",
    "subgrafos = [G.subgraph(s) for s in nx.connected_components(G)]\n",
    "print(len(subgrafos))"
   ]
  },
  {
   "cell_type": "code",
   "execution_count": 34,
   "metadata": {},
   "outputs": [
    {
     "data": {
      "image/png": "[encoded data removed]",
      "text/plain": [
       "<Figure size 432x288 with 1 Axes>"
      ]
     },
     "metadata": {},
     "output_type": "display_data"
    }
   ],
   "source": [
    "#plotar os diferentes subgrafos com cores distintas\n",
    "nx.draw(\n",
    "    subgrafos[0],       # subgrafo na posição 0\n",
    "    with_labels=True,   # mostrar rótulos\n",
    "    node_size=800,      # aumentar tamanho\n",
    "    node_color='red'    # cor vermelha\n",
    ")\n",
    "\n",
    "nx.draw(\n",
    "    subgrafos[0],       # subgrafo na posição 0\n",
    "    with_labels=True,   # mostrar rótulos\n",
    "    node_size=800,      # aumentar tamanho\n",
    "    node_color='green'  # cor verde\n",
    ")"
   ]
  },
  {
   "cell_type": "code",
   "execution_count": 35,
   "metadata": {},
   "outputs": [
    {
     "data": {
      "image/png": "[encoded data removed]",
      "text/plain": [
       "<Figure size 432x288 with 1 Axes>"
      ]
     },
     "metadata": {},
     "output_type": "display_data"
    }
   ],
   "source": [
    "# grafo vermelho - circular\n",
    "#erceba que alguns nós se sobrepõe. A definição da posição de impressão é aleatória.\n",
    "#Entretanto, podemos utilizar algumas variações da função draw para alterar a forma de plotagem. \n",
    "nx.draw_circular(\n",
    "    subgrafos[0], \n",
    "    with_labels=True, \n",
    "    node_size=800, \n",
    "    node_color='red'\n",
    ")\n",
    "\n",
    "# grafo verde - posições aleatórias\n",
    "nx.draw_random(\n",
    "    subgrafos[0], \n",
    "    with_labels=True, \n",
    "    node_size=800, \n",
    "    node_color='green'\n",
    ")"
   ]
  },
  {
   "cell_type": "code",
   "execution_count": 36,
   "metadata": {},
   "outputs": [
    {
     "name": "stdout",
     "output_type": "stream",
     "text": [
      "  node_1 node_2\n",
      "0      1      2\n",
      "1      1      5\n",
      "2      2      3\n",
      "3      2      5\n",
      "4      3      4\n",
      "5      4      5\n",
      "6      4      6\n"
     ]
    }
   ],
   "source": [
    "#Convertendo um CSV em um grafo\n",
    "#Carregando um CSV com pandas\n",
    "import pandas as pd  # importa o pandas \n",
    "\n",
    "# carregar os nós\n",
    "with open(\"Pasta1.csv\") as f:\n",
    "     pares = f.read().splitlines()\n",
    "\n",
    "# pega os nós em duas listas separadas\n",
    "node_1 = []\n",
    "node_2 = []\n",
    "\n",
    "# separando os nós em listas separadas\n",
    "for i, cont in zip(pares, range(len(pares))):\n",
    "\n",
    "    if cont == 0:\n",
    "             continue  # ignora a primeira linha\n",
    "\n",
    "    node_1.append(i.split(',')[0])\n",
    "    node_2.append(i.split(',')[1])\n",
    "\n",
    "# cria um dataframe PANDAS para armazenar os dados\n",
    "df = pd.DataFrame({'node_1': node_1, 'node_2': node_2})\n",
    "\n",
    "print(df)"
   ]
  },
  {
   "cell_type": "code",
   "execution_count": 37,
   "metadata": {},
   "outputs": [
    {
     "data": {
      "image/png": "[encoded data removed]",
      "text/plain": [
       "<Figure size 432x288 with 1 Axes>"
      ]
     },
     "metadata": {},
     "output_type": "display_data"
    }
   ],
   "source": [
    "#Convertendo um DataFrame do pandas em um grafo do networkx\n",
    "import networkx as nx\n",
    "import matplotlib.pyplot as plt\n",
    "\n",
    "G = nx.from_pandas_edgelist(\n",
    "    df, \n",
    "    \"node_1\", \n",
    "    \"node_2\", \n",
    "    create_using=nx.Graph()\n",
    ")\n",
    "\n",
    "# plota o grafo\n",
    "nx.draw(G, with_labels=True,  node_size = 1000)\n",
    "plt.show()"
   ]
  },
  {
   "cell_type": "code",
   "execution_count": 38,
   "metadata": {},
   "outputs": [],
   "source": [
    "#Salvando grafos em CSV\n",
    "#gravando um grafo como arquivo csv\n",
    "nx.write_edgelist(\n",
    "     G,                # grafo\n",
    "     \"grafo2.csv\",     # nome do arquivo\n",
    "     delimiter=\",\",    # separador\n",
    "     data=False,       # se True, grava dados do peso das arestas\n",
    "     encoding='utf-8'  # codificação\n",
    " )"
   ]
  },
  {
   "cell_type": "code",
   "execution_count": 39,
   "metadata": {},
   "outputs": [],
   "source": [
    "#Lendo arquivos CSV como grafos\n",
    "G2 = nx.read_edgelist(\"grafo2.csv\", delimiter=\",\")"
   ]
  },
  {
   "cell_type": "code",
   "execution_count": 40,
   "metadata": {},
   "outputs": [
    {
     "name": "stdout",
     "output_type": "stream",
     "text": [
      "A matriz de adjacências é:\n",
      "[0, 1, 0, 0]\n",
      "[0, 0, 1, 0]\n",
      "[0, 0, 0, 1]\n",
      "[0, 0, 0, 0]\n"
     ]
    }
   ],
   "source": [
    "#Construção da matriz de adjacências, sem pesos nas arestas\n",
    "class Grafo1:\n",
    "\n",
    "\n",
    "    def __init__(self, vertices):  #A matriz de adjacências é quadrada (linhas=colunas=vértices)\n",
    "        self.vertices = vertices\n",
    "        self.grafo = [[0]*self.vertices for i in range(self.vertices)]  #Matriz de adjacências com zeros. Lista dentro de listas.\n",
    "\n",
    "    def adiciona_aresta(self, u, v):\n",
    "        # para o caso de grafos direcionados simples\n",
    "        self.grafo[u-1][v-1] = 1  #trocar = por += para grafo múltiplo. Matriz de adjacências.\n",
    "\n",
    "       # self.grafo[v-1][u-1] = 1 (caso o grafo não seja direcionado) Grafo não -derecinado possui matriz simétrica.\n",
    "\n",
    "    def mostra_matriz(self):\n",
    "        print('A matriz de adjacências é:')\n",
    "        for i in range(self.vertices):\n",
    "            print(self.grafo[i])\n",
    "\n",
    "\n",
    "g = Grafo1(4)\n",
    "\n",
    "g.adiciona_aresta(1, 2)\n",
    "g.adiciona_aresta(3, 4)\n",
    "g.adiciona_aresta(2, 3)\n",
    "\n",
    "g.mostra_matriz()"
   ]
  },
  {
   "cell_type": "code",
   "execution_count": 41,
   "metadata": {},
   "outputs": [
    {
     "name": "stdout",
     "output_type": "stream",
     "text": [
      "Digite a quantidade de vértices:  4\n",
      "Digite a quantidade de arestas:  4\n",
      "De qual vértice parte a aresta? 1\n",
      "Para qual vértice chega a aresta? 2\n",
      "Qual é o peso desta aresta? 3\n",
      "De qual vértice parte a aresta? 2\n",
      "Para qual vértice chega a aresta? 4\n",
      "Qual é o peso desta aresta? 6\n",
      "De qual vértice parte a aresta? 1\n",
      "Para qual vértice chega a aresta? 3\n",
      "Qual é o peso desta aresta? 6\n",
      "De qual vértice parte a aresta? 4\n",
      "Para qual vértice chega a aresta? 3\n",
      "Qual é o peso desta aresta? 1\n",
      "A matriz de adjacências é:\n",
      "[0, 3, 6, 0]\n",
      "[0, 0, 0, 6]\n",
      "[0, 0, 0, 0]\n",
      "[0, 0, 1, 0]\n"
     ]
    }
   ],
   "source": [
    "#Matriz de adjacências, com pesos nas arestas\n",
    "class Grafo:\n",
    "\n",
    "\n",
    "    def __init__(self, vertices):\n",
    "        self.vertices = vertices\n",
    "        self.grafo = [[0]*self.vertices for i in range(self.vertices)]\n",
    "\n",
    "    def adiciona_aresta(self, u, v, peso):\n",
    "        # estou pensando em grafos direcionados simples\n",
    "        self.grafo[u-1][v-1] = peso  #trocar = por += ser for grafo múltiplo, aqui altera-se o valor anterior pelo peso.\n",
    "\n",
    "       # self.grafo[v-1][u-1] = 1 (caso o grafo não seja direcionado)\n",
    "\n",
    "    def mostra_matriz(self):\n",
    "        print('A matriz de adjacências é:')\n",
    "        for i in range(self.vertices):\n",
    "            print(self.grafo[i])\n",
    "\n",
    "#g = Grafo(4)\n",
    "\n",
    "#g.adiciona_aresta(1, 2, 5)\n",
    "#g.adiciona_aresta(3, 4, 9)\n",
    "#g.adiciona_aresta(2, 3, 3)\n",
    "\n",
    "#g.mostra_matriz()\n",
    "\n",
    "v = int(input('Digite a quantidade de vértices:  '))\n",
    "g = Grafo(v)\n",
    "\n",
    "a = int(input('Digite a quantidade de arestas:  '))\n",
    "for i in range(a):\n",
    "    u = int(input('De qual vértice parte a aresta? '))\n",
    "    v = int(input('Para qual vértice chega a aresta? '))\n",
    "    p = int(input('Qual é o peso desta aresta? '))\n",
    "    g.adiciona_aresta(u, v, p)\n",
    "\n",
    "g.mostra_matriz()"
   ]
  },
  {
   "cell_type": "code",
   "execution_count": 42,
   "metadata": {},
   "outputs": [
    {
     "name": "stdout",
     "output_type": "stream",
     "text": [
      "1:  2  ->  3  ->  4  ->  \n",
      "2:  3  ->  \n",
      "3:  \n",
      "4:  \n"
     ]
    }
   ],
   "source": [
    "#Lista de adjacências: Grafo direcioando e sem pesos\n",
    "class Grafo:\n",
    "\n",
    "    def __init__(self, vertices):\n",
    "        self.vertices = vertices\n",
    "        self.grafo = [[] for i in range(self.vertices)]\n",
    "\n",
    "    def adiciona_aresta(self, u, v):\n",
    "        # estamos pensando em grafo direcionado sem peso nas arestas\n",
    "        self.grafo[u-1].append(v)\n",
    "\n",
    "        # self.grafo[v-1].append(u) se o grafo não for direcionado\n",
    "\n",
    "    def mostra_lista(self):\n",
    "        for i in range(self.vertices):\n",
    "            print(f'{i+1}:', end='  ')\n",
    "            for j in self.grafo[i]:\n",
    "                print(f'{j}  ->', end='  ')\n",
    "            print('')\n",
    "\n",
    "g = Grafo(4)\n",
    "\n",
    "g.adiciona_aresta(1,2)\n",
    "g.adiciona_aresta(1,3)\n",
    "g.adiciona_aresta(1,4)\n",
    "g.adiciona_aresta(2,3)\n",
    "\n",
    "g.mostra_lista()"
   ]
  },
  {
   "cell_type": "code",
   "execution_count": 43,
   "metadata": {},
   "outputs": [
    {
     "name": "stdout",
     "output_type": "stream",
     "text": [
      "1:  [2, 5]  ->  [3, 7]  ->  [4, 6]  ->  \n",
      "2:  [3, 9]  ->  \n",
      "3:  \n",
      "4:  \n"
     ]
    }
   ],
   "source": [
    "#Lista de adjacências: Grafo direcioando e com pesos\n",
    "class Grafo:\n",
    "\n",
    "    def __init__(self, vertices):\n",
    "        self.vertices = vertices\n",
    "        self.grafo = [[] for i in range(self.vertices)]\n",
    "\n",
    "    def adiciona_aresta(self, u, v, peso):\n",
    "        # estamos pensando em grafo direcionado com peso nas arestas\n",
    "        self.grafo[u-1].append([v, peso])\n",
    "\n",
    "        # self.grafo[v-1].append([u,peso]) se o grafo não for direcionado\n",
    "\n",
    "    def mostra_lista(self):\n",
    "        for i in range(self.vertices):\n",
    "            print(f'{i+1}:', end='  ')\n",
    "            for j in self.grafo[i]:\n",
    "                print(f'{j}  ->', end='  ')\n",
    "            print('')\n",
    "\n",
    "g = Grafo(4)\n",
    "\n",
    "g.adiciona_aresta(1, 2, 5)\n",
    "g.adiciona_aresta(1, 3, 7)\n",
    "g.adiciona_aresta(1, 4, 6)\n",
    "g.adiciona_aresta(2, 3, 9)\n",
    "\n",
    "g.mostra_lista()"
   ]
  },
  {
   "cell_type": "markdown",
   "metadata": {},
   "source": [
    "# Construindo o segundo grafo"
   ]
  },
  {
   "cell_type": "code",
   "execution_count": 1,
   "metadata": {},
   "outputs": [],
   "source": [
    "#Grafo2\n",
    "import networkx as nx\n",
    "Grafo2 = nx.Graph()"
   ]
  },
  {
   "cell_type": "code",
   "execution_count": 2,
   "metadata": {},
   "outputs": [],
   "source": [
    "# adicionando vertices\n",
    "Grafo2.add_node(0)\n",
    "Grafo2.add_node(1)\n",
    "Grafo2.add_node(2)\n",
    "Grafo2.add_node(3)\n",
    "Grafo2.add_node(4)\n",
    "Grafo2.add_node(5)"
   ]
  },
  {
   "cell_type": "code",
   "execution_count": 3,
   "metadata": {},
   "outputs": [
    {
     "name": "stdout",
     "output_type": "stream",
     "text": [
      "[0, 1, 2, 3, 4, 5]\n"
     ]
    }
   ],
   "source": [
    "# Visualizando os vertices\n",
    "print(Grafo2.nodes())"
   ]
  },
  {
   "cell_type": "code",
   "execution_count": 4,
   "metadata": {},
   "outputs": [],
   "source": [
    "#adicionando arestas\n",
    "Grafo2.add_edge(0, 1)\n",
    "Grafo2.add_edge(0, 2)\n",
    "Grafo2.add_edge(0, 3)\n",
    "Grafo2.add_edge(0, 4)\n",
    "Grafo2.add_edge(0, 5)"
   ]
  },
  {
   "cell_type": "code",
   "execution_count": 5,
   "metadata": {},
   "outputs": [],
   "source": [
    "Grafo2.add_edge(1, 2)\n",
    "Grafo2.add_edge(2, 3)\n",
    "Grafo2.add_edge(3, 4)\n",
    "Grafo2.add_edge(4, 5)\n",
    "Grafo2.add_edge(5, 1)"
   ]
  },
  {
   "cell_type": "code",
   "execution_count": 6,
   "metadata": {},
   "outputs": [
    {
     "name": "stdout",
     "output_type": "stream",
     "text": [
      "[(0, 1), (0, 2), (0, 3), (0, 4), (0, 5), (1, 2), (1, 5), (2, 3), (3, 4), (4, 5)]\n"
     ]
    }
   ],
   "source": [
    "print(Grafo2.edges())"
   ]
  },
  {
   "cell_type": "code",
   "execution_count": 7,
   "metadata": {},
   "outputs": [
    {
     "data": {
      "image/png": "[encoded data removed]",
      "text/plain": [
       "<Figure size 432x288 with 1 Axes>"
      ]
     },
     "metadata": {},
     "output_type": "display_data"
    }
   ],
   "source": [
    "# imprimindo o grafo\n",
    "nx.draw(Grafo2) "
   ]
  },
  {
   "cell_type": "code",
   "execution_count": 8,
   "metadata": {},
   "outputs": [
    {
     "data": {
      "image/png": "[encoded data removed]",
      "text/plain": [
       "<Figure size 432x288 with 1 Axes>"
      ]
     },
     "metadata": {},
     "output_type": "display_data"
    }
   ],
   "source": [
    "#Podemos adicionar rótulos aos nós usando o atributo with_labels\n",
    "nx.draw(Grafo2, with_labels=True)"
   ]
  },
  {
   "cell_type": "code",
   "execution_count": 9,
   "metadata": {},
   "outputs": [
    {
     "data": {
      "image/png": "[encoded data removed]",
      "text/plain": [
       "<Figure size 432x288 with 1 Axes>"
      ]
     },
     "metadata": {},
     "output_type": "display_data"
    }
   ],
   "source": [
    "#Alterar a cor e o tamanho dos vértices com as propriedades node_size e node_color, respectivamente\n",
    "nx.draw(Grafo2, with_labels=True, node_size=1200, node_color='red',edge_color=\"tab:blue\")"
   ]
  },
  {
   "cell_type": "code",
   "execution_count": 10,
   "metadata": {},
   "outputs": [
    {
     "name": "stdout",
     "output_type": "stream",
     "text": [
      "  (0, 1)\t1\n",
      "  (0, 2)\t1\n",
      "  (0, 3)\t1\n",
      "  (0, 4)\t1\n",
      "  (0, 5)\t1\n",
      "  (1, 0)\t1\n",
      "  (1, 2)\t1\n",
      "  (1, 5)\t1\n",
      "  (2, 0)\t1\n",
      "  (2, 1)\t1\n",
      "  (2, 3)\t1\n",
      "  (3, 0)\t1\n",
      "  (3, 2)\t1\n",
      "  (3, 4)\t1\n",
      "  (4, 0)\t1\n",
      "  (4, 3)\t1\n",
      "  (4, 5)\t1\n",
      "  (5, 0)\t1\n",
      "  (5, 1)\t1\n",
      "  (5, 4)\t1\n",
      "------------------------------------------\n",
      "[[0 1 1 1 1 1]\n",
      " [1 0 1 0 0 1]\n",
      " [1 1 0 1 0 0]\n",
      " [1 0 1 0 1 0]\n",
      " [1 0 0 1 0 1]\n",
      " [1 1 0 0 1 0]]\n"
     ]
    }
   ],
   "source": [
    "A = nx.adjacency_matrix(Grafo2)\n",
    "print(A)\n",
    "print(\"------------------------------------------\")\n",
    "Matriz = A.todense()\n",
    "print(A.todense())"
   ]
  },
  {
   "cell_type": "code",
   "execution_count": 11,
   "metadata": {},
   "outputs": [
    {
     "name": "stdout",
     "output_type": "stream",
     "text": [
      "O determinante de A é:  -4.999999999999998\n",
      "A norma da matriz é:  4.47213595499958\n",
      "O rank da matriz A é:  6\n",
      "A inversa de A é:  [[-0.4  0.2  0.2  0.2  0.2  0.2]\n",
      " [ 0.2  0.4  0.4 -0.6 -0.6  0.4]\n",
      " [ 0.2  0.4  0.4  0.4 -0.6 -0.6]\n",
      " [ 0.2 -0.6  0.4  0.4  0.4 -0.6]\n",
      " [ 0.2 -0.6 -0.6  0.4  0.4  0.4]\n",
      " [ 0.2  0.4 -0.6 -0.6  0.4  0.4]]\n"
     ]
    }
   ],
   "source": [
    "import numpy as np  # Ax=b, então x=inv(A).b\n",
    "Determinante = np.linalg.det(Matriz)    # Se o determinante não é nulo, então os vetores são LI(Linearmente Indpendentes)\n",
    "print(\"O determinante de A é: \", Determinante)\n",
    "\n",
    "norma = np.linalg.norm(Matriz)\n",
    "print(\"A norma da matriz é: \", norma)\n",
    "\n",
    "\n",
    "rank = np.linalg.matrix_rank(Matriz)\n",
    "print(\"O rank da matriz A é: \", rank)\n",
    "\n",
    "Inversa = np.linalg.inv(Matriz)\n",
    "print(\"A inversa de A é: \", Inversa)"
   ]
  },
  {
   "cell_type": "code",
   "execution_count": 72,
   "metadata": {},
   "outputs": [
    {
     "name": "stdout",
     "output_type": "stream",
     "text": [
      "  (0, 0)\t1.0\n",
      "  (1, 0)\t1.0\n",
      "  (0, 1)\t1.0\n",
      "  (2, 1)\t1.0\n",
      "  (0, 2)\t1.0\n",
      "  (3, 2)\t1.0\n",
      "  (0, 3)\t1.0\n",
      "  (4, 3)\t1.0\n",
      "  (0, 4)\t1.0\n",
      "  (5, 4)\t1.0\n",
      "  (1, 5)\t1.0\n",
      "  (2, 5)\t1.0\n",
      "  (1, 6)\t1.0\n",
      "  (5, 6)\t1.0\n",
      "  (2, 7)\t1.0\n",
      "  (3, 7)\t1.0\n",
      "  (3, 8)\t1.0\n",
      "  (4, 8)\t1.0\n",
      "  (4, 9)\t1.0\n",
      "  (5, 9)\t1.0\n",
      "------------------------------------------\n",
      "[[1. 1. 1. 1. 1. 0. 0. 0. 0. 0.]\n",
      " [1. 0. 0. 0. 0. 1. 1. 0. 0. 0.]\n",
      " [0. 1. 0. 0. 0. 1. 0. 1. 0. 0.]\n",
      " [0. 0. 1. 0. 0. 0. 0. 1. 1. 0.]\n",
      " [0. 0. 0. 1. 0. 0. 0. 0. 1. 1.]\n",
      " [0. 0. 0. 0. 1. 0. 1. 0. 0. 1.]]\n"
     ]
    }
   ],
   "source": [
    "A1 = nx.incidence_matrix(Grafo2)\n",
    "print(A1)\n",
    "print(\"------------------------------------------\")\n",
    "print(A1.todense())"
   ]
  },
  {
   "cell_type": "code",
   "execution_count": 75,
   "metadata": {},
   "outputs": [
    {
     "name": "stdout",
     "output_type": "stream",
     "text": [
      "Largest eigenvalue: 1.5393446629166323\n",
      "Smallest eigenvalue: 0.0\n"
     ]
    },
    {
     "data": {
      "image/png": "[encoded data removed]",
      "text/plain": [
       "<Figure size 432x288 with 1 Axes>"
      ]
     },
     "metadata": {
      "needs_background": "light"
     },
     "output_type": "display_data"
    }
   ],
   "source": [
    "# Autovalores \n",
    "import matplotlib.pyplot as plt\n",
    "import networkx as nx\n",
    "import numpy.linalg\n",
    "\n",
    "n = 6  # number of nodes\n",
    "m = 10  # number of edges\n",
    "#Grafo2 = nx.gnm_random_graph(n, m, seed=5040)  # Seed for reproducibility\n",
    "\n",
    "L = nx.normalized_laplacian_matrix(Grafo2)\n",
    "e = numpy.linalg.eigvals(L.A)\n",
    "print(\"Largest eigenvalue:\", max(e))\n",
    "print(\"Smallest eigenvalue:\", min(e))\n",
    "plt.hist(e, bins=10)  # histogram with 100 bins\n",
    "plt.xlim(0, 2)  # eigenvalues between 0 and 2\n",
    "plt.grid(True)\n",
    "plt.show()"
   ]
  },
  {
   "cell_type": "code",
   "execution_count": 80,
   "metadata": {},
   "outputs": [
    {
     "data": {
      "image/png": "[encoded data removed]",
      "text/plain": [
       "<Figure size 432x288 with 1 Axes>"
      ]
     },
     "metadata": {},
     "output_type": "display_data"
    }
   ],
   "source": [
    "import matplotlib.pyplot as plt\n",
    "import networkx as nx\n",
    "\n",
    "G = nx.cubical_graph()\n",
    "pos = nx.spring_layout(G, seed=3113794602)  # positions for all nodes\n",
    "\n",
    "# nodes\n",
    "options = {\"edgecolors\": \"tab:gray\", \"node_size\": 800, \"alpha\": 0.9}\n",
    "nx.draw_networkx_nodes(G, pos, nodelist=[0, 1, 2, 3], node_color=\"tab:red\", **options)\n",
    "nx.draw_networkx_nodes(G, pos, nodelist=[4, 5, 6, 7], node_color=\"tab:blue\", **options)\n",
    "\n",
    "# edges\n",
    "nx.draw_networkx_edges(G, pos, width=1.0, alpha=0.5)\n",
    "nx.draw_networkx_edges(\n",
    "    G,\n",
    "    pos,\n",
    "    edgelist=[(0, 1), (1, 2), (2, 3), (3, 0)],\n",
    "    width=8,\n",
    "    alpha=0.5,\n",
    "    edge_color=\"tab:red\",\n",
    ")\n",
    "nx.draw_networkx_edges(\n",
    "    G,\n",
    "    pos,\n",
    "    edgelist=[(4, 5), (5, 6), (6, 7), (7, 4)],\n",
    "    width=8,\n",
    "    alpha=0.5,\n",
    "    edge_color=\"tab:blue\",\n",
    ")\n",
    "\n",
    "\n",
    "# some math labels\n",
    "labels = {}\n",
    "labels[0] = r\"$a$\"\n",
    "labels[1] = r\"$b$\"\n",
    "labels[2] = r\"$c$\"\n",
    "labels[3] = r\"$d$\"\n",
    "labels[4] = r\"$\\alpha$\"\n",
    "labels[5] = r\"$\\beta$\"\n",
    "labels[6] = r\"$\\gamma$\"\n",
    "labels[7] = r\"$\\delta$\"\n",
    "nx.draw_networkx_labels(G, pos, labels, font_size=22, font_color=\"whitesmoke\")\n",
    "\n",
    "plt.tight_layout()\n",
    "plt.axis(\"off\")\n",
    "plt.show()"
   ]
  },
  {
   "cell_type": "code",
   "execution_count": 29,
   "metadata": {},
   "outputs": [
    {
     "data": {
      "text/plain": [
       "EdgeDataView([(1, 2, {'weight': 1}), (1, 4, {'weight': 1}), (2, 4, {'weight': 1}), (4, 3, {'weight': 1})])"
      ]
     },
     "execution_count": 29,
     "metadata": {},
     "output_type": "execute_result"
    }
   ],
   "source": [
    "import networkx as nx\n",
    "G=nx.Graph()\n",
    "G.add_weighted_edges_from([(1,2,1),(1,4,1),(3,4,1),(4,2,1)])\n",
    "G.edges(data=True)  #print out the edges with weight"
   ]
  },
  {
   "cell_type": "code",
   "execution_count": 30,
   "metadata": {},
   "outputs": [
    {
     "data": {
      "image/png": "[encoded data removed]",
      "text/plain": [
       "<Figure size 432x288 with 1 Axes>"
      ]
     },
     "metadata": {},
     "output_type": "display_data"
    }
   ],
   "source": [
    "nx.draw(G, with_labels=True, edge_labels=True)"
   ]
  },
  {
   "cell_type": "code",
   "execution_count": null,
   "metadata": {},
   "outputs": [],
   "source": []
  }
 ],
 "metadata": {
  "kernelspec": {
   "display_name": "Python 3",
   "language": "python",
   "name": "python3"
  },
  "language_info": {
   "codemirror_mode": {
    "name": "ipython",
    "version": 3
   },
   "file_extension": ".py",
   "mimetype": "text/x-python",
   "name": "python",
   "nbconvert_exporter": "python",
   "pygments_lexer": "ipython3",
   "version": "3.7.6"
  }
 },
 "nbformat": 4,
 "nbformat_minor": 4
}
