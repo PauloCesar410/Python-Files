{
 "cells": [
  {
   "cell_type": "code",
   "execution_count": 1,
   "metadata": {},
   "outputs": [],
   "source": [
    "from numpy import*\n",
    "import math"
   ]
  },
  {
   "cell_type": "code",
   "execution_count": 2,
   "metadata": {},
   "outputs": [
    {
     "name": "stdout",
     "output_type": "stream",
     "text": [
      "Método da Secante\n"
     ]
    }
   ],
   "source": [
    "print(\"Método da Secante\")"
   ]
  },
  {
   "cell_type": "code",
   "execution_count": 3,
   "metadata": {},
   "outputs": [
    {
     "name": "stdout",
     "output_type": "stream",
     "text": [
      "Digite os valores de x0 e x1\n"
     ]
    }
   ],
   "source": [
    "print(\"Digite os valores de x0 e x1\")"
   ]
  },
  {
   "cell_type": "code",
   "execution_count": 1,
   "metadata": {},
   "outputs": [
    {
     "name": "stdout",
     "output_type": "stream",
     "text": [
      "Digite o valor de x0: 1.5\n"
     ]
    }
   ],
   "source": [
    "x=float(input(\"Digite o valor de x0: \"))"
   ]
  },
  {
   "cell_type": "code",
   "execution_count": 2,
   "metadata": {},
   "outputs": [
    {
     "name": "stdout",
     "output_type": "stream",
     "text": [
      "Digite o valor de x1: 5.0\n"
     ]
    }
   ],
   "source": [
    "x1=float(input(\"Digite o valor de x1: \"))"
   ]
  },
  {
   "cell_type": "code",
   "execution_count": 3,
   "metadata": {},
   "outputs": [
    {
     "name": "stdout",
     "output_type": "stream",
     "text": [
      "Digite o valor da precisão:  0.0001\n"
     ]
    }
   ],
   "source": [
    "epsilon =eval(input(\"Digite o valor da precisão:  \"))"
   ]
  },
  {
   "cell_type": "code",
   "execution_count": 4,
   "metadata": {},
   "outputs": [
    {
     "name": "stdout",
     "output_type": "stream",
     "text": [
      "Escreva a função f:  x**2+x-6\n"
     ]
    }
   ],
   "source": [
    "y1=input(\"Escreva a função f:  \")"
   ]
  },
  {
   "cell_type": "code",
   "execution_count": 5,
   "metadata": {},
   "outputs": [],
   "source": [
    "def f(x):\n",
    "    y=eval(y1)\n",
    "    return y"
   ]
  },
  {
   "cell_type": "code",
   "execution_count": 6,
   "metadata": {},
   "outputs": [
    {
     "name": "stdout",
     "output_type": "stream",
     "text": [
      "2.000000000000337\n"
     ]
    }
   ],
   "source": [
    "k=0  #contador\n",
    "while abs(f(x))>epsilon:\n",
    "    x2 = x1 - (f(x1)*(x1-x))/(f(x1)-f(x))\n",
    "    x=x1\n",
    "    x1=x2\n",
    "    k=k+1\n",
    "print(x2)"
   ]
  },
  {
   "cell_type": "code",
   "execution_count": 7,
   "metadata": {},
   "outputs": [
    {
     "name": "stdout",
     "output_type": "stream",
     "text": [
      "A raiz para a função f é x**2+x-6 é aproximadamente x= 2.000000000000337 com 6 iterações\n"
     ]
    }
   ],
   "source": [
    "print('A raiz para a função f é',y1,'é aproximadamente x=',x2, 'com', k, 'iterações')"
   ]
  },
  {
   "cell_type": "code",
   "execution_count": null,
   "metadata": {},
   "outputs": [],
   "source": []
  }
 ],
 "metadata": {
  "kernelspec": {
   "display_name": "Python 3",
   "language": "python",
   "name": "python3"
  },
  "language_info": {
   "codemirror_mode": {
    "name": "ipython",
    "version": 3
   },
   "file_extension": ".py",
   "mimetype": "text/x-python",
   "name": "python",
   "nbconvert_exporter": "python",
   "pygments_lexer": "ipython3",
   "version": "3.7.6"
  }
 },
 "nbformat": 4,
 "nbformat_minor": 4
}
