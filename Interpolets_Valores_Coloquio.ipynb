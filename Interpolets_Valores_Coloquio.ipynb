{
 "cells": [
  {
   "cell_type": "code",
   "execution_count": 1,
   "metadata": {},
   "outputs": [],
   "source": [
    "import numpy as np   # Código em python para as wavelets de Interpolets de gênero 4\n"
   ]
  },
  {
   "cell_type": "code",
   "execution_count": 2,
   "metadata": {},
   "outputs": [],
   "source": [
    "a=(0.683012701892219,1.183012701892219,0.316987298107781,-0.183012701892219) # Coeficientes de Daubechies de gênero 4"
   ]
  },
  {
   "cell_type": "code",
   "execution_count": 3,
   "metadata": {},
   "outputs": [
    {
     "name": "stdout",
     "output_type": "stream",
     "text": [
      "Matriz A \n",
      " [[1 1]\n",
      " [1 9]]\n",
      "Vetor b \n",
      " [0.5 0. ]\n",
      "Solução de Ax=b é c =  [ 0.5625 -0.0625]\n"
     ]
    }
   ],
   "source": [
    "A = np.array( ((1, 1), (1, 9)) )  # Código para o cálculo dos coeficientes de filtro das interpolets de Deslauriers-Dubuc\n",
    "print(\"Matriz A \\n\",A)\n",
    "b = np.array((0.5, 0))\n",
    "print(\"Vetor b \\n\",b)\n",
    "c  = np.linalg.solve(A, b)\n",
    "print(\"Solução de Ax=b é c = \",c)\n"
   ]
  },
  {
   "cell_type": "code",
   "execution_count": 4,
   "metadata": {},
   "outputs": [
    {
     "name": "stdout",
     "output_type": "stream",
     "text": [
      "(-0.0625, 0.0, 0.5625, 1.0, 0.5625, 0.0, -0.0625)\n"
     ]
    }
   ],
   "source": [
    "coeficientes =(c[1],0.0,c[0],1.0,c[0],0.0,c[1])\n",
    "print(coeficientes)\n",
    "for i in range(-3,3,-1):\n",
    "    print(coeficientes[i])"
   ]
  },
  {
   "cell_type": "code",
   "execution_count": 5,
   "metadata": {},
   "outputs": [
    {
     "name": "stdout",
     "output_type": "stream",
     "text": [
      "0.9330127018912143\n"
     ]
    }
   ],
   "source": [
    "def wavelet_escala(x):\n",
    "    wavelet_val=0\n",
    "    if (x==3 or x==0):\n",
    "        return 0\n",
    "    elif (x==1):\n",
    "        return 1.366025403782968\n",
    "    elif (x==2):\n",
    "        return -0.366025403782968\n",
    "    elif (x<0 or x>3):\n",
    "        return 0\n",
    "    elif (x>0 and x<3):\n",
    "        for m in range(0,4,1):\n",
    "             wavelet_val += a[m]*wavelet_escala(2*x-m)\n",
    "        return wavelet_val\n",
    "print(wavelet_escala(0.5))"
   ]
  },
  {
   "cell_type": "code",
   "execution_count": 6,
   "metadata": {},
   "outputs": [
    {
     "data": {
      "image/png": "[encoded data removed]",
      "text/plain": [
       "<Figure size 432x288 with 1 Axes>"
      ]
     },
     "metadata": {
      "needs_background": "light"
     },
     "output_type": "display_data"
    }
   ],
   "source": [
    "import matplotlib.pyplot as plt\n",
    "x=[0.0,0.0078125,0.015625,0.03125,0.0625,0.125,0.25,0.5,0.75,1.0,1.0078125,1.015625,1.03125,1.0625,1.125,1.25,1.5,1.75,2.0,2.0078125,2.015625,2.03125,2.0625,2.125,2.25,2.5,2.75,3.0]    # Comprehenssion list for values of x and y\n",
    "y=[wavelet_escala(i) for i in x]\n",
    "#print(y)\n",
    "\n",
    "plt.plot(x,y,color='#8B0000', label='function wavelet phi(x)')   #Ploting of graph of wavelet function phi\n",
    "plt.grid()\n",
    "plt.legend()\n",
    "plt.show()"
   ]
  },
  {
   "cell_type": "code",
   "execution_count": 7,
   "metadata": {},
   "outputs": [],
   "source": [
    "def interpolet_escala(x):\n",
    "    interpolet_val=0\n",
    "    if (x==-3 or x==3 or x==2 or x==-2 or x==1 or x==-1):\n",
    "        return 0\n",
    "    elif (x<-3 or x>3):\n",
    "        return 0\n",
    "    elif (x==0):\n",
    "        return 1\n",
    "    elif ((x>-3 and x<-2) or (x>-2 and x<-1) or (x>-1 and x<0) or (x>0 and x<1) or (x>1 and x<2) or (x>2 and x<3)): \n",
    "        for m in range(0,7,1):\n",
    "             interpolet_val += coeficientes[m]*interpolet_escala(2*x-m+3)\n",
    "        return interpolet_val"
   ]
  },
  {
   "cell_type": "code",
   "execution_count": 10,
   "metadata": {},
   "outputs": [
    {
     "name": "stdout",
     "output_type": "stream",
     "text": [
      "0.2578125\n"
     ]
    }
   ],
   "source": [
    "print(interpolet_escala(-0.750))"
   ]
  },
  {
   "cell_type": "code",
   "execution_count": 11,
   "metadata": {},
   "outputs": [
    {
     "data": {
      "image/png": "[encoded data removed]",
      "text/plain": [
       "<Figure size 432x288 with 1 Axes>"
      ]
     },
     "metadata": {
      "needs_background": "light"
     },
     "output_type": "display_data"
    }
   ],
   "source": [
    "import matplotlib.pyplot as plt\n",
    "x2=[-3.0,-2.5,-2.0,-1.5,-1.0,-0.75,-0.5,0.0,0.5,0.75,1.0,1.5,2.0,2.5,3.0]    # Comprehenssion list for values of x and y\n",
    "y2=[interpolet_escala(i) for i in x2]\n",
    "#print(y)\n",
    "\n",
    "plt.plot(x2,y2)   #Ploting of graph of wavelet interpolet\n",
    "plt.grid()\n",
    "plt.show()"
   ]
  },
  {
   "cell_type": "code",
   "execution_count": 12,
   "metadata": {},
   "outputs": [
    {
     "data": {
      "image/png": "[encoded data removed]",
      "text/latex": [
       "$\\displaystyle \\left( x, \\  y\\right)$"
      ],
      "text/plain": [
       "(x, y)"
      ]
     },
     "execution_count": 12,
     "metadata": {},
     "output_type": "execute_result"
    }
   ],
   "source": [
    "from sympy import *  # Cálculo de integrais em Python \n",
    "init_printing()\n",
    "var('x,y')"
   ]
  },
  {
   "cell_type": "code",
   "execution_count": 13,
   "metadata": {},
   "outputs": [],
   "source": [
    "f = Lambda(x, (x**3 - 3*x + 2)*exp(-x/4) - 1)"
   ]
  },
  {
   "cell_type": "code",
   "execution_count": 14,
   "metadata": {},
   "outputs": [
    {
     "data": {
      "image/png": "[encoded data removed]",
      "text/latex": [
       "$\\displaystyle \\left( x \\mapsto \\left(x^{3} - 3 x + 2\\right) e^{- \\frac{x}{4}} - 1 \\right)$"
      ],
      "text/plain": [
       "                    -x     \n",
       "                    ───    \n",
       "    ⎛ 3          ⎞   4     \n",
       "x ↦ ⎝x  - 3⋅x + 2⎠⋅ℯ    - 1"
      ]
     },
     "execution_count": 14,
     "metadata": {},
     "output_type": "execute_result"
    }
   ],
   "source": [
    "f"
   ]
  },
  {
   "cell_type": "code",
   "execution_count": 15,
   "metadata": {},
   "outputs": [
    {
     "data": {
      "image/png": "[encoded data removed]",
      "text/latex": [
       "$\\displaystyle - x + \\left(- 4 x^{3} - 48 x^{2} - 372 x - 1496\\right) e^{- \\frac{x}{4}}$"
      ],
      "text/plain": [
       "                                      -x \n",
       "                                      ───\n",
       "     ⎛     3       2               ⎞   4 \n",
       "-x + ⎝- 4⋅x  - 48⋅x  - 372⋅x - 1496⎠⋅ℯ   "
      ]
     },
     "execution_count": 15,
     "metadata": {},
     "output_type": "execute_result"
    }
   ],
   "source": [
    "integrate(f(x), x)"
   ]
  },
  {
   "cell_type": "code",
   "execution_count": 16,
   "metadata": {},
   "outputs": [
    {
     "data": {
      "image/png": "[encoded data removed]",
      "text/latex": [
       "$\\displaystyle - \\frac{1920}{e^{\\frac{1}{4}}} - 2 + 1168 e^{\\frac{1}{4}}$"
      ],
      "text/plain": [
       "        -1/4             1/4\n",
       "- 1920⋅ℯ     - 2 + 1168⋅ℯ   "
      ]
     },
     "execution_count": 16,
     "metadata": {},
     "output_type": "execute_result"
    }
   ],
   "source": [
    "integrate(f(x), (x, -1, 1))"
   ]
  },
  {
   "cell_type": "code",
   "execution_count": 20,
   "metadata": {},
   "outputs": [
    {
     "data": {
      "image/png": "[encoded data removed]",
      "text/plain": [
       "<Figure size 432x288 with 1 Axes>"
      ]
     },
     "metadata": {
      "needs_background": "light"
     },
     "output_type": "display_data"
    }
   ],
   "source": [
    "%matplotlib inline                          \n",
    "p = plot(f(x), (x, -2, 2), show=False)\n",
    "q = plot_implicit(y<f(x), (x, -1, 1), (y, 0, 6), show=False)\n",
    "p.extend(q)\n",
    "q = plot_implicit(y>f(x), (x,-1,1), (y,-2,0), show=False)\n",
    "p.extend(q)\n",
    "p.show()"
   ]
  },
  {
   "cell_type": "code",
   "execution_count": 21,
   "metadata": {},
   "outputs": [
    {
     "data": {
      "image/png": "[encoded data removed]",
      "text/latex": [
       "$\\displaystyle 3.34298415940101$"
      ],
      "text/plain": [
       "3.34298415940101"
      ]
     },
     "execution_count": 21,
     "metadata": {},
     "output_type": "execute_result"
    }
   ],
   "source": [
    "xstar = nsolve(f(x), x, 0.25) #encontra o zero x* de f\n",
    "A = integrate(f(x), (x, -1, xstar)) - integrate(f(x), (x, xstar, 1))\n",
    "N(A)"
   ]
  },
  {
   "cell_type": "code",
   "execution_count": null,
   "metadata": {},
   "outputs": [],
   "source": []
  }
 ],
 "metadata": {
  "kernelspec": {
   "display_name": "Python 3",
   "language": "python",
   "name": "python3"
  },
  "language_info": {
   "codemirror_mode": {
    "name": "ipython",
    "version": 3
   },
   "file_extension": ".py",
   "mimetype": "text/x-python",
   "name": "python",
   "nbconvert_exporter": "python",
   "pygments_lexer": "ipython3",
   "version": "3.7.6"
  }
 },
 "nbformat": 4,
 "nbformat_minor": 4
}
