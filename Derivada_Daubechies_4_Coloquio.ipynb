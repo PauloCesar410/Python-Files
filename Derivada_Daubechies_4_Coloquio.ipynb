{
 "cells": [
  {
   "cell_type": "code",
   "execution_count": 1,
   "metadata": {},
   "outputs": [],
   "source": [
    "import numpy as np   # Código em python para calcular as derivadas das wavelets de Daubechies de gênero 4\n",
    "a=(0.683012701892219,1.183012701892219,0.316987298107781,-0.183012701892219) # Coeficientes de Daubechies de gênero 4"
   ]
  },
  {
   "cell_type": "code",
   "execution_count": 8,
   "metadata": {},
   "outputs": [
    {
     "name": "stdout",
     "output_type": "stream",
     "text": [
      "Digite a ordem da derivada: 2\n"
     ]
    }
   ],
   "source": [
    "d=int(input(\"Digite a ordem da derivada: \"))"
   ]
  },
  {
   "cell_type": "code",
   "execution_count": 9,
   "metadata": {},
   "outputs": [
    {
     "name": "stdout",
     "output_type": "stream",
     "text": [
      "Matriz A \n",
      " [[ 1.         1.       ]\n",
      " [-0.3660254 -1.3660254]]\n",
      "Vetor b \n",
      " [0 2]\n",
      "Solução de Ax=b é c =  [ 2. -2.]\n"
     ]
    }
   ],
   "source": [
    "A = np.array(((1, 1), (-0.366025400, -1.366025400)))  # Código para descobri os valores das derivadas de phi(1) e phi(2)\n",
    "print(\"Matriz A \\n\",A)\n",
    "b = np.array((0, d))\n",
    "print(\"Vetor b \\n\",b)\n",
    "c  = np.linalg.solve(A, b)\n",
    "print(\"Solução de Ax=b é c = \",c)"
   ]
  },
  {
   "cell_type": "code",
   "execution_count": 10,
   "metadata": {},
   "outputs": [],
   "source": [
    "def wavelet_derivada_escala(x):\n",
    "    wavelet_val_derivada=0\n",
    "    if (x==3 or x==0):\n",
    "        return 0\n",
    "    elif (x==1):\n",
    "        return c[0]\n",
    "    elif (x==2):\n",
    "        return c[1]\n",
    "    elif (x<0 or x>3):\n",
    "        return 0\n",
    "    elif (x>0 and x<3):\n",
    "        for m in range(0,4):\n",
    "             wavelet_val_derivada += 2**(d)*a[m]*wavelet_derivada_escala(2*x-m)\n",
    "        return wavelet_val_derivada"
   ]
  },
  {
   "cell_type": "code",
   "execution_count": 11,
   "metadata": {},
   "outputs": [
    {
     "name": "stdout",
     "output_type": "stream",
     "text": [
      "2.0\n"
     ]
    }
   ],
   "source": [
    "print(wavelet_derivada_escala(1))"
   ]
  },
  {
   "cell_type": "code",
   "execution_count": 14,
   "metadata": {},
   "outputs": [
    {
     "name": "stdout",
     "output_type": "stream",
     "text": [
      "[0, 5.464101615137752, 6.928203230275514, 2.0, -6.928203230275503, -5.856406460551025, -2.0, 1.464101615137752, -1.071796769724487, 0]\n"
     ]
    },
    {
     "data": {
      "image/png": "[encoded data removed]",
      "text/plain": [
       "<Figure size 432x288 with 1 Axes>"
      ]
     },
     "metadata": {
      "needs_background": "light"
     },
     "output_type": "display_data"
    }
   ],
   "source": [
    "import matplotlib.pyplot as plt\n",
    "#for i in range(0,9,1):\n",
    " #   m=8/2**i\n",
    "  #  print(m)\n",
    "\n",
    "x=[0,0.5,0.75,1.0,1.5,1.75,2.0,2.5,2.75,3.0]    # Comprehenssion list for values of x and y\n",
    "y=[wavelet_derivada_escala(i) for i in x]\n",
    "print(y)\n",
    "\n",
    "plt.plot(x,y)   #Ploting of graph of f\n",
    "plt.grid()\n",
    "plt.show()"
   ]
  },
  {
   "cell_type": "code",
   "execution_count": null,
   "metadata": {},
   "outputs": [],
   "source": []
  }
 ],
 "metadata": {
  "kernelspec": {
   "display_name": "Python 3",
   "language": "python",
   "name": "python3"
  },
  "language_info": {
   "codemirror_mode": {
    "name": "ipython",
    "version": 3
   },
   "file_extension": ".py",
   "mimetype": "text/x-python",
   "name": "python",
   "nbconvert_exporter": "python",
   "pygments_lexer": "ipython3",
   "version": "3.7.6"
  }
 },
 "nbformat": 4,
 "nbformat_minor": 4
}
