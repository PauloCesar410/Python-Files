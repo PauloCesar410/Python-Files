{
 "cells": [
  {
   "cell_type": "code",
   "execution_count": 1,
   "metadata": {},
   "outputs": [],
   "source": [
    "import scipy\n",
    "import scipy.linalg   # SciPy Linear Algebra Library"
   ]
  },
  {
   "cell_type": "code",
   "execution_count": 3,
   "metadata": {},
   "outputs": [
    {
     "name": "stderr",
     "output_type": "stream",
     "text": [
      "C:\\Users\\linha\\Anaconda3\\lib\\site-packages\\ipykernel_launcher.py:1: DeprecationWarning: scipy.array is deprecated and will be removed in SciPy 2.0.0, use numpy.array instead\n",
      "  \"\"\"Entry point for launching an IPython kernel.\n"
     ]
    }
   ],
   "source": [
    "A = scipy.array([[1,2,3], [2,8,22], [3,22,82]])\n",
    "L = scipy.linalg.cholesky(A, lower=True)\n",
    "U = scipy.linalg.cholesky(A, lower=False)"
   ]
  },
  {
   "cell_type": "code",
   "execution_count": 4,
   "metadata": {},
   "outputs": [
    {
     "name": "stdout",
     "output_type": "stream",
     "text": [
      "[[ 1  2  3]\n",
      " [ 2  8 22]\n",
      " [ 3 22 82]]\n",
      "[[1. 0. 0.]\n",
      " [2. 2. 0.]\n",
      " [3. 8. 3.]]\n",
      "[[1. 2. 3.]\n",
      " [0. 2. 8.]\n",
      " [0. 0. 3.]]\n"
     ]
    }
   ],
   "source": [
    "print (A)\n",
    "\n",
    "print(L)\n",
    "\n",
    "print (U)"
   ]
  },
  {
   "cell_type": "code",
   "execution_count": 6,
   "metadata": {},
   "outputs": [
    {
     "name": "stdout",
     "output_type": "stream",
     "text": [
      "[[1, 2, 3], [2, 8, 22], [3, 22, 82]]\n",
      "[[1.0, 0.0, 0.0], [2.0, 2.0, 0.0], [3.0, 8.0, 3.0]]\n"
     ]
    }
   ],
   "source": [
    "from math import sqrt\n",
    " \n",
    "def cholesky(A):\n",
    "    \"\"\"Performs a Cholesky decomposition of A, which must \n",
    "    be a symmetric and positive definite matrix. The function\n",
    "    returns the lower variant triangular matrix, L.\"\"\"\n",
    "    n = len(A)\n",
    "\n",
    "    # Create zero matrix for L\n",
    "    L = [[0.0] * n for i in range(n)]\n",
    "\n",
    "    # Perform the Cholesky decomposition\n",
    "    for i in range(n):\n",
    "        for k in range(i+1):\n",
    "            tmp_sum = sum(L[i][j] * L[k][j] for j in range(k))\n",
    "            \n",
    "            if (i == k): # Diagonal elements\n",
    "                # LaTeX: l_{kk} = \\sqrt{ a_{kk} - \\sum^{k-1}_{j=1} l^2_{kj}}\n",
    "                L[i][k] = sqrt(A[i][i] - tmp_sum)\n",
    "            else:\n",
    "                # LaTeX: l_{ik} = \\frac{1}{l_{kk}} \\left( a_{ik} - \\sum^{k-1}_{j=1} l_{ij} l_{kj} \\right)\n",
    "                L[i][k] = (1.0 / L[k][k] * (A[i][k] - tmp_sum))\n",
    "    return L\n",
    " \n",
    "A = [[1,2,3], [2,8,22], [3,22,82]]\n",
    "L = cholesky(A)\n",
    "\n",
    "print(A)\n",
    "\n",
    "print(L)"
   ]
  },
  {
   "cell_type": "code",
   "execution_count": 7,
   "metadata": {},
   "outputs": [
    {
     "name": "stdout",
     "output_type": "stream",
     "text": [
      "[[1. 0. 0.]\n",
      " [2. 2. 0.]\n",
      " [3. 8. 3.]]\n"
     ]
    }
   ],
   "source": [
    "import numpy as np \n",
    "  \n",
    "a = np.array([[1,2,3], [2,8,22], [3,22,82]]) \n",
    "gfg = np.linalg.cholesky(a) \n",
    "  \n",
    "print(gfg) "
   ]
  },
  {
   "cell_type": "code",
   "execution_count": null,
   "metadata": {},
   "outputs": [],
   "source": []
  }
 ],
 "metadata": {
  "kernelspec": {
   "display_name": "Python 3",
   "language": "python",
   "name": "python3"
  },
  "language_info": {
   "codemirror_mode": {
    "name": "ipython",
    "version": 3
   },
   "file_extension": ".py",
   "mimetype": "text/x-python",
   "name": "python",
   "nbconvert_exporter": "python",
   "pygments_lexer": "ipython3",
   "version": "3.7.6"
  }
 },
 "nbformat": 4,
 "nbformat_minor": 4
}
