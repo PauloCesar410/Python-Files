{
 "cells": [
  {
   "cell_type": "markdown",
   "metadata": {},
   "source": [
    "# Operações com vetores"
   ]
  },
  {
   "cell_type": "code",
   "execution_count": 23,
   "metadata": {},
   "outputs": [],
   "source": [
    "import numpy as np"
   ]
  },
  {
   "cell_type": "code",
   "execution_count": 33,
   "metadata": {},
   "outputs": [
    {
     "name": "stdout",
     "output_type": "stream",
     "text": [
      "O vetor u é dado por:  [1 0 0]\n",
      "[0 1 0]\n"
     ]
    }
   ],
   "source": [
    "u=np.array([1,0,0])\n",
    "v=np.array([0,1,0])\n",
    "#w=np.ones(3)\n",
    "#a=-2\n",
    "print(\"O vetor u é dado por: \", u)\n",
    "print(v)"
   ]
  },
  {
   "cell_type": "code",
   "execution_count": 34,
   "metadata": {},
   "outputs": [],
   "source": [
    "#from sympy import *\n",
    "S=2*(u-v)+3*(v-u)+8*u+14*(2*u-7*v)\n",
    "T=np.dot(u,v)\n",
    "P=np.cross(u,v)"
   ]
  },
  {
   "cell_type": "code",
   "execution_count": 35,
   "metadata": {},
   "outputs": [
    {
     "name": "stdout",
     "output_type": "stream",
     "text": [
      "O resultado da operação S é:  [ 35 -97   0]\n",
      "O resultado da operação T é:  0\n",
      "O resultado da operação T é:  [0 0 1]\n"
     ]
    }
   ],
   "source": [
    "print(\"O resultado da operação S é: \", S)\n",
    "print(\"O resultado da operação T é: \", T)\n",
    "print(\"O resultado da operação T é: \", P)"
   ]
  },
  {
   "cell_type": "code",
   "execution_count": 32,
   "metadata": {},
   "outputs": [
    {
     "name": "stdout",
     "output_type": "stream",
     "text": [
      "[0 0 1]\n"
     ]
    }
   ],
   "source": [
    "c=np.array([1,0,0])\n",
    "d=np.array([0,1,0])\n",
    "v=np.cross(c,d)\n",
    "print(v)"
   ]
  },
  {
   "cell_type": "markdown",
   "metadata": {},
   "source": [
    "# Somas de Riemann\n"
   ]
  },
  {
   "cell_type": "code",
   "execution_count": 40,
   "metadata": {},
   "outputs": [
    {
     "name": "stdout",
     "output_type": "stream",
     "text": [
      "Soma de Riemman de 0 a 1 com 10 sub-intervalos:\n",
      "\n",
      "A esquerda: 1.63380e+00\n",
      "A direita: 1.80563e+00\n",
      "Pelo ponto medio: 1.71757e+00\n"
     ]
    }
   ],
   "source": [
    "# Code for calculating Riemman Sum\n",
    "import numpy as np\n",
    "import pylab as plt\n",
    " \n",
    "f = lambda x: np.exp(x)\n",
    " \n",
    "a = 0  \n",
    "b = 1  \n",
    "n = 10  \n",
    "h = (b-a)/n  \n",
    "x = np.linspace(a,b,n+1)  \n",
    " \n",
    "S_esq = 0  \n",
    "S_dir = 0  \n",
    "S_med = 0  \n",
    " \n",
    "print(\"Soma de Riemman de {} a {} com {} sub-intervalos:\\n\".format(a, b, n))  \n",
    " \n",
    "for i in range(n):  \n",
    "    S_esq += f(x[i])*h  \n",
    "print(\"A esquerda: {:.5e}\".format(S_esq))  \n",
    " \n",
    "for i in range(n):  \n",
    "    S_dir += f(x[i+1])*h  \n",
    "print(\"A direita: {:.5e}\".format(S_dir))  \n",
    " \n",
    "for i in range(n):  \n",
    "    S_med += f(((x[i]) + (x[i+1]))/2)*h  \n",
    "print(\"Pelo ponto medio: {:.5e}\".format(S_med))\n"
   ]
  },
  {
   "cell_type": "markdown",
   "metadata": {},
   "source": [
    "# ângulo entre vetores"
   ]
  },
  {
   "cell_type": "code",
   "execution_count": 44,
   "metadata": {},
   "outputs": [],
   "source": [
    "import numpy as np\n",
    "def angulo_entre(p1, p2):\n",
    "    ang1 = np.arctan2(*p1[::-1])\n",
    "    ang2 = np.arctan2(*p2[::-1])\n",
    "    return np.rad2deg((ang1 - ang2) % (2 * np.pi))"
   ]
  },
  {
   "cell_type": "code",
   "execution_count": 46,
   "metadata": {},
   "outputs": [
    {
     "name": "stdout",
     "output_type": "stream",
     "text": [
      "10.30484646876603\n",
      "349.695153531234\n"
     ]
    }
   ],
   "source": [
    "a=(1,2)\n",
    "b=(3,4)\n",
    "print(angulo_entre(a,b))\n",
    "print(angulo_entre(b,a))"
   ]
  },
  {
   "cell_type": "markdown",
   "metadata": {},
   "source": [
    "# Lendo vetores"
   ]
  },
  {
   "cell_type": "code",
   "execution_count": 131,
   "metadata": {},
   "outputs": [
    {
     "name": "stdout",
     "output_type": "stream",
     "text": [
      "Digite a coordenada do vetor1\n",
      "Digite a coordenada do vetor2\n",
      "Digite a coordenada do vetor3\n",
      "O vetor u é igual a:  [1 2 3]\n"
     ]
    }
   ],
   "source": [
    "import numpy as np\n",
    "meuVetor = ([]*3)\n",
    "for i in range(3):\n",
    "    i=int(input('Digite a coordenada do vetor'))\n",
    "    meuVetor.append(i)\n",
    "u=np.array(meuVetor)\n",
    "print(\"O vetor u é igual a: \", u)"
   ]
  },
  {
   "cell_type": "code",
   "execution_count": 132,
   "metadata": {},
   "outputs": [
    {
     "name": "stdout",
     "output_type": "stream",
     "text": [
      "Digite a coordenada do vetor1\n",
      "Digite a coordenada do vetor2\n",
      "Digite a coordenada do vetor3\n",
      "O vetor v é igual a:  [1 2 3]\n"
     ]
    }
   ],
   "source": [
    "import numpy as np\n",
    "meuVetor1 = []*3\n",
    "for i in range(3):\n",
    "    i=int(input('Digite a coordenada do vetor'))\n",
    "    meuVetor1.append(i)\n",
    "v=np.array(meuVetor1)\n",
    "print(\"O vetor v é igual a: \", v)"
   ]
  },
  {
   "cell_type": "code",
   "execution_count": 135,
   "metadata": {},
   "outputs": [],
   "source": [
    "a=-1\n",
    "S=(2*a)*u+a*v-(1+a)*u\n",
    "U=u+v\n",
    "T=np.dot(u,v)\n",
    "P=np.cross(u,v)"
   ]
  },
  {
   "cell_type": "code",
   "execution_count": 137,
   "metadata": {},
   "outputs": [
    {
     "name": "stdout",
     "output_type": "stream",
     "text": [
      "O resultado da operação S é:  [-3 -6 -9]\n",
      "O resultado da operação U é:  [2 4 6]\n",
      "O resultado da operação T é:  14\n",
      "O resultado da operação T é:  [0 0 0]\n"
     ]
    }
   ],
   "source": [
    "print(\"O resultado da operação S é: \", S)\n",
    "print(\"O resultado da operação U é: \", U)\n",
    "print(\"O resultado da operação T é: \", T)\n",
    "print(\"O resultado da operação T é: \", P)"
   ]
  },
  {
   "cell_type": "code",
   "execution_count": 1,
   "metadata": {},
   "outputs": [],
   "source": [
    "import numpy as np"
   ]
  },
  {
   "cell_type": "code",
   "execution_count": 2,
   "metadata": {},
   "outputs": [
    {
     "name": "stdout",
     "output_type": "stream",
     "text": [
      "Digite o valor de a: 3\n"
     ]
    }
   ],
   "source": [
    "a = int (input(\"Digite o valor de a: \"))"
   ]
  },
  {
   "cell_type": "code",
   "execution_count": 3,
   "metadata": {},
   "outputs": [
    {
     "name": "stdout",
     "output_type": "stream",
     "text": [
      "Digite o valor de b: 2\n"
     ]
    }
   ],
   "source": [
    "b = int (input(\"Digite o valor de b: \"))"
   ]
  },
  {
   "cell_type": "code",
   "execution_count": 4,
   "metadata": {},
   "outputs": [
    {
     "name": "stdout",
     "output_type": "stream",
     "text": [
      "9\n"
     ]
    }
   ],
   "source": [
    "operacao1 = a**b\n",
    "print(operacao1)"
   ]
  },
  {
   "cell_type": "code",
   "execution_count": 5,
   "metadata": {},
   "outputs": [
    {
     "name": "stdout",
     "output_type": "stream",
     "text": [
      "8\n"
     ]
    }
   ],
   "source": [
    "operacao2 = b**a\n",
    "print(operacao2)\n"
   ]
  },
  {
   "cell_type": "code",
   "execution_count": 9,
   "metadata": {},
   "outputs": [],
   "source": [
    "if (a != 0):\n",
    "    operacao3 = (np.log(b))/(np.log(a))"
   ]
  },
  {
   "cell_type": "code",
   "execution_count": 7,
   "metadata": {},
   "outputs": [
    {
     "name": "stdout",
     "output_type": "stream",
     "text": [
      "0.6309297535714574\n"
     ]
    }
   ],
   "source": [
    "print(operacao3)"
   ]
  },
  {
   "cell_type": "code",
   "execution_count": 12,
   "metadata": {},
   "outputs": [],
   "source": [
    "operacao4 = np.exp(3)"
   ]
  },
  {
   "cell_type": "code",
   "execution_count": 13,
   "metadata": {},
   "outputs": [
    {
     "name": "stdout",
     "output_type": "stream",
     "text": [
      "20.085536923187668\n"
     ]
    }
   ],
   "source": [
    "print(operacao4)"
   ]
  },
  {
   "cell_type": "code",
   "execution_count": 22,
   "metadata": {},
   "outputs": [
    {
     "data": {
      "image/png": "[encoded data removed]",
      "text/plain": [
       "<Figure size 432x288 with 1 Axes>"
      ]
     },
     "metadata": {
      "needs_background": "light"
     },
     "output_type": "display_data"
    },
    {
     "name": "stdout",
     "output_type": "stream",
     "text": [
      "[0.   0.05 0.1  0.15 0.2  0.25 0.3  0.35 0.4  0.45 0.5  0.55 0.6  0.65\n",
      " 0.7  0.75 0.8  0.85 0.9  0.95 1.   1.05 1.1  1.15 1.2  1.25 1.3  1.35\n",
      " 1.4  1.45 1.5  1.55 1.6  1.65 1.7  1.75 1.8  1.85 1.9  1.95 2.   2.05\n",
      " 2.1  2.15 2.2  2.25 2.3  2.35 2.4  2.45 2.5  2.55 2.6  2.65 2.7  2.75\n",
      " 2.8  2.85 2.9  2.95 3.   3.05 3.1  3.15 3.2  3.25 3.3  3.35 3.4  3.45\n",
      " 3.5  3.55 3.6  3.65 3.7  3.75 3.8  3.85 3.9  3.95 4.   4.05 4.1  4.15\n",
      " 4.2  4.25 4.3  4.35 4.4  4.45 4.5  4.55 4.6  4.65 4.7  4.75 4.8  4.85\n",
      " 4.9  4.95]\n",
      "[1000, 1648.4375, 2717.34619140625, 4479.37536239624, 7383.970323950052, 12172.013580886414, 20064.80363724245, 33075.574745766855, 54523.017744975055, 89877.78706398232, 148157.91461328336, 244229.0623703343, 402596.3450010979, 663654.9124627473, 1093993.64476281, 1803380.1487886948, 2972759.464018864, 4900408.178968596, 8078016.607518546, 13316105.501456354, 21950767.662556957, 36184468.56874624, 59647834.90629263, 98325727.85334176, 162083817.00824305, 267185042.09952566, 440437842.83593684, 726034256.5498646, 1196822094.7814174, 1972886421.866243, 3252179961.0451345, 5361015404.535339, 8837298830.913723, 14567734791.58434, 24014000320.502308, 39585578653.32802, 65254352311.34541, 107567721388.23346, 177318665725.91608, 292298738032.5648, 481836200975.556, 794276862545.6432, 1309315765602.5837, 2158325207360.5093, 3557864209008.34, 5864916782037.186, 9667948757889.424, 15937009280583.348, 26271163735961.61, 43306371470999.22, 71387846721725.28, 117678403580344.03, 193985493401973.38, 319772961779815.5, 527125741683914.6, 868933839807078.0, 1432383126556980.0, 2361194060183771.5, 3892280833584186.0, 6416181686611432.0, 1.0576674499023532e+16, 1.7434986869484104e+16, 2.87404861676652e+16, 4.737689516701061e+16, 7.809785062686906e+16, 1.2873942564272947e+17, 2.1221889695793686e+17, 3.498295879540991e+17, 5.766722113930852e+17, 9.50608098468289e+17, 1.5670180373188204e+18, 2.583131295892743e+18, 4.2581304955731937e+18, 7.019261988796436e+18, 1.1570814684656626e+19, 1.9073764831738655e+19, 3.144190921481919e+19, 5.1830022221303505e+19, 8.543855225543e+19, 1.4084011348356039e+20, 2.3216612457055656e+20, 3.8271134597177685e+20, 6.308757343753509e+20, 1.0399592183843675e+21, 1.714307774055481e+21, 2.825929221294582e+21, 4.658367700727787e+21, 7.679028006668462e+21, 1.2658397729742542e+22, 2.0866577507622475e+22, 3.4397248860221423e+22, 5.670171491802125e+22, 9.346923318517567e+22, 1.54078189078688e+23, 2.5398826480939976e+23, 4.186837802717449e+23, 6.901740440417045e+23, 1.1377087757249973e+24, 1.875441809984175e+24, 3.0915486086457883e+24]\n"
     ]
    }
   ],
   "source": [
    "# This code is a solution for the differential equation dS/dt =S\n",
    "\n",
    "# Method of Runge Kutta 4th\n",
    "\n",
    "import numpy as np\n",
    "\n",
    "import pylab as plt \n",
    "\n",
    "def f(S,t):\n",
    "\n",
    "    return (10*S) \n",
    "\n",
    "a=0.0\n",
    "b=5.0\n",
    "\n",
    "Num = 100 # Para diminuir o erro deve-se aumentar o valor de Num\n",
    "\n",
    "h =(b-a)/Num\n",
    "\n",
    "S = 1000\n",
    "\n",
    "c=1 \n",
    "\n",
    "t_pontos  = np.arange(a,b,h)\n",
    "\n",
    "S_pontos =[]\n",
    "\n",
    "for i in t_pontos:\n",
    "\n",
    "    S_pontos.append(S)\n",
    "\n",
    "    k1 = h*f(S,i)\n",
    "\n",
    "    k2 = h*f(S+0.5*k1, i+0.5*h)\n",
    "\n",
    "    k3 = h*f(S+0.5*k2,i+0.5*h)\n",
    "\n",
    "    k4 = h*f(S+k3,i+h)\n",
    "\n",
    "    S += (k1+2*k2+2*k3+k4)/6\n",
    " \n",
    "\n",
    "plt.plot(t_pontos,S_pontos,'bo')\n",
    "\n",
    "plt.xlabel('t')\n",
    "\n",
    "plt.ylabel('S(t)')\n",
    "\n",
    "plt.grid(True)\n",
    "\n",
    "plt.show()\n",
    "\n",
    "print(t_pontos)\n",
    "print(S_pontos)"
   ]
  },
  {
   "cell_type": "code",
   "execution_count": null,
   "metadata": {},
   "outputs": [],
   "source": []
  }
 ],
 "metadata": {
  "kernelspec": {
   "display_name": "Python 3",
   "language": "python",
   "name": "python3"
  },
  "language_info": {
   "codemirror_mode": {
    "name": "ipython",
    "version": 3
   },
   "file_extension": ".py",
   "mimetype": "text/x-python",
   "name": "python",
   "nbconvert_exporter": "python",
   "pygments_lexer": "ipython3",
   "version": "3.7.6"
  }
 },
 "nbformat": 4,
 "nbformat_minor": 4
}
