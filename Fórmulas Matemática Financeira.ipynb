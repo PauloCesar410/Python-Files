{
 "cells": [
  {
   "cell_type": "code",
   "execution_count": 1,
   "metadata": {},
   "outputs": [],
   "source": [
    "import numpy as np"
   ]
  },
  {
   "cell_type": "markdown",
   "metadata": {},
   "source": [
    "Juros Compostos"
   ]
  },
  {
   "cell_type": "code",
   "execution_count": 2,
   "metadata": {},
   "outputs": [
    {
     "name": "stdout",
     "output_type": "stream",
     "text": [
      "Digite o valor do capital principal:   150\n",
      "Digite o valor do tempo:  3\n",
      "Digite o valor da taxa de juros:   12\n",
      "O valor do montante de juros é:   210.74\n",
      "O valor do montante de juros é:   5400.0\n"
     ]
    }
   ],
   "source": [
    "#J=float(input(\"Digite o valor dos juros\"))\n",
    "C=float(input(\"Digite o valor do capital principal:   \"))\n",
    "n=float(input(\"Digite o valor do tempo:  \"))\n",
    "i=float(input(\"Digite o valor da taxa de juros:   \"))\n",
    "\n",
    "M=C*(1+(i/100))**n\n",
    "J=C*i*n\n",
    "\n",
    "print(\"O valor do montante de juros é:  \", round(M,2))\n",
    "print(\"O valor do montante de juros é:  \", round(J,2))"
   ]
  },
  {
   "cell_type": "markdown",
   "metadata": {},
   "source": [
    "Esquema de pagamentos"
   ]
  },
  {
   "cell_type": "code",
   "execution_count": 6,
   "metadata": {},
   "outputs": [
    {
     "name": "stdout",
     "output_type": "stream",
     "text": [
      "Digite o valor do tempo:  5\n",
      "Digite o valor da taxa de juros:   0.03\n",
      "Digite o valor da prestação:  10\n",
      "O valor dos pagamentos é:   10.0\n",
      "O valor dos pagamentos é:   20.3\n",
      "O valor dos pagamentos é:   30.909\n",
      "O valor dos pagamentos é:   41.83627\n",
      "O valor dos pagamentos é:   53.0913581\n"
     ]
    }
   ],
   "source": [
    "n=int(input(\"Digite o valor do tempo:  \"))\n",
    "i=float(input(\"Digite o valor da taxa de juros:   \"))\n",
    "C=float(input(\"Digite o valor da prestação:  \"))\n",
    "soma=0\n",
    "for k in range(0,n):\n",
    "    soma+= C*(1+i)**k\n",
    "    print(\"O valor dos pagamentos é:  \", soma)"
   ]
  },
  {
   "cell_type": "markdown",
   "metadata": {},
   "source": [
    "Taxas equivalentes"
   ]
  },
  {
   "cell_type": "code",
   "execution_count": 5,
   "metadata": {},
   "outputs": [
    {
     "name": "stdout",
     "output_type": "stream",
     "text": [
      "Digite o valor da taxa4\n",
      "Digite o período12\n",
      "O valor da gtaxa equivalente é:    60.1\n"
     ]
    }
   ],
   "source": [
    "i = float(input(\"Digite o valor da taxa: \"))\n",
    "n = int(input(\"Digite o período: \"))\n",
    "I = (1+0.01*(i))**n -1\n",
    "print(\"O valor da taxa equivalente é:   \", round(I*100,2))"
   ]
  },
  {
   "cell_type": "markdown",
   "metadata": {},
   "source": [
    "Juros Simples x Juros Compostos "
   ]
  },
  {
   "cell_type": "code",
   "execution_count": 8,
   "metadata": {},
   "outputs": [
    {
     "data": {
      "image/png": "[encoded data removed]",
      "text/plain": [
       "<Figure size 360x360 with 1 Axes>"
      ]
     },
     "metadata": {
      "needs_background": "light"
     },
     "output_type": "display_data"
    }
   ],
   "source": [
    "import matplotlib.pyplot as plt\n",
    "def jsimples(t):\n",
    "    return 20*(1+0.02*t)\n",
    "\n",
    "def jcomposto(t):\n",
    "    return 20*((1+0.02)**t)\n",
    "\n",
    "t=np.linspace(0,100)    # Comprehenssion list for values of t and y1\n",
    "#t=[0,0.2,0.03,0.3,0.4,0.25,0.75,0.5,1.0]\n",
    "y1=[jsimples(i) for i in t]\n",
    "y2=[jcomposto(i) for i in t]\n",
    "\n",
    "plt.figure(figsize=(5,5))\n",
    "plt.plot(t,y1, color='#FF0202', label='Juros simples')   \n",
    "plt.plot(t,y2,color='#008000', label='Juros Compostos')   \n",
    "plt.grid()\n",
    "plt.legend()\n",
    "plt.show()\n",
    "    "
   ]
  },
  {
   "cell_type": "markdown",
   "metadata": {},
   "source": [
    "Segundo esquema de pagamentos"
   ]
  },
  {
   "cell_type": "code",
   "execution_count": 8,
   "metadata": {},
   "outputs": [
    {
     "name": "stdout",
     "output_type": "stream",
     "text": [
      "Digite o valor do tempo:  7\n",
      "Digite o valor da taxa de juros:   0.02\n",
      "Digite o valor da prestação:  70\n",
      "O valor dos pagamentos é:   214.228\n",
      "O valor dos pagamentos é:   271.87182908534425\n",
      "Valor total 486.09982908534425\n"
     ]
    }
   ],
   "source": [
    "m=int(input(\"Digite o valor do tempo:  \"))\n",
    "i1=float(input(\"Digite o valor da taxa de juros:   \"))\n",
    "C1=float(input(\"Digite o valor da prestação:  \"))\n",
    "soma=0\n",
    "for k in range(0,m-4):\n",
    "    soma+= C1*(1+i1)**k \n",
    "print(\"O valor dos pagamentos é:  \", soma)\n",
    " \n",
    "soma1=0\n",
    "for k1 in range(0,m-3):\n",
    "    soma1+= C1/((1+i1)**k1)\n",
    "print(\"O valor dos pagamentos é:  \", soma1)\n",
    "\n",
    "print(\"Valor total\", soma+soma1)"
   ]
  },
  {
   "cell_type": "code",
   "execution_count": null,
   "metadata": {},
   "outputs": [],
   "source": [
    "Sistemas de Amortização\n",
    "\n",
    "O que é amortização: A amortização é o processo de redução do valor total de uma dívida por meio de pagamentos periódicos.\n",
    "Esses pagamentos podem ser variados ou fixos, e o atraso neles pode incidir em juros.\n",
    "\n",
    "Em outras palavras, amortização é o processo no qual a parte devedora (quem tomou o empréstimo) devolve \n",
    "os recursos a quem emprestou o dinheiro – ou, no caso dos investimentos, ao investidor.\n",
    "\n",
    "Geralmente, a ideia de amortizar parcelas é reduzir os juros e o tempo do financiamento/empréstimo.\n",
    "\n",
    "A amortização de dívidas funciona com base em alguns fatores: valor principal, taxa de juros, saldo devedor e prestações.\n",
    "Isso significa que, a cada prestação paga, há redução do saldo devedor, que é entendido como a\n",
    "incidência de juros sobre o valor principal.\n",
    "\n",
    "fonte: https://blog.nubank.com.br/amortizacao-o-que-e/"
   ]
  },
  {
   "cell_type": "markdown",
   "metadata": {},
   "source": [
    "Amortização tipo SAC:"
   ]
  },
  {
   "cell_type": "code",
   "execution_count": 4,
   "metadata": {},
   "outputs": [
    {
     "name": "stdout",
     "output_type": "stream",
     "text": [
      "Digite o período de tempo: 5\n",
      "Entre com o estado inicial da dívida1000\n",
      "O valor da a mortização em cada paríodo é:  200.0\n",
      "O valor da a mortização em cada paríodo é:  200.0\n",
      "O valor da a mortização em cada paríodo é:  200.0\n",
      "O valor da a mortização em cada paríodo é:  200.0\n",
      "O valor da a mortização em cada paríodo é:  200.0\n"
     ]
    }
   ],
   "source": [
    "n = int(input(\"Digite o período de tempo: \"))\n",
    "D0 = float(input(\"Entre com o estado inicial da dívida\"))\n",
    "for i in range(0,n):\n",
    "    print(\"O valor da a mortização em cada paríodo é: \", D0/n)"
   ]
  },
  {
   "cell_type": "markdown",
   "metadata": {},
   "source": [
    "Estado da Dívida"
   ]
  },
  {
   "cell_type": "code",
   "execution_count": 5,
   "metadata": {},
   "outputs": [
    {
     "name": "stdout",
     "output_type": "stream",
     "text": [
      "O estado da dívida em cada período é:  1000.0\n",
      "O estado da dívida em cada período é:  800.0\n",
      "O estado da dívida em cada período é:  600.0\n",
      "O estado da dívida em cada período é:  400.0\n",
      "O estado da dívida em cada período é:  200.0\n"
     ]
    }
   ],
   "source": [
    "for i in range(0,n):   #No sistema SAC a amortização é constante\n",
    "    Dk =((n-i)/n)*D0\n",
    "    print(\"O estado da dívida em cada período é: \",  Dk)"
   ]
  },
  {
   "cell_type": "markdown",
   "metadata": {},
   "source": [
    "Juros"
   ]
  },
  {
   "cell_type": "code",
   "execution_count": 6,
   "metadata": {},
   "outputs": [
    {
     "name": "stdout",
     "output_type": "stream",
     "text": [
      "Digite o valor da taxa de juros: 10\n",
      "O valor do juros em cada período é:  100.0\n",
      "O valor da prestação em cada período é:  300.0\n",
      "O valor do juros em cada período é:  80.0\n",
      "O valor da prestação em cada período é:  280.0\n",
      "O valor do juros em cada período é:  60.0\n",
      "O valor da prestação em cada período é:  260.0\n",
      "O valor do juros em cada período é:  40.0\n",
      "O valor da prestação em cada período é:  240.0\n",
      "O valor do juros em cada período é:  20.0\n",
      "O valor da prestação em cada período é:  220.0\n"
     ]
    }
   ],
   "source": [
    "i= float(input(\"Digite o valor da taxa de juros: \"))\n",
    "for k in range(0,n):\n",
    "    Dk =((n-k)/n)*D0\n",
    "    print(\"O valor do juros em cada período é: \", (Dk*i/100))\n",
    "    print(\"O valor da prestação em cada período é: \", D0/n+(Dk*i/100))"
   ]
  },
  {
   "cell_type": "markdown",
   "metadata": {},
   "source": [
    "Sistema de amortização Francês"
   ]
  },
  {
   "cell_type": "code",
   "execution_count": 7,
   "metadata": {},
   "outputs": [
    {
     "name": "stdout",
     "output_type": "stream",
     "text": [
      "Digite o estado inical da dívida: 150\n",
      "Digite o valor da taxa de juros: 8\n",
      "Digite o período de tempo: 4\n",
      "O valor da cada prestação é:  45.29\n",
      "O valor da cada prestação é:  45.29\n",
      "O valor da cada prestação é:  45.29\n",
      "O valor da cada prestação é:  45.29\n"
     ]
    }
   ],
   "source": [
    "D0= float(input(\"Digite o estado inical da dívida: \"))\n",
    "i= float(input(\"Digite o valor da taxa de juros: \"))\n",
    "n= int(input(\"Digite o período de tempo: \"))\n",
    "for k in range(0,n):\n",
    "    Pk =D0*(i*0.01/(1-(1+i*0.01)**(-n)))\n",
    "    print(\"O valor da cada prestação é: \", round(Pk,2))"
   ]
  },
  {
   "cell_type": "code",
   "execution_count": 9,
   "metadata": {},
   "outputs": [
    {
     "name": "stdout",
     "output_type": "stream",
     "text": [
      "O estado da dívida é:  150.0\n",
      "O estado da dívida é:  116.7119\n",
      "O estado da dívida é:  80.7607\n",
      "O estado da dívida é:  41.9334\n"
     ]
    }
   ],
   "source": [
    "for k in range(0,n):\n",
    "    Dk = D0*( (1-(1+0.01*i)**(k-n))/ ( 1 - (1+0.01*i)**(-n)) )\n",
    "    print(\"O estado da dívida é: \",   round(Dk,4)     )   "
   ]
  },
  {
   "cell_type": "code",
   "execution_count": 10,
   "metadata": {},
   "outputs": [
    {
     "name": "stdout",
     "output_type": "stream",
     "text": [
      "Os juros da dívida são:  12.0\n",
      "Os juros da dívida são:  9.34\n",
      "Os juros da dívida são:  6.46\n",
      "Os juros da dívida são:  3.35\n"
     ]
    }
   ],
   "source": [
    "for k in range(0,n):\n",
    "    Dk = D0*( (1-(1+0.01*i)**(k-n))/ ( 1 - (1+0.01*i)**(-n)) )\n",
    "    Jk = Dk*i*0.01\n",
    "    print(\"Os juros da dívida são: \",  round(Jk,2)   ) "
   ]
  },
  {
   "cell_type": "code",
   "execution_count": 11,
   "metadata": {},
   "outputs": [
    {
     "name": "stdout",
     "output_type": "stream",
     "text": [
      "A amortização em cada período é:  33.29\n",
      "A amortização em cada período é:  35.95\n",
      "A amortização em cada período é:  38.83\n",
      "A amortização em cada período é:  41.93\n"
     ]
    }
   ],
   "source": [
    "for k in range(0,n):\n",
    "    Pk =D0*(i*0.01/(1-(1+i*0.01)**(-n)))\n",
    "    Dk = D0*( (1-(1+0.01*i)**(k-n))/ ( 1 - (1+0.01*i)**(-n)) )\n",
    "    Jk = Dk*i*0.01\n",
    "    print(\"A amortização em cada período é: \", round(Pk - Jk,2))"
   ]
  },
  {
   "cell_type": "code",
   "execution_count": null,
   "metadata": {},
   "outputs": [],
   "source": []
  }
 ],
 "metadata": {
  "kernelspec": {
   "display_name": "Python 3",
   "language": "python",
   "name": "python3"
  },
  "language_info": {
   "codemirror_mode": {
    "name": "ipython",
    "version": 3
   },
   "file_extension": ".py",
   "mimetype": "text/x-python",
   "name": "python",
   "nbconvert_exporter": "python",
   "pygments_lexer": "ipython3",
   "version": "3.7.6"
  }
 },
 "nbformat": 4,
 "nbformat_minor": 4
}
