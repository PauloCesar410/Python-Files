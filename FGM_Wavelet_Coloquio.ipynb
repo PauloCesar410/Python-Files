{
 "cells": [
  {
   "cell_type": "code",
   "execution_count": 1,
   "metadata": {},
   "outputs": [],
   "source": [
    "import numpy as np\n",
    "a=(0.683012701892219,1.183012701892219,0.316987298107781,-0.183012701892219) # Coeficientes de Daubechies de gênero N=4\n",
    "k=1 #Grau do polinômio\n"
   ]
  },
  {
   "cell_type": "code",
   "execution_count": 2,
   "metadata": {},
   "outputs": [
    {
     "name": "stdout",
     "output_type": "stream",
     "text": [
      "2\n"
     ]
    }
   ],
   "source": [
    "def fatorial(n):\n",
    "   fatorial = 1\n",
    "\n",
    "   while n >= 1:\n",
    "      fatorial = fatorial * n\n",
    "      n = n - 1\n",
    "   return fatorial\n",
    "\n",
    "#r1=binomial(3)\n",
    "#print(r1)\n",
    "print(fatorial(2))"
   ]
  },
  {
   "cell_type": "code",
   "execution_count": 3,
   "metadata": {},
   "outputs": [],
   "source": [
    "def binomial1(m):  # Cálculo do momento M(k,0)\n",
    "    binomial1=0\n",
    "    for r in range(0,m+1,1):\n",
    "         binomial1 +=(1/2*(2**k - 1))*a[r]*r\n",
    "         print(a[r])\n",
    "    return binomial1"
   ]
  },
  {
   "cell_type": "code",
   "execution_count": 4,
   "metadata": {},
   "outputs": [
    {
     "name": "stdout",
     "output_type": "stream",
     "text": [
      "0.683012701892219\n",
      "1.183012701892219\n",
      "0.316987298107781\n",
      "-0.183012701892219\n",
      "0.6339745962155618\n"
     ]
    }
   ],
   "source": [
    "\n",
    "def binomial(m):   # Cálculo do momento M(k,m)\n",
    "    binomial=0\n",
    "    for r in range(0,k):\n",
    "         binomial += ( fatorial(k) / ( fatorial(r)*fatorial(k-r) ))*(m)**(1-r)*binomial1(3)\n",
    "         #print(a[r])\n",
    "    return binomial\n",
    "\n",
    "r1=binomial1(3)\n",
    "print(r1)"
   ]
  },
  {
   "cell_type": "code",
   "execution_count": null,
   "metadata": {},
   "outputs": [],
   "source": []
  }
 ],
 "metadata": {
  "kernelspec": {
   "display_name": "Python 3",
   "language": "python",
   "name": "python3"
  },
  "language_info": {
   "codemirror_mode": {
    "name": "ipython",
    "version": 3
   },
   "file_extension": ".py",
   "mimetype": "text/x-python",
   "name": "python",
   "nbconvert_exporter": "python",
   "pygments_lexer": "ipython3",
   "version": "3.7.6"
  }
 },
 "nbformat": 4,
 "nbformat_minor": 4
}
