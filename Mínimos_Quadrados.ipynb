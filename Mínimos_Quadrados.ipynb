{
 "cells": [
  {
   "cell_type": "code",
   "execution_count": 1,
   "metadata": {},
   "outputs": [
    {
     "name": "stdout",
     "output_type": "stream",
     "text": [
      "Digite os valores de 'x' separados por espaço: 1 2 3 4 5 6 7 8\n",
      "Digite os valores de 'y' separados por espaço: 10 2.3 8 7 5 12 11 8\n",
      "Ajuste Linear f(x)=0.47023809523809657x + 5.796428571428567\n",
      "Erro Padrão da Estimativa = 3.2182176127749043 \n",
      "Coeficiente de Determinação = 0.13002050828206252\n",
      "Coeficiente de Correlação = 0.36058356629505806\n",
      "\n"
     ]
    },
    {
     "data": {
      "image/png": "[encoded data removed]",
      "text/plain": [
       "<Figure size 432x288 with 1 Axes>"
      ]
     },
     "metadata": {
      "needs_background": "light"
     },
     "output_type": "display_data"
    }
   ],
   "source": [
    "import matplotlib.pyplot as plt\n",
    "import numpy as np\n",
    "import sys\n",
    "\n",
    "x = list(map(float, input(\"Digite os valores de 'x' separados por espaço: \").split()))\n",
    "y = list(map(float, input(\"Digite os valores de 'y' separados por espaço: \").split()))\n",
    "\n",
    "if len(x) != len(y):\n",
    "    print('Os vetores possuem tamanhos diferentes')\n",
    "    sys.exit(0)\n",
    "\n",
    "vetorx = np.array(x)\n",
    "vetory = np.array(y)\n",
    "\n",
    "vetorxy = vetorx*vetory\n",
    "vetorx2 = vetorx**2\n",
    "\n",
    "sumx = np.sum(vetorx)\n",
    "sumy = np.sum(vetory)\n",
    "sumxy = np.sum(vetorxy)\n",
    "sumx2 = np.sum(vetorx2)\n",
    "\n",
    "n = len(x)\n",
    "a = (n*sumxy - sumy*sumx)/(n*sumx2 - (sumx**2))\n",
    "b = (sumx*sumxy - sumx2*sumy)/((sumx**2) - n*sumx2)\n",
    "ym = sumy/n\n",
    "\n",
    "Sr = 0\n",
    "St = 0\n",
    "for i in range(0, n):\n",
    "    Sr = Sr + (vetory[i] - b - a*vetorx[i])**2\n",
    "    St = St + (vetory[i] - ym)**2\n",
    "\n",
    "ErroP = np.sqrt(Sr/(n-2))  # Erro Padrão da Estimativa\n",
    "Cdet = (St - Sr)/St  # Coeficiente de Determinação\n",
    "Ccor = np.sqrt(Cdet)  # Coeficiente de Correlação\n",
    "\n",
    "print(f\"Ajuste Linear f(x)={a}x + {b}\")\n",
    "print(f\"Erro Padrão da Estimativa = {ErroP} \")\n",
    "print(f\"Coeficiente de Determinação = {Cdet}\")\n",
    "print(f\"Coeficiente de Correlação = {Ccor}\\n\")\n",
    "\n",
    "plt.scatter(vetorx, vetory)\n",
    "c = np.linspace(0, 20, 100)\n",
    "d = a*c + (b)\n",
    "plt.plot(c, d)\n",
    "plt.title('Grafico de Dispersão X, Y (Reta Regressão Linear)')\n",
    "plt.show()\n"
   ]
  },
  {
   "cell_type": "code",
   "execution_count": null,
   "metadata": {},
   "outputs": [],
   "source": []
  }
 ],
 "metadata": {
  "kernelspec": {
   "display_name": "Python 3",
   "language": "python",
   "name": "python3"
  },
  "language_info": {
   "codemirror_mode": {
    "name": "ipython",
    "version": 3
   },
   "file_extension": ".py",
   "mimetype": "text/x-python",
   "name": "python",
   "nbconvert_exporter": "python",
   "pygments_lexer": "ipython3",
   "version": "3.7.6"
  }
 },
 "nbformat": 4,
 "nbformat_minor": 4
}
