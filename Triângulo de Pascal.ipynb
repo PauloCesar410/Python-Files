{
 "cells": [
  {
   "cell_type": "code",
   "execution_count": 2,
   "metadata": {},
   "outputs": [
    {
     "name": "stdout",
     "output_type": "stream",
     "text": [
      "Digite o número de linhas: 15\n",
      "                    1 \n",
      "                   1     1 \n",
      "                  1     2     1 \n",
      "                 1     3     3     1 \n",
      "                1     4     6     4     1 \n",
      "               1     5    10    10     5     1 \n",
      "              1     6    15    20    15     6     1 \n",
      "             1     7    21    35    35    21     7     1 \n",
      "            1     8    28    56    70    56    28     8     1 \n",
      "           1     9    36    84   126   126    84    36     9     1 \n",
      "          1    10    45   120   210   252   210   120    45    10     1 \n",
      "         1    11    55   165   330   462   462   330   165    55    11     1 \n",
      "        1    12    66   220   495   792   924   792   495   220    66    12     1 \n",
      "       1    13    78   286   715  1287  1716  1716  1287   715   286    78    13     1 \n",
      "      1    14    91   364  1001  2002  3003  3432  3003  2002  1001   364    91    14     1 \n"
     ]
    }
   ],
   "source": [
    "linhas = int(input(\"Digite o número de linhas: \"))\n",
    "list = [] #Cria uma lista vazia\n",
    "for n in range(linhas):\n",
    "    list.append([])\n",
    "    list[n].append(1)\n",
    "    for m in range(1, n):\n",
    "        list[n].append(list[n - 1][m - 1] + list[n - 1][m])\n",
    "    if(linhas != 0):\n",
    "        list[n].append(1)\n",
    "for n in range(linhas):\n",
    "    print(\" \" * (linhas - n), end = \" \", sep = \" \")\n",
    "    for m in range(0, n + 1):\n",
    "        print('{0:5}'.format(list[n][m]), end = \" \", sep = \" \")\n",
    "    print()"
   ]
  },
  {
   "cell_type": "code",
   "execution_count": null,
   "metadata": {},
   "outputs": [],
   "source": []
  }
 ],
 "metadata": {
  "kernelspec": {
   "display_name": "Python 3",
   "language": "python",
   "name": "python3"
  },
  "language_info": {
   "codemirror_mode": {
    "name": "ipython",
    "version": 3
   },
   "file_extension": ".py",
   "mimetype": "text/x-python",
   "name": "python",
   "nbconvert_exporter": "python",
   "pygments_lexer": "ipython3",
   "version": "3.7.6"
  }
 },
 "nbformat": 4,
 "nbformat_minor": 4
}
