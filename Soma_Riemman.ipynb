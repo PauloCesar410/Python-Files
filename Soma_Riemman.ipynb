{
 "cells": [
  {
   "cell_type": "markdown",
   "metadata": {},
   "source": [
    "# Cálculo de uma integral por soma de Riemann "
   ]
  },
  {
   "cell_type": "code",
   "execution_count": 9,
   "metadata": {},
   "outputs": [
    {
     "name": "stdout",
     "output_type": "stream",
     "text": [
      "digite o ponto inicial: 0\n",
      "digite o ponto final: 1\n",
      "digite a quantidade de divisões do intervalo: 10000\n",
      "0.0001\n"
     ]
    }
   ],
   "source": [
    "import numpy as np\n",
    "a=float(input('digite o ponto inicial: '))\n",
    "b=float(input('digite o ponto final: '))\n",
    "n=int(input('digite a quantidade de divisões do intervalo: '))\n",
    "deltaX=((b-a)/n)  \n",
    "print(deltaX)"
   ]
  },
  {
   "cell_type": "code",
   "execution_count": 10,
   "metadata": {},
   "outputs": [],
   "source": [
    "def f(x):\n",
    "    return (np.exp(x**2))"
   ]
  },
  {
   "cell_type": "code",
   "execution_count": 11,
   "metadata": {},
   "outputs": [
    {
     "name": "stdout",
     "output_type": "stream",
     "text": [
      "1.4625658363462324\n"
     ]
    }
   ],
   "source": [
    "soma=0\n",
    "for i in range(0,n,1):\n",
    "    x=a+deltaX*i\n",
    "    soma = soma+ f(x)*deltaX\n",
    "print(soma)"
   ]
  },
  {
   "cell_type": "code",
   "execution_count": 4,
   "metadata": {},
   "outputs": [
    {
     "name": "stdout",
     "output_type": "stream",
     "text": [
      "O valor exato da integral é: 0.3333333333333333\n"
     ]
    }
   ],
   "source": [
    "valor_exato = ((b**3)/3-(a**3)/3)\n",
    "print(\"O valor exato da integral é:\", valor_exato)"
   ]
  },
  {
   "cell_type": "code",
   "execution_count": 6,
   "metadata": {},
   "outputs": [
    {
     "name": "stdout",
     "output_type": "stream",
     "text": [
      "O valor do erro absoluto  no cálculo da integral é: 4.999833333374504e-05\n"
     ]
    }
   ],
   "source": [
    "erro_absoluto = abs(valor_exato - soma)\n",
    "print(\"O valor do erro absoluto  no cálculo da integral é:\", erro_absoluto)"
   ]
  },
  {
   "cell_type": "code",
   "execution_count": 7,
   "metadata": {},
   "outputs": [
    {
     "name": "stdout",
     "output_type": "stream",
     "text": [
      "O valor do erro realtivo  no cálculo da integral é: 0.0001499950000012351\n"
     ]
    }
   ],
   "source": [
    "erro_relativo = erro_absoluto/valor_exato\n",
    "print(\"O valor do erro realtivo  no cálculo da integral é:\", erro_relativo)"
   ]
  },
  {
   "cell_type": "code",
   "execution_count": 8,
   "metadata": {},
   "outputs": [
    {
     "name": "stdout",
     "output_type": "stream",
     "text": [
      "O valor do erro percentual  no cálculo da integral é: 0.014999500000123511 %\n"
     ]
    }
   ],
   "source": [
    "erro_percentual = erro_relativo*100\n",
    "print(\"O valor do erro percentual  no cálculo da integral é:\", erro_percentual, \"%\")"
   ]
  },
  {
   "cell_type": "markdown",
   "metadata": {},
   "source": [
    "# Regra do Trapézio Simples"
   ]
  },
  {
   "cell_type": "code",
   "execution_count": 8,
   "metadata": {},
   "outputs": [
    {
     "name": "stdout",
     "output_type": "stream",
     "text": [
      "10.0\n"
     ]
    }
   ],
   "source": [
    "Area_Trapezio = (f(b)+f(a))*0.5*(b-a)\n",
    "print(Area_Trapezio)"
   ]
  },
  {
   "cell_type": "code",
   "execution_count": 18,
   "metadata": {},
   "outputs": [
    {
     "data": {
      "text/plain": [
       "'0b111'"
      ]
     },
     "execution_count": 18,
     "metadata": {},
     "output_type": "execute_result"
    }
   ],
   "source": [
    "bin(7)"
   ]
  },
  {
   "cell_type": "code",
   "execution_count": 16,
   "metadata": {},
   "outputs": [
    {
     "data": {
      "text/plain": [
       "'0x46'"
      ]
     },
     "execution_count": 16,
     "metadata": {},
     "output_type": "execute_result"
    }
   ],
   "source": [
    "hex(70)\n"
   ]
  },
  {
   "cell_type": "code",
   "execution_count": 17,
   "metadata": {},
   "outputs": [
    {
     "data": {
      "text/plain": [
       "'0o106'"
      ]
     },
     "execution_count": 17,
     "metadata": {},
     "output_type": "execute_result"
    }
   ],
   "source": [
    "oct(70)"
   ]
  },
  {
   "cell_type": "code",
   "execution_count": 20,
   "metadata": {},
   "outputs": [
    {
     "data": {
      "text/plain": [
       "'0x11'"
      ]
     },
     "execution_count": 20,
     "metadata": {},
     "output_type": "execute_result"
    }
   ],
   "source": [
    "hex(17)"
   ]
  },
  {
   "cell_type": "code",
   "execution_count": null,
   "metadata": {},
   "outputs": [],
   "source": []
  }
 ],
 "metadata": {
  "kernelspec": {
   "display_name": "Python 3",
   "language": "python",
   "name": "python3"
  },
  "language_info": {
   "codemirror_mode": {
    "name": "ipython",
    "version": 3
   },
   "file_extension": ".py",
   "mimetype": "text/x-python",
   "name": "python",
   "nbconvert_exporter": "python",
   "pygments_lexer": "ipython3",
   "version": "3.7.6"
  }
 },
 "nbformat": 4,
 "nbformat_minor": 4
}
