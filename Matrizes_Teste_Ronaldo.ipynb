{
 "cells": [
  {
   "cell_type": "code",
   "execution_count": 1,
   "metadata": {},
   "outputs": [],
   "source": [
    "import numpy as np\n",
    "k=0.25\n",
    "l=2.55\n",
    "pho1=0.580\n",
    "pho2=0.001\n",
    "pho3=0.2\n",
    "pho4=0.3\n",
    "beta=2.55\n",
    "betalinha=7.65\n",
    "gammaa=0.94\n",
    "gammai=0.27\n",
    "gammar=0.5\n",
    "gammap=1\n",
    "deltah=0.3\n",
    "deltai=3.5\n",
    "deltap=1\n",
    "betal=beta*l\n",
    "kpho1=k*pho1\n",
    "kpho3=k*pho3\n",
    "kpho4=k*pho4\n",
    "wi=gammaa+gammai+deltai\n",
    "kpho2=k*pho2\n",
    "wp=gammaa+gammai+deltap\n",
    "wh=gammaa+gammai+deltah"
   ]
  },
  {
   "cell_type": "code",
   "execution_count": 20,
   "metadata": {},
   "outputs": [
    {
     "name": "stdout",
     "output_type": "stream",
     "text": [
      "Determinante de Jv é:  0.0\n",
      "Autovalores de Jv são:  [0. 0. 0. 0. 0.]\n"
     ]
    }
   ],
   "source": [
    "Jv= [ [0,beta,betalinha,betal,0], [0,0,0,0, kpho3],[0,0,0,0,kpho4], [0,0,0,0,0], [0,0,0,0,0]]\n",
    "print(\"Determinante de Jv é: \", np.linalg.det( Jv ))\n",
    "autovalores,autovetores = np.linalg.eig(Jv)\n",
    "print(\"Autovalores de Jv são: \", autovalores)"
   ]
  },
  {
   "cell_type": "code",
   "execution_count": 23,
   "metadata": {},
   "outputs": [
    {
     "name": "stdout",
     "output_type": "stream",
     "text": [
      "Determinante de Jf é:  0.4911794062500001\n",
      "A inversa de Jf é: [[ 4.00000000e+00  0.00000000e+00  0.00000000e+00  0.00000000e+00\n",
      "   0.00000000e+00]\n",
      " [ 1.23142251e-01  2.12314225e-01  0.00000000e+00  0.00000000e+00\n",
      "   0.00000000e+00]\n",
      " [ 4.52488688e-04  0.00000000e+00  4.52488688e-01  0.00000000e+00\n",
      "   0.00000000e+00]\n",
      " [-7.69397714e-02 -1.32169120e-01 -2.81681700e-01  6.62251656e-01\n",
      "   0.00000000e+00]\n",
      " [ 3.35200000e+00  0.00000000e+00  0.00000000e+00  0.00000000e+00\n",
      "   8.00000000e+00]]\n",
      "Determinante de inversa é:  0.4911794062500001\n"
     ]
    }
   ],
   "source": [
    "Jf=[[k,0,0,0,0],[-k*pho1,wi,0,0,0],[-kpho2,0,wp,0,0],[0,gammaa,gammaa,wh,0],[-k*(1-pho1-pho2),0,0,0,k*(pho3+pho4)]]\n",
    "inversa=np.linalg.inv(Jf)\n",
    "print(\"Determinante de Jf é: \", np.linalg.det( Jf ))\n",
    "print(\"A inversa de Jf é:\", inversa)\n",
    "print(\"Determinante de inversa é: \", np.linalg.det( Jf ))"
   ]
  },
  {
   "cell_type": "code",
   "execution_count": 26,
   "metadata": {},
   "outputs": [
    {
     "name": "stdout",
     "output_type": "stream",
     "text": [
      "[[ 0.  0.  0.  0.  0.]\n",
      " [ 0.  0.  0.  0.  0.]\n",
      " [ 0.  0.  0.  0.  0.]\n",
      " [-0. -0. -0.  0.  0.]\n",
      " [ 0.  0.  0.  0.  0.]]\n"
     ]
    }
   ],
   "source": [
    "resultado=Jv*inversa\n",
    "print(resultado)"
   ]
  },
  {
   "cell_type": "code",
   "execution_count": null,
   "metadata": {},
   "outputs": [],
   "source": []
  }
 ],
 "metadata": {
  "kernelspec": {
   "display_name": "Python 3",
   "language": "python",
   "name": "python3"
  },
  "language_info": {
   "codemirror_mode": {
    "name": "ipython",
    "version": 3
   },
   "file_extension": ".py",
   "mimetype": "text/x-python",
   "name": "python",
   "nbconvert_exporter": "python",
   "pygments_lexer": "ipython3",
   "version": "3.7.6"
  }
 },
 "nbformat": 4,
 "nbformat_minor": 4
}
