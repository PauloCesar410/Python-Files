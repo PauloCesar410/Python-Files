{
 "cells": [
  {
   "cell_type": "code",
   "execution_count": 14,
   "metadata": {},
   "outputs": [],
   "source": [
    "#!pip install spacy\n",
    "#!pip install ipython\n",
    "import numpy as np\n",
    "import pandas as pd\n",
    "import glob\n",
    "import spacy\n",
    "import nltk\n",
    "from IPython.core.display import HTML"
   ]
  },
  {
   "cell_type": "code",
   "execution_count": 12,
   "metadata": {},
   "outputs": [
    {
     "name": "stdout",
     "output_type": "stream",
     "text": [
      "Collecting pt-core-news-sm==3.2.0\n",
      "  Downloading https://github.com/explosion/spacy-models/releases/download/pt_core_news_sm-3.2.0/pt_core_news_sm-3.2.0-py3-none-any.whl (22.2 MB)\n",
      "Requirement already satisfied: spacy<3.3.0,>=3.2.0 in c:\\users\\linha\\anaconda3\\lib\\site-packages (from pt-core-news-sm==3.2.0) (3.2.2)\n",
      "Requirement already satisfied: pathy>=0.3.5 in c:\\users\\linha\\anaconda3\\lib\\site-packages (from spacy<3.3.0,>=3.2.0->pt-core-news-sm==3.2.0) (0.6.1)\n",
      "Requirement already satisfied: spacy-loggers<2.0.0,>=1.0.0 in c:\\users\\linha\\anaconda3\\lib\\site-packages (from spacy<3.3.0,>=3.2.0->pt-core-news-sm==3.2.0) (1.0.1)\n",
      "Requirement already satisfied: preshed<3.1.0,>=3.0.2 in c:\\users\\linha\\anaconda3\\lib\\site-packages (from spacy<3.3.0,>=3.2.0->pt-core-news-sm==3.2.0) (3.0.6)\n",
      "Requirement already satisfied: langcodes<4.0.0,>=3.2.0 in c:\\users\\linha\\anaconda3\\lib\\site-packages (from spacy<3.3.0,>=3.2.0->pt-core-news-sm==3.2.0) (3.3.0)\n",
      "Requirement already satisfied: pydantic!=1.8,!=1.8.1,<1.9.0,>=1.7.4 in c:\\users\\linha\\anaconda3\\lib\\site-packages (from spacy<3.3.0,>=3.2.0->pt-core-news-sm==3.2.0) (1.8.2)\n",
      "Requirement already satisfied: srsly<3.0.0,>=2.4.1 in c:\\users\\linha\\anaconda3\\lib\\site-packages (from spacy<3.3.0,>=3.2.0->pt-core-news-sm==3.2.0) (2.4.2)\n",
      "Requirement already satisfied: wasabi<1.1.0,>=0.8.1 in c:\\users\\linha\\anaconda3\\lib\\site-packages (from spacy<3.3.0,>=3.2.0->pt-core-news-sm==3.2.0) (0.9.0)\n",
      "Requirement already satisfied: packaging>=20.0 in c:\\users\\linha\\anaconda3\\lib\\site-packages (from spacy<3.3.0,>=3.2.0->pt-core-news-sm==3.2.0) (20.1)\n",
      "Requirement already satisfied: spacy-legacy<3.1.0,>=3.0.8 in c:\\users\\linha\\anaconda3\\lib\\site-packages (from spacy<3.3.0,>=3.2.0->pt-core-news-sm==3.2.0) (3.0.8)\n",
      "Requirement already satisfied: numpy>=1.15.0 in c:\\users\\linha\\anaconda3\\lib\\site-packages (from spacy<3.3.0,>=3.2.0->pt-core-news-sm==3.2.0) (1.18.1)\n",
      "Requirement already satisfied: murmurhash<1.1.0,>=0.28.0 in c:\\users\\linha\\anaconda3\\lib\\site-packages (from spacy<3.3.0,>=3.2.0->pt-core-news-sm==3.2.0) (1.0.6)\n",
      "Requirement already satisfied: setuptools in c:\\users\\linha\\anaconda3\\lib\\site-packages (from spacy<3.3.0,>=3.2.0->pt-core-news-sm==3.2.0) (45.2.0.post20200210)\n",
      "Requirement already satisfied: jinja2 in c:\\users\\linha\\anaconda3\\lib\\site-packages (from spacy<3.3.0,>=3.2.0->pt-core-news-sm==3.2.0) (2.11.1)\n",
      "Requirement already satisfied: blis<0.8.0,>=0.4.0 in c:\\users\\linha\\anaconda3\\lib\\site-packages (from spacy<3.3.0,>=3.2.0->pt-core-news-sm==3.2.0) (0.7.5)\n",
      "Requirement already satisfied: cymem<2.1.0,>=2.0.2 in c:\\users\\linha\\anaconda3\\lib\\site-packages (from spacy<3.3.0,>=3.2.0->pt-core-news-sm==3.2.0) (2.0.6)\n",
      "Requirement already satisfied: thinc<8.1.0,>=8.0.12 in c:\\users\\linha\\anaconda3\\lib\\site-packages (from spacy<3.3.0,>=3.2.0->pt-core-news-sm==3.2.0) (8.0.13)\n",
      "Requirement already satisfied: requests<3.0.0,>=2.13.0 in c:\\users\\linha\\anaconda3\\lib\\site-packages (from spacy<3.3.0,>=3.2.0->pt-core-news-sm==3.2.0) (2.22.0)\n",
      "Requirement already satisfied: typer<0.5.0,>=0.3.0 in c:\\users\\linha\\anaconda3\\lib\\site-packages (from spacy<3.3.0,>=3.2.0->pt-core-news-sm==3.2.0) (0.4.0)\n",
      "Requirement already satisfied: tqdm<5.0.0,>=4.38.0 in c:\\users\\linha\\anaconda3\\lib\\site-packages (from spacy<3.3.0,>=3.2.0->pt-core-news-sm==3.2.0) (4.42.1)\n",
      "Requirement already satisfied: catalogue<2.1.0,>=2.0.6 in c:\\users\\linha\\anaconda3\\lib\\site-packages (from spacy<3.3.0,>=3.2.0->pt-core-news-sm==3.2.0) (2.0.6)\n",
      "Requirement already satisfied: typing-extensions<4.0.0.0,>=3.7.4; python_version < \"3.8\" in c:\\users\\linha\\anaconda3\\lib\\site-packages (from spacy<3.3.0,>=3.2.0->pt-core-news-sm==3.2.0) (3.10.0.2)\n",
      "Requirement already satisfied: smart-open<6.0.0,>=5.0.0 in c:\\users\\linha\\anaconda3\\lib\\site-packages (from pathy>=0.3.5->spacy<3.3.0,>=3.2.0->pt-core-news-sm==3.2.0) (5.2.1)\n",
      "Requirement already satisfied: six in c:\\users\\linha\\anaconda3\\lib\\site-packages (from packaging>=20.0->spacy<3.3.0,>=3.2.0->pt-core-news-sm==3.2.0) (1.14.0)\n",
      "Requirement already satisfied: pyparsing>=2.0.2 in c:\\users\\linha\\anaconda3\\lib\\site-packages (from packaging>=20.0->spacy<3.3.0,>=3.2.0->pt-core-news-sm==3.2.0) (2.4.6)\n",
      "Requirement already satisfied: MarkupSafe>=0.23 in c:\\users\\linha\\anaconda3\\lib\\site-packages (from jinja2->spacy<3.3.0,>=3.2.0->pt-core-news-sm==3.2.0) (1.1.1)\n",
      "Requirement already satisfied: idna<2.9,>=2.5 in c:\\users\\linha\\anaconda3\\lib\\site-packages (from requests<3.0.0,>=2.13.0->spacy<3.3.0,>=3.2.0->pt-core-news-sm==3.2.0) (2.8)\n",
      "Requirement already satisfied: urllib3!=1.25.0,!=1.25.1,<1.26,>=1.21.1 in c:\\users\\linha\\anaconda3\\lib\\site-packages (from requests<3.0.0,>=2.13.0->spacy<3.3.0,>=3.2.0->pt-core-news-sm==3.2.0) (1.25.8)\n",
      "Requirement already satisfied: chardet<3.1.0,>=3.0.2 in c:\\users\\linha\\anaconda3\\lib\\site-packages (from requests<3.0.0,>=2.13.0->spacy<3.3.0,>=3.2.0->pt-core-news-sm==3.2.0) (3.0.4)\n",
      "Requirement already satisfied: certifi>=2017.4.17 in c:\\users\\linha\\anaconda3\\lib\\site-packages (from requests<3.0.0,>=2.13.0->spacy<3.3.0,>=3.2.0->pt-core-news-sm==3.2.0) (2019.11.28)\n",
      "Requirement already satisfied: click<9.0.0,>=7.1.1 in c:\\users\\linha\\anaconda3\\lib\\site-packages (from typer<0.5.0,>=0.3.0->spacy<3.3.0,>=3.2.0->pt-core-news-sm==3.2.0) (8.0.3)\n",
      "Requirement already satisfied: zipp>=0.5; python_version < \"3.8\" in c:\\users\\linha\\anaconda3\\lib\\site-packages (from catalogue<2.1.0,>=2.0.6->spacy<3.3.0,>=3.2.0->pt-core-news-sm==3.2.0) (2.2.0)\n",
      "Requirement already satisfied: importlib-metadata; python_version < \"3.8\" in c:\\users\\linha\\anaconda3\\lib\\site-packages (from click<9.0.0,>=7.1.1->typer<0.5.0,>=0.3.0->spacy<3.3.0,>=3.2.0->pt-core-news-sm==3.2.0) (1.5.0)\n",
      "Requirement already satisfied: colorama; platform_system == \"Windows\" in c:\\users\\linha\\anaconda3\\lib\\site-packages (from click<9.0.0,>=7.1.1->typer<0.5.0,>=0.3.0->spacy<3.3.0,>=3.2.0->pt-core-news-sm==3.2.0) (0.4.3)\n",
      "Installing collected packages: pt-core-news-sm\n",
      "Successfully installed pt-core-news-sm-3.2.0\n",
      "[!] As of spaCy v3.0, shortcuts like 'pt' are deprecated. Please use the full\n",
      "pipeline package name 'pt_core_news_sm' instead.\n",
      "[+] Download and installation successful\n",
      "You can now load the package via spacy.load('pt_core_news_sm')\n"
     ]
    }
   ],
   "source": [
    "!python -m spacy download pt"
   ]
  },
  {
   "cell_type": "code",
   "execution_count": 51,
   "metadata": {},
   "outputs": [],
   "source": [
    "forense_features = {'title':[],'text':[]} "
   ]
  },
  {
   "cell_type": "code",
   "execution_count": 52,
   "metadata": {},
   "outputs": [
    {
     "data": {
      "text/plain": [
       "dict"
      ]
     },
     "execution_count": 52,
     "metadata": {},
     "output_type": "execute_result"
    }
   ],
   "source": [
    "type(forense_features)"
   ]
  },
  {
   "cell_type": "code",
   "execution_count": 53,
   "metadata": {},
   "outputs": [],
   "source": [
    "forense_df = pd.DataFrame.from_dict(forense_features)"
   ]
  },
  {
   "cell_type": "code",
   "execution_count": 54,
   "metadata": {},
   "outputs": [
    {
     "data": {
      "text/plain": [
       "pandas.core.frame.DataFrame"
      ]
     },
     "execution_count": 54,
     "metadata": {},
     "output_type": "execute_result"
    }
   ],
   "source": [
    "type(forense_df)"
   ]
  },
  {
   "cell_type": "code",
   "execution_count": 55,
   "metadata": {},
   "outputs": [
    {
     "data": {
      "text/html": [
       "<div>\n",
       "<style scoped>\n",
       "    .dataframe tbody tr th:only-of-type {\n",
       "        vertical-align: middle;\n",
       "    }\n",
       "\n",
       "    .dataframe tbody tr th {\n",
       "        vertical-align: top;\n",
       "    }\n",
       "\n",
       "    .dataframe thead th {\n",
       "        text-align: right;\n",
       "    }\n",
       "</style>\n",
       "<table border=\"1\" class=\"dataframe\">\n",
       "  <thead>\n",
       "    <tr style=\"text-align: right;\">\n",
       "      <th></th>\n",
       "      <th>title</th>\n",
       "      <th>text</th>\n",
       "    </tr>\n",
       "  </thead>\n",
       "  <tbody>\n",
       "  </tbody>\n",
       "</table>\n",
       "</div>"
      ],
      "text/plain": [
       "Empty DataFrame\n",
       "Columns: [title, text]\n",
       "Index: []"
      ]
     },
     "execution_count": 55,
     "metadata": {},
     "output_type": "execute_result"
    }
   ],
   "source": [
    "forense_df.head()"
   ]
  },
  {
   "cell_type": "code",
   "execution_count": 56,
   "metadata": {},
   "outputs": [],
   "source": [
    "file_filenames = glob.glob(f'{\"./\"}//**/*.pdf',recursive=True)"
   ]
  },
  {
   "cell_type": "code",
   "execution_count": 21,
   "metadata": {},
   "outputs": [
    {
     "name": "stdout",
     "output_type": "stream",
     "text": [
      "['.\\\\Curso de Direito Penal - Parte Geral - Vol.1, 3ª edição by Guilherme de Souza Nucci (z-lib.org).pdf', '.\\\\Código Penal 2017_completo.pdf', '.\\\\Código Penal art. 1-120.pdf', '.\\\\Direito Penal Brasileiro, Vol. I by Eugenio Raúl ZaffaroniNilo BatistaAlejandro AlagiaAlejandro Slokar (z-lib.org).pdf', '.\\\\Manual de Direito Penal Brasileiro by Eugenio Raúl ZaffaroniJosé Henrique Pierangeli (z-lib.org).pdf', '.\\\\Anaconda3\\\\Lib\\\\site-packages\\\\matplotlib\\\\mpl-data\\\\images\\\\back.pdf', '.\\\\Anaconda3\\\\Lib\\\\site-packages\\\\matplotlib\\\\mpl-data\\\\images\\\\filesave.pdf', '.\\\\Anaconda3\\\\Lib\\\\site-packages\\\\matplotlib\\\\mpl-data\\\\images\\\\forward.pdf', '.\\\\Anaconda3\\\\Lib\\\\site-packages\\\\matplotlib\\\\mpl-data\\\\images\\\\hand.pdf', '.\\\\Anaconda3\\\\Lib\\\\site-packages\\\\matplotlib\\\\mpl-data\\\\images\\\\help.pdf', '.\\\\Anaconda3\\\\Lib\\\\site-packages\\\\matplotlib\\\\mpl-data\\\\images\\\\home.pdf', '.\\\\Anaconda3\\\\Lib\\\\site-packages\\\\matplotlib\\\\mpl-data\\\\images\\\\matplotlib.pdf', '.\\\\Anaconda3\\\\Lib\\\\site-packages\\\\matplotlib\\\\mpl-data\\\\images\\\\move.pdf', '.\\\\Anaconda3\\\\Lib\\\\site-packages\\\\matplotlib\\\\mpl-data\\\\images\\\\qt4_editor_options.pdf', '.\\\\Anaconda3\\\\Lib\\\\site-packages\\\\matplotlib\\\\mpl-data\\\\images\\\\subplots.pdf', '.\\\\Anaconda3\\\\Lib\\\\site-packages\\\\matplotlib\\\\mpl-data\\\\images\\\\zoom_to_rect.pdf', '.\\\\Anaconda3\\\\pkgs\\\\matplotlib-base-3.1.3-py37h64f37c6_0\\\\Lib\\\\site-packages\\\\matplotlib\\\\mpl-data\\\\images\\\\back.pdf', '.\\\\Anaconda3\\\\pkgs\\\\matplotlib-base-3.1.3-py37h64f37c6_0\\\\Lib\\\\site-packages\\\\matplotlib\\\\mpl-data\\\\images\\\\filesave.pdf', '.\\\\Anaconda3\\\\pkgs\\\\matplotlib-base-3.1.3-py37h64f37c6_0\\\\Lib\\\\site-packages\\\\matplotlib\\\\mpl-data\\\\images\\\\forward.pdf', '.\\\\Anaconda3\\\\pkgs\\\\matplotlib-base-3.1.3-py37h64f37c6_0\\\\Lib\\\\site-packages\\\\matplotlib\\\\mpl-data\\\\images\\\\hand.pdf', '.\\\\Anaconda3\\\\pkgs\\\\matplotlib-base-3.1.3-py37h64f37c6_0\\\\Lib\\\\site-packages\\\\matplotlib\\\\mpl-data\\\\images\\\\help.pdf', '.\\\\Anaconda3\\\\pkgs\\\\matplotlib-base-3.1.3-py37h64f37c6_0\\\\Lib\\\\site-packages\\\\matplotlib\\\\mpl-data\\\\images\\\\home.pdf', '.\\\\Anaconda3\\\\pkgs\\\\matplotlib-base-3.1.3-py37h64f37c6_0\\\\Lib\\\\site-packages\\\\matplotlib\\\\mpl-data\\\\images\\\\matplotlib.pdf', '.\\\\Anaconda3\\\\pkgs\\\\matplotlib-base-3.1.3-py37h64f37c6_0\\\\Lib\\\\site-packages\\\\matplotlib\\\\mpl-data\\\\images\\\\move.pdf', '.\\\\Anaconda3\\\\pkgs\\\\matplotlib-base-3.1.3-py37h64f37c6_0\\\\Lib\\\\site-packages\\\\matplotlib\\\\mpl-data\\\\images\\\\qt4_editor_options.pdf', '.\\\\Anaconda3\\\\pkgs\\\\matplotlib-base-3.1.3-py37h64f37c6_0\\\\Lib\\\\site-packages\\\\matplotlib\\\\mpl-data\\\\images\\\\subplots.pdf', '.\\\\Anaconda3\\\\pkgs\\\\matplotlib-base-3.1.3-py37h64f37c6_0\\\\Lib\\\\site-packages\\\\matplotlib\\\\mpl-data\\\\images\\\\zoom_to_rect.pdf', '.\\\\Downloads\\\\0abfd9b8068553901494ee31ceb72805aea344421d12b4fb98939f6046b54ebfbe12b3910b6bcf33b269fbffa4e7de0a122129412eb295efc2fc9650523a6e19.pdf', '.\\\\Downloads\\\\10-projeto-sistema-xadrez.pdf', '.\\\\Downloads\\\\16-mongodb-spring-boot.pdf', '.\\\\Downloads\\\\2ªAvaliação de Matemática Discreta_Profmat.pdf', '.\\\\Downloads\\\\acesso-a-dados-com-jdbc.pdf', '.\\\\Downloads\\\\Apostila Árabe 1.pdf', '.\\\\Downloads\\\\Avaliacao2-grupo 8.pdf', '.\\\\Downloads\\\\Borges1_merged.pdf', '.\\\\Downloads\\\\breno_TCC.pdf', '.\\\\Downloads\\\\Comprovante_12-12-2021_164826 (1).pdf', '.\\\\Downloads\\\\Comprovante_12-12-2021_164826.pdf', '.\\\\Downloads\\\\Daubechies_wavelets_and_Mathematica.pdf', '.\\\\Downloads\\\\interface-grafica-javafx.pdf', '.\\\\Downloads\\\\mapa_PMA0005_2021.2_01_.pdf', '.\\\\Downloads\\\\nivelamento-sobre-jpa.pdf', '.\\\\Downloads\\\\projeto-javafx-jdbc.pdf', '.\\\\Downloads\\\\Projeto-web-services-Spring-Boot-JPA.pdf', '.\\\\Downloads\\\\RESULTADO GRADUACAO 2013 1 - EDITAL 04-2013 - LISTA GERAL.pdf', '.\\\\Downloads\\\\tcc HIAN - 26-10-2021.pdf', '.\\\\Downloads\\\\TCC_ Alan versão final.pdf', '.\\\\Downloads\\\\teste-livro-CQ-v4-volume-1-24062019.pdf', '.\\\\Downloads\\\\UTILIZAÇÃO DA LINGUAGEM DE PROGRAMAÇÃO TCC-HIAN ALVES DANTAS.pdf', '.\\\\Downloads\\\\Versão 3 TCC - Nathan Rodrigues.pdf', '.\\\\OneDrive\\\\Área de Trabalho\\\\CRLV Digital.pdf', '.\\\\OneDrive\\\\Área de Trabalho\\\\ImprimirCRLV.pdf', '.\\\\OneDrive\\\\Área de Trabalho\\\\java.pdf', '.\\\\OneDrive\\\\Área de Trabalho\\\\LicencaPesca6358009808210004580.pdf', '.\\\\OneDrive\\\\Área de Trabalho\\\\Lista de exercícios sobre Matemática Discreta PROFMAT.pdf', '.\\\\OneDrive\\\\Área de Trabalho\\\\MAPA.pdf', '.\\\\OneDrive\\\\Área de Trabalho\\\\Mobile Forense\\\\Galaxy A10s (MTP) (2022-02-08 13h07m48s)\\\\Report.pdf']\n"
     ]
    }
   ],
   "source": [
    "print(file_filenames)"
   ]
  },
  {
   "cell_type": "code",
   "execution_count": 57,
   "metadata": {},
   "outputs": [
    {
     "data": {
      "text/plain": [
       "57"
      ]
     },
     "execution_count": 57,
     "metadata": {},
     "output_type": "execute_result"
    }
   ],
   "source": [
    "len(file_filenames)"
   ]
  },
  {
   "cell_type": "code",
   "execution_count": 75,
   "metadata": {},
   "outputs": [],
   "source": [
    "def return_forense(file_filenames,df):\n",
    "    for file_name in file_filenames:\n",
    "        row = {'title':None, 'preface':None, 'text':None}\n",
    "        with open(file_name) as pdf_data:\n",
    "            if  file_name == './sample_data/anscombe.pdf':\n",
    "                continue \n",
    "                data = pdf.load(pdf_data)\n",
    "            \n",
    "                #row['title'] = data['metadata']['title'].strip()\n",
    "            \n",
    "                text_list =[abstract['text'] for abstract in data['body_text']]\n",
    "                text ='\\n'.join(text_list)\n",
    "                row['text']=text.strip()\n",
    "                df = df.append(row,ignore_index=True)\n",
    "        return df"
   ]
  },
  {
   "cell_type": "code",
   "execution_count": 76,
   "metadata": {},
   "outputs": [],
   "source": [
    "forense_df = return_forense(file_filenames,forense_df)"
   ]
  },
  {
   "cell_type": "code",
   "execution_count": 77,
   "metadata": {},
   "outputs": [
    {
     "data": {
      "text/plain": [
       "(0, 2)"
      ]
     },
     "execution_count": 77,
     "metadata": {},
     "output_type": "execute_result"
    }
   ],
   "source": [
    "forense_df.shape"
   ]
  },
  {
   "cell_type": "code",
   "execution_count": 78,
   "metadata": {},
   "outputs": [
    {
     "data": {
      "text/html": [
       "<div>\n",
       "<style scoped>\n",
       "    .dataframe tbody tr th:only-of-type {\n",
       "        vertical-align: middle;\n",
       "    }\n",
       "\n",
       "    .dataframe tbody tr th {\n",
       "        vertical-align: top;\n",
       "    }\n",
       "\n",
       "    .dataframe thead th {\n",
       "        text-align: right;\n",
       "    }\n",
       "</style>\n",
       "<table border=\"1\" class=\"dataframe\">\n",
       "  <thead>\n",
       "    <tr style=\"text-align: right;\">\n",
       "      <th></th>\n",
       "      <th>title</th>\n",
       "      <th>text</th>\n",
       "    </tr>\n",
       "  </thead>\n",
       "  <tbody>\n",
       "  </tbody>\n",
       "</table>\n",
       "</div>"
      ],
      "text/plain": [
       "Empty DataFrame\n",
       "Columns: [title, text]\n",
       "Index: []"
      ]
     },
     "execution_count": 78,
     "metadata": {},
     "output_type": "execute_result"
    }
   ],
   "source": [
    "forense_df.head()"
   ]
  },
  {
   "cell_type": "code",
   "execution_count": 66,
   "metadata": {},
   "outputs": [
    {
     "ename": "IndexError",
     "evalue": "index out of bounds",
     "output_type": "error",
     "traceback": [
      "\u001b[1;31m---------------------------------------------------------------------------\u001b[0m",
      "\u001b[1;31mKeyError\u001b[0m                                  Traceback (most recent call last)",
      "\u001b[1;32m~\\Anaconda3\\lib\\site-packages\\pandas\\core\\indexes\\base.py\u001b[0m in \u001b[0;36mget_value\u001b[1;34m(self, series, key)\u001b[0m\n\u001b[0;32m   4404\u001b[0m         \u001b[1;32mtry\u001b[0m\u001b[1;33m:\u001b[0m\u001b[1;33m\u001b[0m\u001b[1;33m\u001b[0m\u001b[0m\n\u001b[1;32m-> 4405\u001b[1;33m             \u001b[1;32mreturn\u001b[0m \u001b[0mself\u001b[0m\u001b[1;33m.\u001b[0m\u001b[0m_engine\u001b[0m\u001b[1;33m.\u001b[0m\u001b[0mget_value\u001b[0m\u001b[1;33m(\u001b[0m\u001b[0ms\u001b[0m\u001b[1;33m,\u001b[0m \u001b[0mk\u001b[0m\u001b[1;33m,\u001b[0m \u001b[0mtz\u001b[0m\u001b[1;33m=\u001b[0m\u001b[0mgetattr\u001b[0m\u001b[1;33m(\u001b[0m\u001b[0mseries\u001b[0m\u001b[1;33m.\u001b[0m\u001b[0mdtype\u001b[0m\u001b[1;33m,\u001b[0m \u001b[1;34m\"tz\"\u001b[0m\u001b[1;33m,\u001b[0m \u001b[1;32mNone\u001b[0m\u001b[1;33m)\u001b[0m\u001b[1;33m)\u001b[0m\u001b[1;33m\u001b[0m\u001b[1;33m\u001b[0m\u001b[0m\n\u001b[0m\u001b[0;32m   4406\u001b[0m         \u001b[1;32mexcept\u001b[0m \u001b[0mKeyError\u001b[0m \u001b[1;32mas\u001b[0m \u001b[0me1\u001b[0m\u001b[1;33m:\u001b[0m\u001b[1;33m\u001b[0m\u001b[1;33m\u001b[0m\u001b[0m\n",
      "\u001b[1;32mpandas\\_libs\\index.pyx\u001b[0m in \u001b[0;36mpandas._libs.index.IndexEngine.get_value\u001b[1;34m()\u001b[0m\n",
      "\u001b[1;32mpandas\\_libs\\index.pyx\u001b[0m in \u001b[0;36mpandas._libs.index.IndexEngine.get_value\u001b[1;34m()\u001b[0m\n",
      "\u001b[1;32mpandas\\_libs\\index.pyx\u001b[0m in \u001b[0;36mpandas._libs.index.IndexEngine.get_loc\u001b[1;34m()\u001b[0m\n",
      "\u001b[1;32mpandas\\_libs\\hashtable_class_helper.pxi\u001b[0m in \u001b[0;36mpandas._libs.hashtable.Int64HashTable.get_item\u001b[1;34m()\u001b[0m\n",
      "\u001b[1;32mpandas\\_libs\\hashtable_class_helper.pxi\u001b[0m in \u001b[0;36mpandas._libs.hashtable.Int64HashTable.get_item\u001b[1;34m()\u001b[0m\n",
      "\u001b[1;31mKeyError\u001b[0m: 1",
      "\nDuring handling of the above exception, another exception occurred:\n",
      "\u001b[1;31mIndexError\u001b[0m                                Traceback (most recent call last)",
      "\u001b[1;32m<ipython-input-66-347284267d7c>\u001b[0m in \u001b[0;36m<module>\u001b[1;34m\u001b[0m\n\u001b[1;32m----> 1\u001b[1;33m \u001b[0mforense_df\u001b[0m\u001b[1;33m[\u001b[0m\u001b[1;34m'text'\u001b[0m\u001b[1;33m]\u001b[0m\u001b[1;33m[\u001b[0m\u001b[1;36m1\u001b[0m\u001b[1;33m]\u001b[0m\u001b[1;33m\u001b[0m\u001b[1;33m\u001b[0m\u001b[0m\n\u001b[0m",
      "\u001b[1;32m~\\Anaconda3\\lib\\site-packages\\pandas\\core\\series.py\u001b[0m in \u001b[0;36m__getitem__\u001b[1;34m(self, key)\u001b[0m\n\u001b[0;32m    869\u001b[0m         \u001b[0mkey\u001b[0m \u001b[1;33m=\u001b[0m \u001b[0mcom\u001b[0m\u001b[1;33m.\u001b[0m\u001b[0mapply_if_callable\u001b[0m\u001b[1;33m(\u001b[0m\u001b[0mkey\u001b[0m\u001b[1;33m,\u001b[0m \u001b[0mself\u001b[0m\u001b[1;33m)\u001b[0m\u001b[1;33m\u001b[0m\u001b[1;33m\u001b[0m\u001b[0m\n\u001b[0;32m    870\u001b[0m         \u001b[1;32mtry\u001b[0m\u001b[1;33m:\u001b[0m\u001b[1;33m\u001b[0m\u001b[1;33m\u001b[0m\u001b[0m\n\u001b[1;32m--> 871\u001b[1;33m             \u001b[0mresult\u001b[0m \u001b[1;33m=\u001b[0m \u001b[0mself\u001b[0m\u001b[1;33m.\u001b[0m\u001b[0mindex\u001b[0m\u001b[1;33m.\u001b[0m\u001b[0mget_value\u001b[0m\u001b[1;33m(\u001b[0m\u001b[0mself\u001b[0m\u001b[1;33m,\u001b[0m \u001b[0mkey\u001b[0m\u001b[1;33m)\u001b[0m\u001b[1;33m\u001b[0m\u001b[1;33m\u001b[0m\u001b[0m\n\u001b[0m\u001b[0;32m    872\u001b[0m \u001b[1;33m\u001b[0m\u001b[0m\n\u001b[0;32m    873\u001b[0m             \u001b[1;32mif\u001b[0m \u001b[1;32mnot\u001b[0m \u001b[0mis_scalar\u001b[0m\u001b[1;33m(\u001b[0m\u001b[0mresult\u001b[0m\u001b[1;33m)\u001b[0m\u001b[1;33m:\u001b[0m\u001b[1;33m\u001b[0m\u001b[1;33m\u001b[0m\u001b[0m\n",
      "\u001b[1;32m~\\Anaconda3\\lib\\site-packages\\pandas\\core\\indexes\\base.py\u001b[0m in \u001b[0;36mget_value\u001b[1;34m(self, series, key)\u001b[0m\n\u001b[0;32m   4409\u001b[0m \u001b[1;33m\u001b[0m\u001b[0m\n\u001b[0;32m   4410\u001b[0m             \u001b[1;32mtry\u001b[0m\u001b[1;33m:\u001b[0m\u001b[1;33m\u001b[0m\u001b[1;33m\u001b[0m\u001b[0m\n\u001b[1;32m-> 4411\u001b[1;33m                 \u001b[1;32mreturn\u001b[0m \u001b[0mlibindex\u001b[0m\u001b[1;33m.\u001b[0m\u001b[0mget_value_at\u001b[0m\u001b[1;33m(\u001b[0m\u001b[0ms\u001b[0m\u001b[1;33m,\u001b[0m \u001b[0mkey\u001b[0m\u001b[1;33m)\u001b[0m\u001b[1;33m\u001b[0m\u001b[1;33m\u001b[0m\u001b[0m\n\u001b[0m\u001b[0;32m   4412\u001b[0m             \u001b[1;32mexcept\u001b[0m \u001b[0mIndexError\u001b[0m\u001b[1;33m:\u001b[0m\u001b[1;33m\u001b[0m\u001b[1;33m\u001b[0m\u001b[0m\n\u001b[0;32m   4413\u001b[0m                 \u001b[1;32mraise\u001b[0m\u001b[1;33m\u001b[0m\u001b[1;33m\u001b[0m\u001b[0m\n",
      "\u001b[1;32mpandas\\_libs\\index.pyx\u001b[0m in \u001b[0;36mpandas._libs.index.get_value_at\u001b[1;34m()\u001b[0m\n",
      "\u001b[1;32mpandas\\_libs\\index.pyx\u001b[0m in \u001b[0;36mpandas._libs.index.get_value_at\u001b[1;34m()\u001b[0m\n",
      "\u001b[1;32mpandas\\_libs\\util.pxd\u001b[0m in \u001b[0;36mpandas._libs.util.get_value_at\u001b[1;34m()\u001b[0m\n",
      "\u001b[1;32mpandas\\_libs\\util.pxd\u001b[0m in \u001b[0;36mpandas._libs.util.validate_indexer\u001b[1;34m()\u001b[0m\n",
      "\u001b[1;31mIndexError\u001b[0m: index out of bounds"
     ]
    }
   ],
   "source": [
    "forense_df['text'][1]"
   ]
  },
  {
   "cell_type": "code",
   "execution_count": null,
   "metadata": {},
   "outputs": [],
   "source": []
  }
 ],
 "metadata": {
  "kernelspec": {
   "display_name": "Python 3",
   "language": "python",
   "name": "python3"
  },
  "language_info": {
   "codemirror_mode": {
    "name": "ipython",
    "version": 3
   },
   "file_extension": ".py",
   "mimetype": "text/x-python",
   "name": "python",
   "nbconvert_exporter": "python",
   "pygments_lexer": "ipython3",
   "version": "3.7.6"
  }
 },
 "nbformat": 4,
 "nbformat_minor": 4
}
