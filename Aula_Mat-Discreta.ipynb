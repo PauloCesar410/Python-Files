{
 "cells": [
  {
   "cell_type": "markdown",
   "metadata": {},
   "source": [
    "# Função para o cálculo do fatorial"
   ]
  },
  {
   "cell_type": "code",
   "execution_count": 1,
   "metadata": {},
   "outputs": [
    {
     "name": "stdout",
     "output_type": "stream",
     "text": [
      "3628800\n",
      "------------------------\n",
      "0.0\n"
     ]
    }
   ],
   "source": [
    "import time\n",
    "def fatorial(n):\n",
    "   fatorial = 1\n",
    "   while n >= 1:\n",
    "      fatorial = fatorial * n\n",
    "      n = n - 1\n",
    "   return fatorial\n",
    " \n",
    "inicio = time.time()\n",
    "print(fatorial(10))\n",
    "fim = time.time()\n",
    "\n",
    "print(\"------------------------\")\n",
    "\n",
    "print(fim - inicio)"
   ]
  },
  {
   "cell_type": "markdown",
   "metadata": {},
   "source": [
    "# Fórmula da Combinação"
   ]
  },
  {
   "cell_type": "code",
   "execution_count": 3,
   "metadata": {},
   "outputs": [
    {
     "name": "stdout",
     "output_type": "stream",
     "text": [
      "digite o valor de n : 13\n"
     ]
    }
   ],
   "source": [
    "n=int(input('digite o valor de n : '))"
   ]
  },
  {
   "cell_type": "code",
   "execution_count": 4,
   "metadata": {},
   "outputs": [
    {
     "name": "stdout",
     "output_type": "stream",
     "text": [
      "digite o valor de p : 3\n"
     ]
    }
   ],
   "source": [
    "p=int(input('digite o valor de p : '))"
   ]
  },
  {
   "cell_type": "code",
   "execution_count": 5,
   "metadata": {},
   "outputs": [
    {
     "name": "stdout",
     "output_type": "stream",
     "text": [
      "286.0\n"
     ]
    }
   ],
   "source": [
    "Combinacao= fatorial(n)/(fatorial(n-p)*fatorial(p))\n",
    "print(Combinacao)"
   ]
  },
  {
   "cell_type": "markdown",
   "metadata": {},
   "source": [
    "# Fórmula do Arranjo"
   ]
  },
  {
   "cell_type": "code",
   "execution_count": 7,
   "metadata": {},
   "outputs": [
    {
     "name": "stdout",
     "output_type": "stream",
     "text": [
      "digite o valor de n : 4\n"
     ]
    }
   ],
   "source": [
    "n=int(input('digite o valor de n : '))"
   ]
  },
  {
   "cell_type": "code",
   "execution_count": 8,
   "metadata": {},
   "outputs": [
    {
     "name": "stdout",
     "output_type": "stream",
     "text": [
      "digite o valor de p : 3\n"
     ]
    }
   ],
   "source": [
    "p=int(input('digite o valor de p : '))\n"
   ]
  },
  {
   "cell_type": "code",
   "execution_count": 9,
   "metadata": {},
   "outputs": [
    {
     "name": "stdout",
     "output_type": "stream",
     "text": [
      "24.0\n"
     ]
    }
   ],
   "source": [
    "Arranjo= fatorial(n)/(fatorial(n-p))\n",
    "print(Arranjo)"
   ]
  },
  {
   "cell_type": "markdown",
   "metadata": {},
   "source": [
    "# Permutação"
   ]
  },
  {
   "cell_type": "code",
   "execution_count": 2,
   "metadata": {},
   "outputs": [
    {
     "name": "stdout",
     "output_type": "stream",
     "text": [
      "digite o valor de n : 4\n"
     ]
    }
   ],
   "source": [
    "n=int(input('digite o valor de n : '))"
   ]
  },
  {
   "cell_type": "code",
   "execution_count": 3,
   "metadata": {},
   "outputs": [
    {
     "name": "stdout",
     "output_type": "stream",
     "text": [
      "24\n"
     ]
    }
   ],
   "source": [
    "Permutacao = fatorial(n)\n",
    "print(Permutacao)\n"
   ]
  },
  {
   "cell_type": "markdown",
   "metadata": {},
   "source": [
    "# Distribuição de Bernoulli"
   ]
  },
  {
   "cell_type": "code",
   "execution_count": 5,
   "metadata": {},
   "outputs": [
    {
     "name": "stdout",
     "output_type": "stream",
     "text": [
      "Digite a probalidade de sucesso p : 0.5\n"
     ]
    }
   ],
   "source": [
    "p=float(input('Digite a probalidade de sucesso p : '))"
   ]
  },
  {
   "cell_type": "code",
   "execution_count": 6,
   "metadata": {},
   "outputs": [
    {
     "name": "stdout",
     "output_type": "stream",
     "text": [
      "Digite a probalidade de sucesso q : 0.5\n"
     ]
    }
   ],
   "source": [
    "q=float(input('Digite a probalidade de sucesso q : '))"
   ]
  },
  {
   "cell_type": "code",
   "execution_count": 7,
   "metadata": {},
   "outputs": [
    {
     "name": "stdout",
     "output_type": "stream",
     "text": [
      "digite o valor de n : 40\n"
     ]
    }
   ],
   "source": [
    "n=int(input('digite o valor de n : '))"
   ]
  },
  {
   "cell_type": "code",
   "execution_count": 8,
   "metadata": {},
   "outputs": [
    {
     "name": "stdout",
     "output_type": "stream",
     "text": [
      "digite o valor de k : 3\n"
     ]
    }
   ],
   "source": [
    "k=int(input('digite o valor de k : '))"
   ]
  },
  {
   "cell_type": "code",
   "execution_count": 9,
   "metadata": {},
   "outputs": [
    {
     "name": "stdout",
     "output_type": "stream",
     "text": [
      "9880.0\n"
     ]
    }
   ],
   "source": [
    "def combinacao (p,q):\n",
    "    comb = fatorial(n)/(fatorial(n-k)*fatorial(k))\n",
    "    return comb\n",
    "print(combinacao(n,k))"
   ]
  },
  {
   "cell_type": "code",
   "execution_count": 10,
   "metadata": {},
   "outputs": [
    {
     "name": "stdout",
     "output_type": "stream",
     "text": [
      "8.985807653516531e-09\n"
     ]
    }
   ],
   "source": [
    "Bernoulli = combinacao(n,k)*((p)**(k))*((q)**(n-k))\n",
    "print(Bernoulli)"
   ]
  },
  {
   "cell_type": "markdown",
   "metadata": {},
   "source": [
    "# Cálculo da média aritmética simples"
   ]
  },
  {
   "cell_type": "code",
   "execution_count": 17,
   "metadata": {},
   "outputs": [
    {
     "name": "stdout",
     "output_type": "stream",
     "text": [
      "Digite a quantidade de termos n : 3\n"
     ]
    }
   ],
   "source": [
    "n=int(input('Digite a quantidade de termos n : '))"
   ]
  },
  {
   "cell_type": "code",
   "execution_count": 19,
   "metadata": {},
   "outputs": [
    {
     "name": "stdout",
     "output_type": "stream",
     "text": [
      "Digite o valor do termo: 2\n",
      "Digite o valor do termo: 8\n",
      "Digite o valor do termo: 2\n",
      "4.0\n"
     ]
    }
   ],
   "source": [
    "soma=0.0\n",
    "for i in range(0,n):\n",
    "    valor=float(input('Digite o valor do termo: '))\n",
    "    soma=soma+(valor/n)\n",
    "print(round(soma,2))"
   ]
  },
  {
   "cell_type": "code",
   "execution_count": 1,
   "metadata": {},
   "outputs": [
    {
     "ename": "SyntaxError",
     "evalue": "invalid syntax (<ipython-input-1-32e5243b6c0d>, line 2)",
     "output_type": "error",
     "traceback": [
      "\u001b[1;36m  File \u001b[1;32m\"<ipython-input-1-32e5243b6c0d>\"\u001b[1;36m, line \u001b[1;32m2\u001b[0m\n\u001b[1;33m    if n == 0\u001b[0m\n\u001b[1;37m             ^\u001b[0m\n\u001b[1;31mSyntaxError\u001b[0m\u001b[1;31m:\u001b[0m invalid syntax\n"
     ]
    }
   ],
   "source": [
    "def f(n):\n",
    "    if n == 0:\n",
    "    return 1\n",
    "else:\n",
    "    valor = f(n-1) +1\n",
    "    return valor"
   ]
  },
  {
   "cell_type": "code",
   "execution_count": null,
   "metadata": {},
   "outputs": [],
   "source": []
  }
 ],
 "metadata": {
  "kernelspec": {
   "display_name": "Python 3",
   "language": "python",
   "name": "python3"
  },
  "language_info": {
   "codemirror_mode": {
    "name": "ipython",
    "version": 3
   },
   "file_extension": ".py",
   "mimetype": "text/x-python",
   "name": "python",
   "nbconvert_exporter": "python",
   "pygments_lexer": "ipython3",
   "version": "3.7.6"
  }
 },
 "nbformat": 4,
 "nbformat_minor": 4
}
