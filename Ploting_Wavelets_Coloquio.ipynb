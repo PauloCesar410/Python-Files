{
 "cells": [
  {
   "cell_type": "code",
   "execution_count": null,
   "metadata": {},
   "outputs": [],
   "source": [
    "#Haar (haar)\n",
    "#Daubechies (db)\n",
    "#Symlets (sym)\n",
    "#Coiflets (coif)\n",
    "#Biorthogonal (bior)\n",
    "#Reverse biorthogonal (rbio)\n",
    "#“Discrete” FIR approximation of Meyer wavelet (dmey)\n",
    "#Gaussian wavelets (gaus)\n",
    "#Mexican hat wavelet (mexh)\n",
    "#Morlet wavelet (morl)\n",
    "#Complex Gaussian wavelets (cgau)\n",
    "#Shannon wavelets (shan)\n",
    "#Frequency B-Spline wavelets (fbsp)\n",
    "#Complex Morlet wavelets (cmor)"
   ]
  },
  {
   "cell_type": "code",
   "execution_count": 2,
   "metadata": {},
   "outputs": [],
   "source": [
    "import pywt\n",
    "wavelet = pywt.Wavelet('db4')\n",
    "#wavelet =pywt.ContinuousWavelet('cmor')\n",
    "phi, psi, x = wavelet.wavefun(level=5)"
   ]
  },
  {
   "cell_type": "code",
   "execution_count": 3,
   "metadata": {},
   "outputs": [
    {
     "name": "stdout",
     "output_type": "stream",
     "text": [
      "Wavelet db4\n",
      "  Family name:    Daubechies\n",
      "  Short name:     db\n",
      "  Filters length: 8\n",
      "  Orthogonal:     True\n",
      "  Biorthogonal:   True\n",
      "  Symmetry:       asymmetric\n",
      "  DWT:            True\n",
      "  CWT:            False\n"
     ]
    }
   ],
   "source": [
    "print(wavelet)"
   ]
  },
  {
   "cell_type": "code",
   "execution_count": 4,
   "metadata": {},
   "outputs": [
    {
     "ename": "MemoryError",
     "evalue": "Unable to allocate 22.0 GiB for an array with shape (2952790006,) and data type float64",
     "output_type": "error",
     "traceback": [
      "\u001b[1;31m---------------------------------------------------------------------------\u001b[0m",
      "\u001b[1;31mMemoryError\u001b[0m                               Traceback (most recent call last)",
      "\u001b[1;32m<ipython-input-4-b57c84f57b2b>\u001b[0m in \u001b[0;36m<module>\u001b[1;34m\u001b[0m\n\u001b[1;32m----> 1\u001b[1;33m \u001b[1;33m[\u001b[0m\u001b[0mphi\u001b[0m\u001b[1;33m,\u001b[0m \u001b[0mpsi\u001b[0m\u001b[1;33m,\u001b[0m \u001b[0mx\u001b[0m\u001b[1;33m]\u001b[0m \u001b[1;33m=\u001b[0m \u001b[0mpywt\u001b[0m\u001b[1;33m.\u001b[0m\u001b[0mWavelet\u001b[0m\u001b[1;33m(\u001b[0m\u001b[1;34m'db6'\u001b[0m\u001b[1;33m)\u001b[0m\u001b[1;33m.\u001b[0m\u001b[0mwavefun\u001b[0m\u001b[1;33m(\u001b[0m\u001b[0mlevel\u001b[0m\u001b[1;33m=\u001b[0m\u001b[1;36m40\u001b[0m\u001b[1;33m)\u001b[0m\u001b[1;33m\u001b[0m\u001b[1;33m\u001b[0m\u001b[0m\n\u001b[0m\u001b[0;32m      2\u001b[0m \u001b[1;32mimport\u001b[0m \u001b[0mpylab\u001b[0m\u001b[1;33m\u001b[0m\u001b[1;33m\u001b[0m\u001b[0m\n\u001b[0;32m      3\u001b[0m \u001b[1;32mimport\u001b[0m \u001b[0mmatplotlib\u001b[0m\u001b[1;33m.\u001b[0m\u001b[0mpyplot\u001b[0m \u001b[1;32mas\u001b[0m \u001b[0mplt\u001b[0m\u001b[1;33m\u001b[0m\u001b[1;33m\u001b[0m\u001b[0m\n\u001b[0;32m      4\u001b[0m \u001b[0mpylab\u001b[0m\u001b[1;33m.\u001b[0m\u001b[0mplot\u001b[0m\u001b[1;33m(\u001b[0m\u001b[0mx\u001b[0m\u001b[1;33m,\u001b[0m \u001b[0mpsi\u001b[0m\u001b[1;33m)\u001b[0m\u001b[1;33m\u001b[0m\u001b[1;33m\u001b[0m\u001b[0m\n\u001b[0;32m      5\u001b[0m \u001b[0mplt\u001b[0m\u001b[1;33m.\u001b[0m\u001b[0mgrid\u001b[0m\u001b[1;33m(\u001b[0m\u001b[1;33m)\u001b[0m\u001b[1;33m\u001b[0m\u001b[1;33m\u001b[0m\u001b[0m\n",
      "\u001b[1;32mpywt\\_extensions\\_pywt.pyx\u001b[0m in \u001b[0;36mpywt._extensions._pywt.Wavelet.wavefun\u001b[1;34m()\u001b[0m\n",
      "\u001b[1;32mpywt\\_extensions\\_dwt.pyx\u001b[0m in \u001b[0;36mpywt._extensions._dwt.upcoef\u001b[1;34m()\u001b[0m\n",
      "\u001b[1;31mMemoryError\u001b[0m: Unable to allocate 22.0 GiB for an array with shape (2952790006,) and data type float64"
     ]
    }
   ],
   "source": [
    "[phi, psi, x] = pywt.Wavelet('db6').wavefun(level=40)\n",
    "import pylab\n",
    "import matplotlib.pyplot as plt \n",
    "pylab.plot(x, psi)\n",
    "plt.grid()\n",
    "pylab.show()"
   ]
  },
  {
   "cell_type": "code",
   "execution_count": null,
   "metadata": {},
   "outputs": [],
   "source": []
  }
 ],
 "metadata": {
  "kernelspec": {
   "display_name": "Python 3",
   "language": "python",
   "name": "python3"
  }
 },
 "nbformat": 4,
 "nbformat_minor": 4
}
