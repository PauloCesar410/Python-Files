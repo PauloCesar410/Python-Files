{
 "cells": [
  {
   "cell_type": "code",
   "execution_count": 31,
   "metadata": {},
   "outputs": [
    {
     "name": "stdout",
     "output_type": "stream",
     "text": [
      "-0.0625\n",
      "0.0\n",
      "0.5625\n",
      "1.0\n",
      "0.5625\n",
      "0.0\n",
      "-0.0625\n"
     ]
    }
   ],
   "source": [
    "import numpy as np\n",
    "c=(-0.0625, 0.0, 0.5625, 1.0, 0.5625, 0.0, -0.0625)\n",
    "for i in range(0,7,1):\n",
    "    print (c[i])"
   ]
  },
  {
   "cell_type": "code",
   "execution_count": 32,
   "metadata": {},
   "outputs": [
    {
     "name": "stdout",
     "output_type": "stream",
     "text": [
      "Matriz A: originada dos coeficientes de interpolets\n",
      " [[-2.     -0.0625  0.      0.      0.    ]\n",
      " [ 1.     -1.4375  0.     -0.0625  0.    ]\n",
      " [ 0.      0.5625 -1.      0.5625  0.    ]\n",
      " [ 0.     -0.0625  0.     -1.4375  1.    ]\n",
      " [ 0.      0.      0.     -0.0625 -2.    ]]\n",
      "Vetor b: originado do coeficientes de Interpelotes \n",
      " [ 0.      0.      0.0625 -0.5    -2.0625]\n",
      "Solução de Ax=b é o vetor c de interpolets =  [ 0.00138889 -0.04444444  0.5         1.04444444  0.99861111]\n"
     ]
    }
   ],
   "source": [
    "A = np.array( ((c[1]-2,c[0],0,0,0), (c[3], c[2]-2,c[1],c[0],0),(c[5],c[4],c[3]-2,c[2],c[1]),(0,c[6],c[5],c[4]-2,c[3]),(0,0,0,c[6],c[5]-2)) )  # Código para o cálculo dos coeficientes de filtro das interpolets de Deslauriers-Dubuc\n",
    "print(\"Matriz A: originada dos coeficientes de interpolets\\n\",A)\n",
    "b = np.array((0,0,-c[0],-c[0]-c[1]-c[2],-c[0]-c[1]-c[2]-c[3]-c[4]))\n",
    "print(\"Vetor b: originado do coeficientes de Interpelotes \\n\",b)\n",
    "interpolets  = np.linalg.solve(A, b)\n",
    "print(\"Solução de Ax=b é o vetor c de interpolets = \",interpolets)\n"
   ]
  },
  {
   "cell_type": "code",
   "execution_count": null,
   "metadata": {},
   "outputs": [],
   "source": []
  }
 ],
 "metadata": {
  "kernelspec": {
   "display_name": "Python 3",
   "language": "python",
   "name": "python3"
  },
  "language_info": {
   "codemirror_mode": {
    "name": "ipython",
    "version": 3
   },
   "file_extension": ".py",
   "mimetype": "text/x-python",
   "name": "python",
   "nbconvert_exporter": "python",
   "pygments_lexer": "ipython3",
   "version": "3.7.6"
  }
 },
 "nbformat": 4,
 "nbformat_minor": 4
}
