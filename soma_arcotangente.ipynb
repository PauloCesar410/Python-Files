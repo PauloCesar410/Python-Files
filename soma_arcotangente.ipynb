{
 "cells": [
  {
   "cell_type": "code",
   "execution_count": 2,
   "metadata": {},
   "outputs": [
    {
     "name": "stdout",
     "output_type": "stream",
     "text": [
      "Cálculo de arctg(x)\n",
      "Valor de x(rad): 1\n",
      "n interações: 100\n",
      "Valor obtido:  0.7828982258896384\n",
      "Valor real:  0.7853981633974483\n",
      "Valor de π/4:  0.7853981633974483\n",
      "Erro:  0.318301929431018\n"
     ]
    }
   ],
   "source": [
    "import math\n",
    "from operator import mod\n",
    "\n",
    "def somatorio(x,n):\n",
    "    soma = 0\n",
    "    for i in range(1,n+1):\n",
    "        expoente = ((2*i)-1)\n",
    "        soma+=(pow(-1,(i+1)))*(pow(x,expoente)/expoente)\n",
    "    print(\"Valor obtido: \", soma)\n",
    "    print(\"Valor real: \", (math.atan(x)))\n",
    "    print(\"Valor de π/4: \", (math.pi/4))\n",
    "    print(\"Erro: \", (abs(soma - math.atan(x))/math.atan(x))*100)\n",
    "\n",
    "print(\"Cálculo de arctg(x)\")\n",
    "x = float(input(\"Valor de x(rad): \"))\n",
    "n = int(input(\"n interações: \"))\n",
    "   \n",
    "somatorio(x,n)\n"
   ]
  },
  {
   "cell_type": "code",
   "execution_count": 3,
   "metadata": {},
   "outputs": [
    {
     "name": "stdout",
     "output_type": "stream",
     "text": [
      "Cálculo de arctg(x)\n",
      "Valor de x(rad): 1\n",
      "Erro(<1): 0.0003\n",
      "Valor obtido:  0.7853958072185905\n",
      "Valor real:  0.7853981633974483\n",
      "Erro:  0.00029999800962181007\n"
     ]
    }
   ],
   "source": [
    "import math\n",
    "from operator import mod\n",
    "\n",
    "def somatorio(x,erro):\n",
    "    soma = 0\n",
    "    erro_aux = 1\n",
    "    i = 1\n",
    "    while erro_aux > erro:\n",
    "        expoente = ((2*i)-1)\n",
    "        soma+=(pow(-1,(i+1)))*(pow(x,expoente)/expoente)\n",
    "        erro_aux = ((abs(soma - math.atan(x))/math.atan(x))*100)\n",
    "        i += 1\n",
    "    print(\"Valor obtido: \", soma)\n",
    "    print(\"Valor real: \", (math.atan(x)))\n",
    "    print(\"Erro: \", (abs(soma - math.atan(x))/math.atan(x))*100)\n",
    "\n",
    "print(\"Cálculo de arctg(x)\")\n",
    "x = float(input(\"Valor de x(rad): \"))\n",
    "erro = float(input(\"Erro(<1): \"))\n",
    "   \n",
    "somatorio(x,erro)\n"
   ]
  },
  {
   "cell_type": "code",
   "execution_count": null,
   "metadata": {},
   "outputs": [],
   "source": []
  }
 ],
 "metadata": {
  "kernelspec": {
   "display_name": "Python 3",
   "language": "python",
   "name": "python3"
  },
  "language_info": {
   "codemirror_mode": {
    "name": "ipython",
    "version": 3
   },
   "file_extension": ".py",
   "mimetype": "text/x-python",
   "name": "python",
   "nbconvert_exporter": "python",
   "pygments_lexer": "ipython3",
   "version": "3.7.6"
  }
 },
 "nbformat": 4,
 "nbformat_minor": 4
}
