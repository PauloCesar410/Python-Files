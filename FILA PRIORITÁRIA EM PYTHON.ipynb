{
 "cells": [
  {
   "cell_type": "code",
   "execution_count": 1,
   "metadata": {},
   "outputs": [],
   "source": [
    "#FILA PRIORITÁRIA EM PYTHON"
   ]
  },
  {
   "cell_type": "code",
   "execution_count": 14,
   "metadata": {},
   "outputs": [
    {
     "name": "stdout",
     "output_type": "stream",
     "text": [
      "12 1 14 7\n",
      "14\n",
      "12\n",
      "7\n",
      "1\n"
     ]
    }
   ],
   "source": [
    "class PriorityQueue(object): \n",
    "    def __init__(self): \n",
    "        self.queue = [] \n",
    "  \n",
    "    def __str__(self): \n",
    "        return ' '.join([str(i) for i in self.queue]) \n",
    "  \n",
    "    \n",
    "    def isEmpty(self): \n",
    "        return len(self.queue) == 0\n",
    "  \n",
    "    \n",
    "    def insert(self, data): \n",
    "        self.queue.append(data) \n",
    "  \n",
    "    \n",
    "    def delete(self): \n",
    "        try: \n",
    "            max = 0\n",
    "            for i in range(len(self.queue)): \n",
    "                if self.queue[i] > self.queue[max]: \n",
    "                    max = i \n",
    "            item = self.queue[max] \n",
    "            del self.queue[max] \n",
    "            return item \n",
    "        except IndexError: \n",
    "            print() \n",
    "            exit()\n",
    "\n",
    "if __name__ == '__main__':\n",
    "            myQueue = PriorityQueue() \n",
    "            myQueue.insert(12) \n",
    "            myQueue.insert(1) \n",
    "            myQueue.insert(14) \n",
    "            myQueue.insert(7) \n",
    "            print(myQueue)\n",
    "            while not myQueue.isEmpty(): \n",
    "                 print(myQueue.delete())\n",
    "   "
   ]
  },
  {
   "cell_type": "code",
   "execution_count": null,
   "metadata": {},
   "outputs": [],
   "source": []
  }
 ],
 "metadata": {
  "kernelspec": {
   "display_name": "Python 3",
   "language": "python",
   "name": "python3"
  },
  "language_info": {
   "codemirror_mode": {
    "name": "ipython",
    "version": 3
   },
   "file_extension": ".py",
   "mimetype": "text/x-python",
   "name": "python",
   "nbconvert_exporter": "python",
   "pygments_lexer": "ipython3",
   "version": "3.7.6"
  }
 },
 "nbformat": 4,
 "nbformat_minor": 4
}
