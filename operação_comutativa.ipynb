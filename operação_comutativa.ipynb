{
 "cells": [
  {
   "cell_type": "code",
   "execution_count": 36,
   "metadata": {},
   "outputs": [],
   "source": [
    "def S(x,y):\n",
    "    return 2*x+3*y"
   ]
  },
  {
   "cell_type": "code",
   "execution_count": 37,
   "metadata": {},
   "outputs": [],
   "source": [
    "def P(x,y):\n",
    "    return 2*x*y"
   ]
  },
  {
   "cell_type": "code",
   "execution_count": 42,
   "metadata": {},
   "outputs": [
    {
     "name": "stdout",
     "output_type": "stream",
     "text": [
      "Digite o valor de a:  8\n",
      "Digite o valor de b:   1\n",
      "Digite o valor de c:   2\n"
     ]
    }
   ],
   "source": [
    "a=int(input(\"Digite o valor de a:  \"))\n",
    "b=int(input(\"Digite o valor de b:   \"))\n",
    "c=int(input(\"Digite o valor de c:   \"))"
   ]
  },
  {
   "cell_type": "code",
   "execution_count": 43,
   "metadata": {},
   "outputs": [
    {
     "name": "stdout",
     "output_type": "stream",
     "text": [
      "A operação não é transitiva\n"
     ]
    }
   ],
   "source": [
    "if ((a<b) and (b<c)):\n",
    "        print(\"A propriedade transitiva é verdadeira, ou seja a<c\")\n",
    "else:\n",
    "      print(\"A operação não é transitiva\")"
   ]
  },
  {
   "cell_type": "code",
   "execution_count": 39,
   "metadata": {},
   "outputs": [
    {
     "name": "stdout",
     "output_type": "stream",
     "text": [
      "A operação não é comutativa\n"
     ]
    }
   ],
   "source": [
    "if (S(a,b)==S(b,a)):\n",
    "        print(\"A operação é comutativa\")\n",
    "else:\n",
    "      print(\"A operação não é comutativa\")      "
   ]
  },
  {
   "cell_type": "code",
   "execution_count": 33,
   "metadata": {},
   "outputs": [
    {
     "name": "stdout",
     "output_type": "stream",
     "text": [
      "2\n"
     ]
    }
   ],
   "source": [
    "print(S(a,0))"
   ]
  },
  {
   "cell_type": "code",
   "execution_count": null,
   "metadata": {},
   "outputs": [],
   "source": []
  }
 ],
 "metadata": {
  "kernelspec": {
   "display_name": "Python 3",
   "language": "python",
   "name": "python3"
  },
  "language_info": {
   "codemirror_mode": {
    "name": "ipython",
    "version": 3
   },
   "file_extension": ".py",
   "mimetype": "text/x-python",
   "name": "python",
   "nbconvert_exporter": "python",
   "pygments_lexer": "ipython3",
   "version": "3.7.6"
  }
 },
 "nbformat": 4,
 "nbformat_minor": 4
}
