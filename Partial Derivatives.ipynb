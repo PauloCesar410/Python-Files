{
 "cells": [
  {
   "cell_type": "code",
   "execution_count": 65,
   "metadata": {},
   "outputs": [],
   "source": [
    "import numpy as np"
   ]
  },
  {
   "cell_type": "code",
   "execution_count": 66,
   "metadata": {},
   "outputs": [],
   "source": [
    "def Derivativef1_x(x,y,h1):\n",
    "    derx1 = (f1(x+h1,y)-f1(x,y))/h1\n",
    "    return derx1"
   ]
  },
  {
   "cell_type": "code",
   "execution_count": 67,
   "metadata": {},
   "outputs": [],
   "source": [
    "def Derivativef2_x(x,y,h2):\n",
    "    derx2 = (f2(x+h2,y)-f2(x,y))/h2\n",
    "    return derx2"
   ]
  },
  {
   "cell_type": "code",
   "execution_count": 68,
   "metadata": {},
   "outputs": [],
   "source": [
    "def Derivativef1_y(x,y,h1):\n",
    "    dery1 = (f1(x,y+h1)-f1(x,y))/h1\n",
    "    return dery1"
   ]
  },
  {
   "cell_type": "code",
   "execution_count": 69,
   "metadata": {},
   "outputs": [],
   "source": [
    "def Derivativef2_y(x,y,h2):\n",
    "    dery2 = (f2(x,y+h2)-f2(x,y))/h2\n",
    "    return dery2"
   ]
  },
  {
   "cell_type": "code",
   "execution_count": 70,
   "metadata": {},
   "outputs": [
    {
     "name": "stdout",
     "output_type": "stream",
     "text": [
      "Digite o valor da coordenada x: 1\n"
     ]
    }
   ],
   "source": [
    "a=float(input(\"Digite o valor da coordenada x: \"))"
   ]
  },
  {
   "cell_type": "code",
   "execution_count": 95,
   "metadata": {},
   "outputs": [
    {
     "name": "stdout",
     "output_type": "stream",
     "text": [
      "Digite o valor da coordenada y: 1\n"
     ]
    }
   ],
   "source": [
    "b=float(input(\"Digite o valor da coordenada y: \"))"
   ]
  },
  {
   "cell_type": "code",
   "execution_count": 72,
   "metadata": {},
   "outputs": [
    {
     "name": "stdout",
     "output_type": "stream",
     "text": [
      "Digite o valor da precisão h1: 0.001\n"
     ]
    }
   ],
   "source": [
    "h1=float(input(\"Digite o valor da precisão h1: \"))"
   ]
  },
  {
   "cell_type": "code",
   "execution_count": 79,
   "metadata": {},
   "outputs": [
    {
     "name": "stdout",
     "output_type": "stream",
     "text": [
      "Digite o valor da precisão h2: 0.001\n"
     ]
    }
   ],
   "source": [
    "h2=float(input(\"Digite o valor da precisão h2: \"))"
   ]
  },
  {
   "cell_type": "code",
   "execution_count": 93,
   "metadata": {},
   "outputs": [
    {
     "name": "stdout",
     "output_type": "stream",
     "text": [
      "1.0\n",
      "1.001\n",
      "1.002\n",
      "1.003\n",
      "1.004\n",
      "1.005\n",
      "1.006\n",
      "1.007\n"
     ]
    }
   ],
   "source": [
    "for k in range(0,8):\n",
    "    print (a +k*h1)"
   ]
  },
  {
   "cell_type": "code",
   "execution_count": 96,
   "metadata": {},
   "outputs": [
    {
     "name": "stdout",
     "output_type": "stream",
     "text": [
      "1.0\n",
      "1.001\n",
      "1.002\n",
      "1.003\n",
      "1.004\n",
      "1.005\n",
      "1.006\n",
      "1.007\n"
     ]
    }
   ],
   "source": [
    "for n in range(0,8):\n",
    "    print (b +n*h2)"
   ]
  },
  {
   "cell_type": "code",
   "execution_count": 74,
   "metadata": {},
   "outputs": [],
   "source": [
    "def f1(x,y):\n",
    "    return x**2+y**2-4"
   ]
  },
  {
   "cell_type": "code",
   "execution_count": 75,
   "metadata": {},
   "outputs": [],
   "source": [
    "def f2(x,y):\n",
    "     return x**2-y**2-4"
   ]
  },
  {
   "cell_type": "code",
   "execution_count": 99,
   "metadata": {},
   "outputs": [
    {
     "name": "stdout",
     "output_type": "stream",
     "text": [
      "2.0009999999999195\n",
      "2.0009999999999195\n",
      "2.002999999999755\n",
      "2.0050000000000345\n",
      "2.00699999999987\n",
      "2.0089999999997055\n",
      "2.010999999999541\n",
      "2.0129999999998205\n",
      "2.014999999999656\n"
     ]
    }
   ],
   "source": [
    "valor2 =Derivativef1_x(a,b,h1)\n",
    "print(valor2)\n",
    "\n",
    "for k in range(0,8):\n",
    "    print (Derivativef1_x(a+k*h1,b+k*h2,h1))"
   ]
  },
  {
   "cell_type": "code",
   "execution_count": 100,
   "metadata": {},
   "outputs": [
    {
     "name": "stdout",
     "output_type": "stream",
     "text": [
      "2.0009999999999195\n",
      "2.0009999999999195\n",
      "2.002999999999755\n",
      "2.0050000000000345\n",
      "2.00699999999987\n",
      "2.0089999999997055\n",
      "2.010999999999541\n",
      "2.0129999999998205\n",
      "2.014999999999656\n"
     ]
    }
   ],
   "source": [
    "valor3 =Derivativef1_y(a,b,h1)\n",
    "print(valor3)\n",
    "\n",
    "for k in range(0,8):\n",
    "    print (Derivativef1_y(a+k*h1,b+k*h2,h1))"
   ]
  },
  {
   "cell_type": "code",
   "execution_count": 101,
   "metadata": {},
   "outputs": [
    {
     "name": "stdout",
     "output_type": "stream",
     "text": [
      "2.0009999999999195\n",
      "2.0009999999999195\n",
      "2.002999999999755\n",
      "2.0049999999995904\n",
      "2.00699999999987\n",
      "2.0089999999997055\n",
      "2.010999999999541\n",
      "2.0129999999998205\n",
      "2.0150000000001\n"
     ]
    }
   ],
   "source": [
    "valor1 =Derivativef2_x(a,b,h2)\n",
    "print(valor1)\n",
    "\n",
    "for k in range(0,8):\n",
    "    print (Derivativef2_x(a+k*h1,b+k*h2,h1))"
   ]
  },
  {
   "cell_type": "code",
   "execution_count": 102,
   "metadata": {},
   "outputs": [
    {
     "name": "stdout",
     "output_type": "stream",
     "text": [
      "-2.0009999999999195\n",
      "-2.0009999999999195\n",
      "-2.003000000000199\n",
      "-2.0049999999995904\n",
      "-2.00699999999987\n",
      "-2.0089999999992614\n",
      "-2.010999999999541\n",
      "-2.0129999999998205\n",
      "-2.0150000000001\n"
     ]
    }
   ],
   "source": [
    "valor4 =Derivativef2_y(a,b,h2)\n",
    "print(valor4)\n",
    "\n",
    "for k in range(0,8):\n",
    "    print (Derivativef2_y(a+k*h1,b+k*h2,h1))"
   ]
  },
  {
   "cell_type": "code",
   "execution_count": 106,
   "metadata": {},
   "outputs": [
    {
     "name": "stdout",
     "output_type": "stream",
     "text": [
      "Matriz A \n",
      " [[-2.001 -2.001]\n",
      " [-2.001  2.001]]\n",
      "Vetor b \n",
      " [0.001 0.001]\n",
      "Solução de Ax=b é x =  [-0.  0.]\n"
     ]
    }
   ],
   "source": [
    "import numpy as np  # Ax=b\n",
    "A = -np.array(((valor2, valor3), (valor1, valor4)))\n",
    "print(\"Matriz A \\n\",A)\n",
    "b = np.array((h1, h2))\n",
    "print(\"Vetor b \\n\",b)\n",
    "x  = np.linalg.solve(A, b)\n",
    "print(\"Solução de Ax=b é x = \",np.round(x,2))"
   ]
  },
  {
   "cell_type": "code",
   "execution_count": null,
   "metadata": {},
   "outputs": [],
   "source": []
  }
 ],
 "metadata": {
  "kernelspec": {
   "display_name": "Python 3",
   "language": "python",
   "name": "python3"
  },
  "language_info": {
   "codemirror_mode": {
    "name": "ipython",
    "version": 3
   },
   "file_extension": ".py",
   "mimetype": "text/x-python",
   "name": "python",
   "nbconvert_exporter": "python",
   "pygments_lexer": "ipython3",
   "version": "3.7.6"
  }
 },
 "nbformat": 4,
 "nbformat_minor": 4
}
