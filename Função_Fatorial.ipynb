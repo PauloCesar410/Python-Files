{
 "cells": [
  {
   "cell_type": "code",
   "execution_count": 3,
   "metadata": {},
   "outputs": [],
   "source": [
    "import time\n",
    "def fatorial(n):\n",
    "    fatorial = 1\n",
    "    while n >= 1:\n",
    "        fatorial = fatorial * n\n",
    "        n = n - 1\n",
    "    return fatorial\n",
    "#print(fatorial(100))"
   ]
  },
  {
   "cell_type": "code",
   "execution_count": 1,
   "metadata": {},
   "outputs": [],
   "source": [
    "import numpy as np\n",
    "def Stirling(n):\n",
    "    stirling = np.sqrt(2*np.pi*n)*(n/np.exp(1))**(n)\n",
    "    return stirling"
   ]
  },
  {
   "cell_type": "code",
   "execution_count": 5,
   "metadata": {},
   "outputs": [
    {
     "name": "stdout",
     "output_type": "stream",
     "text": [
      "0.0009970664978027344 segundos\n",
      "A quantidade de dígitos para o valor calculado é:  2568\n"
     ]
    }
   ],
   "source": [
    "import time\n",
    "inicio = (time.time())\n",
    "valor = fatorial(1000)\n",
    "fim = (time.time())\n",
    "print((fim - inicio), \"segundos\")\n",
    "\n",
    "string = str(valor)\n",
    "print(\"A quantidade de dígitos para o valor calculado é: \", len(string))"
   ]
  },
  {
   "cell_type": "code",
   "execution_count": 4,
   "metadata": {},
   "outputs": [
    {
     "data": {
      "image/png": "[encoded data removed]",
      "text/plain": [
       "<Figure size 576x576 with 1 Axes>"
      ]
     },
     "metadata": {
      "needs_background": "light"
     },
     "output_type": "display_data"
    }
   ],
   "source": [
    "import matplotlib.pyplot as plt\n",
    "plt.figure(figsize=(8,8))\n",
    "x=[0,1,2,3,4,5] \n",
    "y=[fatorial(i) for i in x]\n",
    "#y1=[Stirling(i) for i in x]\n",
    "plt.plot(x,y, color='#FF4500', marker = 'o', linewidth=1.0, label='função f(n)=n!')\n",
    "#plt.plot(x,y, color='#FFFF00', marker = 'H', linewidth=1.0, label='função Stirling')\n",
    "plt.title('Gráfico da função fatorial')\n",
    "plt.xlabel('Valores inteiros de n')\n",
    "plt.ylabel('Valor do fatorial de n')\n",
    "plt.grid()\n",
    "plt.legend()\n",
    "plt.show()"
   ]
  },
  {
   "cell_type": "code",
   "execution_count": 74,
   "metadata": {},
   "outputs": [],
   "source": [
    "import numpy as np\n",
    "def f(t):\n",
    "    return t**(10)*np.exp(-t)"
   ]
  },
  {
   "cell_type": "code",
   "execution_count": 75,
   "metadata": {},
   "outputs": [
    {
     "name": "stdout",
     "output_type": "stream",
     "text": [
      "digite o ponto inicial: 0\n",
      "digite o ponto final: 100\n",
      "digite a quantidade de divisões do intervalo: 10000\n"
     ]
    }
   ],
   "source": [
    "a=float(input('digite o ponto inicial: '))\n",
    "b=float(input('digite o ponto final: '))\n",
    "n=int(input('digite a quantidade de divisões do intervalo: '))"
   ]
  },
  {
   "cell_type": "code",
   "execution_count": 76,
   "metadata": {},
   "outputs": [
    {
     "name": "stdout",
     "output_type": "stream",
     "text": [
      "0.01\n"
     ]
    }
   ],
   "source": [
    "deltax=((b-a)/n)\n",
    "print(deltax)"
   ]
  },
  {
   "cell_type": "code",
   "execution_count": 77,
   "metadata": {},
   "outputs": [
    {
     "name": "stdout",
     "output_type": "stream",
     "text": [
      "3628800.0\n"
     ]
    }
   ],
   "source": [
    "soma=0\n",
    "for i in range(0,n,1):\n",
    "    t=a+deltax*i\n",
    "    soma += f(t)*deltax\n",
    "print(round(soma))"
   ]
  },
  {
   "cell_type": "code",
   "execution_count": 12,
   "metadata": {},
   "outputs": [],
   "source": [
    "# Erro percentual na função gamma"
   ]
  },
  {
   "cell_type": "code",
   "execution_count": 72,
   "metadata": {},
   "outputs": [
    {
     "name": "stdout",
     "output_type": "stream",
     "text": [
      "362880.0\n",
      "362880.0\n"
     ]
    }
   ],
   "source": [
    "valor3 =round(float(fatorial(9)),3)\n",
    "print(valor3)\n",
    "valor4 =round(soma,3)\n",
    "print(valor4)\n",
    "erro1 = round(((valor3-valor4)/valor3)*100,3)"
   ]
  },
  {
   "cell_type": "code",
   "execution_count": 73,
   "metadata": {},
   "outputs": [
    {
     "name": "stdout",
     "output_type": "stream",
     "text": [
      "0.0\n"
     ]
    }
   ],
   "source": [
    "print(round(erro1,2))"
   ]
  },
  {
   "cell_type": "raw",
   "metadata": {},
   "source": [
    "# Erro percentual na aproximação de Stirling"
   ]
  },
  {
   "cell_type": "code",
   "execution_count": 43,
   "metadata": {},
   "outputs": [
    {
     "name": "stdout",
     "output_type": "stream",
     "text": [
      "3628800.0\n",
      "3598695.619\n"
     ]
    }
   ],
   "source": [
    "valor1 =round(float(fatorial(10)),3)\n",
    "print(valor1)\n",
    "valor2 =round(float(Stirling(10)),3)\n",
    "print(valor2)\n",
    "erro = round(((valor1-valor2)/valor1)*100,3)"
   ]
  },
  {
   "cell_type": "code",
   "execution_count": 44,
   "metadata": {},
   "outputs": [
    {
     "name": "stdout",
     "output_type": "stream",
     "text": [
      "0.83\n"
     ]
    }
   ],
   "source": [
    "print(round(erro,2))"
   ]
  },
  {
   "cell_type": "markdown",
   "metadata": {},
   "source": [
    "# Função sub fatorial"
   ]
  },
  {
   "cell_type": "code",
   "execution_count": 4,
   "metadata": {},
   "outputs": [],
   "source": [
    "#O número de permutações caóticas é o inteiro mais próximo de Dn = n!/e \n",
    "import numpy as np\n",
    "def D(n):\n",
    "    t = ( fatorial(n)/(np.exp(1)) )\n",
    "    r = abs(np.floor(t)-t)\n",
    "    if r > 1/2:\n",
    "        return np.floor(t)+1\n",
    "    else:\n",
    "        return np.floor(t)\n"
   ]
  },
  {
   "cell_type": "code",
   "execution_count": 5,
   "metadata": {},
   "outputs": [
    {
     "name": "stdout",
     "output_type": "stream",
     "text": [
      "8.950146311929021e+17\n"
     ]
    }
   ],
   "source": [
    "print(D(20))"
   ]
  },
  {
   "cell_type": "code",
   "execution_count": 9,
   "metadata": {},
   "outputs": [],
   "source": [
    "#Fatorial de números grandes\n",
    "import numpy as np\n",
    "import time\n",
    "import math\n",
    "def fat(n):\n",
    "    valor = (10)**(0.5*( np.log(2)/np.log(10) + np.log(np.pi)/np.log(10)+np.log(n)/np.log(10))+n*(np.log(n)/np.log(10) -1/np.log(10))  ) \n",
    "    return valor"
   ]
  },
  {
   "cell_type": "code",
   "execution_count": 14,
   "metadata": {},
   "outputs": [
    {
     "name": "stdout",
     "output_type": "stream",
     "text": [
      "118.01916795759014\n",
      "0.0\n"
     ]
    }
   ],
   "source": [
    "tempo1 =1000*time.time()\n",
    "print(fat(5))\n",
    "tempo2 = 1000*time.time()\n",
    "print(tempo2-tempo1)"
   ]
  },
  {
   "cell_type": "markdown",
   "metadata": {},
   "source": [
    "# Cálculos com a função Gama"
   ]
  },
  {
   "cell_type": "code",
   "execution_count": 5,
   "metadata": {},
   "outputs": [
    {
     "name": "stdout",
     "output_type": "stream",
     "text": [
      "Digite o valor de n: 5\n",
      "The gamma value of the given argument is : 120.0\n"
     ]
    }
   ],
   "source": [
    "import math \n",
    "n = float(input(\"Digite o valor de n: \"))\n",
    "print (\"The gamma value of the given argument is : \"\n",
    "                       + str(math.gamma(n+1))) "
   ]
  },
  {
   "cell_type": "code",
   "execution_count": 2,
   "metadata": {},
   "outputs": [
    {
     "name": "stdout",
     "output_type": "stream",
     "text": [
      "The gamma value using factorial is : 120\n",
      "The time taken to compute is : 0.0\n",
      "\n",
      "\n",
      "The gamma value using gamma() is : 120.0\n",
      "The time taken to compute is : 0.0\n"
     ]
    }
   ],
   "source": [
    "import math \n",
    "import time  \n",
    "gamma_var = 6\n",
    "start_fact = time.time() \n",
    "res_fact = math.factorial(gamma_var-1) \n",
    "  \n",
    "print (\"The gamma value using factorial is : \" \n",
    "                              + str(res_fact)) \n",
    "  \n",
    "print (\"The time taken to compute is : \"\n",
    "        + str(time.time() - start_fact)) \n",
    "  \n",
    "print ('\\n') \n",
    "  \n",
    "start_gamma = time.time() \n",
    "res_gamma = math.gamma(gamma_var) \n",
    "  \n",
    "print (\"The gamma value using gamma() is : \"\n",
    "                           + str(res_gamma)) \n",
    "  \n",
    "print (\"The time taken to compute is : \" \n",
    "       + str(time.time() - start_gamma)) "
   ]
  },
  {
   "cell_type": "markdown",
   "metadata": {},
   "source": [
    "# Função Sub-Fatorial"
   ]
  },
  {
   "cell_type": "code",
   "execution_count": 40,
   "metadata": {},
   "outputs": [],
   "source": [
    "import time\n",
    "def fatorial(n):\n",
    "    fatorial = 1\n",
    "    while n >= 1:\n",
    "        fatorial = fatorial * n\n",
    "        n = n - 1\n",
    "    return fatorial\n",
    "\n",
    "def subfatorial(n):\n",
    "    n= int(input(\"Digite o valor de n: \"))\n",
    "    Soma=0\n",
    "    for i in range(0,n+1):\n",
    "        Soma += (fatorial(n))*(  ( (-1)**i )/(fatorial(i))    )\n",
    "    return Soma"
   ]
  },
  {
   "cell_type": "code",
   "execution_count": 49,
   "metadata": {},
   "outputs": [
    {
     "name": "stdout",
     "output_type": "stream",
     "text": [
      "Digite o valor de n: 6\n",
      "265.0\n"
     ]
    }
   ],
   "source": [
    "print(subfatorial(6))"
   ]
  },
  {
   "cell_type": "code",
   "execution_count": 50,
   "metadata": {},
   "outputs": [
    {
     "name": "stdout",
     "output_type": "stream",
     "text": [
      "Digite o valor de n: 1\n",
      "Digite o valor de n: 2\n",
      "Digite o valor de n: 3\n",
      "Digite o valor de n: 4\n",
      "Digite o valor de n: 5\n"
     ]
    },
    {
     "data": {
      "image/png": "[encoded data removed]",
      "text/plain": [
       "<Figure size 576x576 with 1 Axes>"
      ]
     },
     "metadata": {
      "needs_background": "light"
     },
     "output_type": "display_data"
    }
   ],
   "source": [
    "import matplotlib.pyplot as plt\n",
    "plt.figure(figsize=(8,8))\n",
    "x=[1,2,3,4,5] \n",
    "y=[subfatorial(i) for i in x]\n",
    "plt.plot(x,y, color='#FF4500', marker = 'o', linewidth=1.0, label='função f(n)=!n')\n",
    "plt.title('Gráfico da função subfatorial')\n",
    "plt.xlabel('Valores inteiros de n')\n",
    "plt.ylabel('Valor do subfatorial de n')\n",
    "plt.grid()\n",
    "plt.legend()\n",
    "plt.show()"
   ]
  },
  {
   "cell_type": "code",
   "execution_count": 53,
   "metadata": {},
   "outputs": [
    {
     "name": "stdout",
     "output_type": "stream",
     "text": [
      "Digite o valor de n: 1\n",
      "Digite o valor de n: 2\n",
      "Digite o valor de n: 3\n",
      "Digite o valor de n: 4\n",
      "Digite o valor de n: 5\n"
     ]
    },
    {
     "data": {
      "image/png": "[encoded data removed]",
      "text/plain": [
       "<Figure size 576x576 with 1 Axes>"
      ]
     },
     "metadata": {
      "needs_background": "light"
     },
     "output_type": "display_data"
    }
   ],
   "source": [
    "import matplotlib.pyplot as plt\n",
    "plt.figure(figsize=(8,8))\n",
    "x=[1,2,3,4,5] \n",
    "y=[subfatorial(i) for i in x]\n",
    "y1=[fatorial(i) for i in x]\n",
    "plt.plot(x,y1, color='#0000FF', marker = 'o', linewidth=1.0, label='função g(n)=n!')\n",
    "plt.plot(x,y, color='#FF0000', marker = 'o', linewidth=1.0, label='função f(n)=!n')\n",
    "plt.title('Gráfico da função fatorial x subfatorial')\n",
    "plt.xlabel('Valores inteiros de n')\n",
    "plt.ylabel('Valores do fatorial e do subfatorial de n')\n",
    "plt.grid()\n",
    "plt.legend()\n",
    "plt.show()"
   ]
  },
  {
   "cell_type": "code",
   "execution_count": null,
   "metadata": {},
   "outputs": [],
   "source": []
  }
 ],
 "metadata": {
  "kernelspec": {
   "display_name": "Python 3",
   "language": "python",
   "name": "python3"
  },
  "language_info": {
   "codemirror_mode": {
    "name": "ipython",
    "version": 3
   },
   "file_extension": ".py",
   "mimetype": "text/x-python",
   "name": "python",
   "nbconvert_exporter": "python",
   "pygments_lexer": "ipython3",
   "version": "3.7.6"
  }
 },
 "nbformat": 4,
 "nbformat_minor": 4
}
