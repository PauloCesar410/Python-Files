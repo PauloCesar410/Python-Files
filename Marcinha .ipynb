{
 "cells": [
  {
   "cell_type": "markdown",
   "metadata": {},
   "source": [
    "# Pesquisa quantitativa de avaliação do semestre remoto 2020.1 (Docentes)"
   ]
  },
  {
   "cell_type": "code",
   "execution_count": 1,
   "metadata": {},
   "outputs": [],
   "source": [
    "# Total de alunos:\n",
    "Alunos = 133\n",
    "# número de questinários respondidos da CPA\n",
    "Quest_CPA = 8\n",
    "# número de questinários respondidos da NDE\n",
    "Quest_CPA = 9"
   ]
  },
  {
   "cell_type": "markdown",
   "metadata": {},
   "source": [
    "# Pesquisa quantitativa de avaliação do semestre remoto 2020.1 (Discentes)"
   ]
  },
  {
   "cell_type": "code",
   "execution_count": 10,
   "metadata": {},
   "outputs": [],
   "source": [
    "# Total de alunos:\n",
    "Alunos = 133\n",
    "# número de alunos que responderam o questionário da CPA\n",
    "Quest_al_CPA = 80\n",
    "# número de alunos que responderam o questionário do NDE\n",
    "Quest_al_NDE = 47"
   ]
  },
  {
   "cell_type": "code",
   "execution_count": 34,
   "metadata": {},
   "outputs": [
    {
     "name": "stdout",
     "output_type": "stream",
     "text": [
      "Porcentagem(%) de alunos que responderam o questionário da CPA 60.15\n"
     ]
    }
   ],
   "source": [
    "porcentagem_CPA = (Quest_al_CPA/Alunos)*100\n",
    "valor=round(porcentagem_CPA,ndigits=2)\n",
    "print(\"Porcentagem(%) de alunos que responderam o questionário da CPA\",valor)"
   ]
  },
  {
   "cell_type": "code",
   "execution_count": 35,
   "metadata": {},
   "outputs": [
    {
     "name": "stdout",
     "output_type": "stream",
     "text": [
      "Porcentagem(%) de alunos que responderam o questionário do NDE % 35.34\n"
     ]
    }
   ],
   "source": [
    "porcentagem_NDE = (Quest_al_NDE/Alunos)*100\n",
    "valor1=round(porcentagem_NDE,ndigits=2)\n",
    "print(\"Porcentagem(%) de alunos que responderam o questionário do NDE %\",valor1)"
   ]
  },
  {
   "cell_type": "markdown",
   "metadata": {},
   "source": [
    "# Porcentagem amostral de alunos que responderam aos questionários (CPA e NDE)"
   ]
  },
  {
   "cell_type": "code",
   "execution_count": 28,
   "metadata": {},
   "outputs": [
    {
     "name": "stdout",
     "output_type": "stream",
     "text": [
      "Porcentagem(%) amostral de alunos que reponderam aos questionários 95.49\n"
     ]
    }
   ],
   "source": [
    "porcentagem = ((Quest_al_CPA+Quest_al_NDE)/Alunos)*100\n",
    "valor2=round(porcentagem,ndigits=2)\n",
    "print(\"Porcentagem(%) amostral de alunos que reponderam aos questionários\",valor2)"
   ]
  },
  {
   "cell_type": "markdown",
   "metadata": {},
   "source": [
    "# Porcentagem amostral de alunos que não responderam aos questionários (CPA e NDE)"
   ]
  },
  {
   "cell_type": "code",
   "execution_count": 31,
   "metadata": {},
   "outputs": [
    {
     "name": "stdout",
     "output_type": "stream",
     "text": [
      "Porcentagem(%) amostral de alunos que reponderam aos questionários 4.51\n"
     ]
    }
   ],
   "source": [
    "valor3=round(100-porcentagem,ndigits=2)\n",
    "print(\"Porcentagem(%) amostral de alunos que reponderam aos questionários\",valor3)"
   ]
  },
  {
   "cell_type": "code",
   "execution_count": null,
   "metadata": {},
   "outputs": [],
   "source": []
  }
 ],
 "metadata": {
  "kernelspec": {
   "display_name": "Python 3",
   "language": "python",
   "name": "python3"
  },
  "language_info": {
   "codemirror_mode": {
    "name": "ipython",
    "version": 3
   },
   "file_extension": ".py",
   "mimetype": "text/x-python",
   "name": "python",
   "nbconvert_exporter": "python",
   "pygments_lexer": "ipython3",
   "version": "3.7.6"
  }
 },
 "nbformat": 4,
 "nbformat_minor": 4
}
