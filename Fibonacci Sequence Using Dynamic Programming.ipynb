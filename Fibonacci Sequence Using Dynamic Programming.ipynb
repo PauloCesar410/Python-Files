{
 "cells": [
  {
   "cell_type": "code",
   "execution_count": 1,
   "metadata": {},
   "outputs": [
    {
     "name": "stdout",
     "output_type": "stream",
     "text": [
      "8\n"
     ]
    }
   ],
   "source": [
    "#Dynamic programming is a problem-solving technique for solving a problem by breaking it into similar subproblems.\n",
    "#But we will never solve the same subproblem twice.\n",
    "#To understand dynamic programming the knowledge of recursion is a must.\n",
    "memo = []\n",
    "for i in range(20):\n",
    "    memo.append(-1)\n",
    "\n",
    "def fib(n):\n",
    "    if n == 0:\n",
    "        return 0\n",
    "    if n == 1:\n",
    "        return 1\n",
    "\n",
    "    if memo[n] != -1:\n",
    "        return memo[n]\n",
    "    \n",
    "    memo[n] = fib(n-1) + fib(n-2)\n",
    "    return memo[n]\n",
    "\n",
    "print(fib(6))\n",
    "\n",
    "# output: 8"
   ]
  },
  {
   "cell_type": "code",
   "execution_count": 6,
   "metadata": {},
   "outputs": [
    {
     "name": "stdout",
     "output_type": "stream",
     "text": [
      "0\n",
      "1\n",
      "1\n",
      "2\n",
      "3\n",
      "5\n",
      "8\n",
      "13\n",
      "21\n",
      "34\n"
     ]
    }
   ],
   "source": [
    "memo = []\n",
    "for i in range(20):\n",
    "    memo.append(-1)\n",
    "\n",
    "def fib(n):\n",
    "    if n == 0:\n",
    "        return 0\n",
    "    if n == 1:\n",
    "        return 1\n",
    "\n",
    "    if memo[n] != -1:\n",
    "        return memo[n]\n",
    "    \n",
    "    memo[n] = fib(n-1) + fib(n-2)\n",
    "    return memo[n]\n",
    "\n",
    "for i in range(10):\n",
    "    print(fib(i))\n",
    "\n",
    "# output:\n",
    "# 0\n",
    "# 1\n",
    "# 1\n",
    "# 2\n",
    "# 3\n",
    "# 5\n",
    "# 8\n",
    "# 13\n",
    "# 21\n",
    "# 34"
   ]
  },
  {
   "cell_type": "code",
   "execution_count": null,
   "metadata": {},
   "outputs": [],
   "source": []
  }
 ],
 "metadata": {
  "kernelspec": {
   "display_name": "Python 3",
   "language": "python",
   "name": "python3"
  },
  "language_info": {
   "codemirror_mode": {
    "name": "ipython",
    "version": 3
   },
   "file_extension": ".py",
   "mimetype": "text/x-python",
   "name": "python",
   "nbconvert_exporter": "python",
   "pygments_lexer": "ipython3",
   "version": "3.7.6"
  }
 },
 "nbformat": 4,
 "nbformat_minor": 4
}
