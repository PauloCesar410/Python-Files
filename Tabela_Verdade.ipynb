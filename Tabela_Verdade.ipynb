{
 "cells": [
  {
   "cell_type": "code",
   "execution_count": 5,
   "metadata": {},
   "outputs": [
    {
     "name": "stdout",
     "output_type": "stream",
     "text": [
      "00\n",
      "01\n",
      "10\n",
      "11\n"
     ]
    }
   ],
   "source": [
    "tabelaVerdade = [] # A tabela deve ser criada fora e antes da função\n",
    "def geraTabelaVerdade(m,n): # Função para gerar uma tabela verdade (número de variáveis da tabela(fixo), número de variáveis da tabela(recursivo))\n",
    "    bits=2**m # determina quantos linhas terá a tabela, valor fixo\n",
    "    repeticoes_coluna=(bits//(2**n))*2\n",
    "    repeticoes_linha=(2**n//2)//2\n",
    "    contador=0 # Esse contador será sempre incrementado até a quantidade de bits e será zerado quando a função repetir\n",
    "    if not tabelaVerdade: # essa condição cria a primeira coluna da tabela\n",
    "        for i in range(bits // 2):\n",
    "            tabelaVerdade.append('0')\n",
    "        for i in range(bits // 2):\n",
    "            tabelaVerdade.append('1')\n",
    "    for j in range(repeticoes_coluna):\n",
    "        for i in range(repeticoes_linha):\n",
    "            tabelaVerdade[contador] = tabelaVerdade[contador] + '0'\n",
    "            contador += 1\n",
    "        for i in range(repeticoes_linha):\n",
    "            tabelaVerdade[contador] = tabelaVerdade[contador] + '1'\n",
    "            contador += 1\n",
    "    if n==1:\n",
    "        return tabelaVerdade\n",
    "    else:\n",
    "        return geraTabelaVerdade(m,n-1)\n",
    "\n",
    "qtdVT=2 # quantidade de variáveis da tabela verdade\n",
    "matrizTabelaVerdade = geraTabelaVerdade(qtdVT,qtdVT)\n",
    "\n",
    "for i in range(len(matrizTabelaVerdade)): # apenas para imprimir uma linha abaixo da outra\n",
    "    print(matrizTabelaVerdade[i])"
   ]
  },
  {
   "cell_type": "code",
   "execution_count": null,
   "metadata": {},
   "outputs": [],
   "source": []
  }
 ],
 "metadata": {
  "kernelspec": {
   "display_name": "Python 3",
   "language": "python",
   "name": "python3"
  },
  "language_info": {
   "codemirror_mode": {
    "name": "ipython",
    "version": 3
   },
   "file_extension": ".py",
   "mimetype": "text/x-python",
   "name": "python",
   "nbconvert_exporter": "python",
   "pygments_lexer": "ipython3",
   "version": "3.7.6"
  }
 },
 "nbformat": 4,
 "nbformat_minor": 4
}
