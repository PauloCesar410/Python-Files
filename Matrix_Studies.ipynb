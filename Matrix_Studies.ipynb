{
 "cells": [
  {
   "cell_type": "code",
   "execution_count": 7,
   "metadata": {},
   "outputs": [],
   "source": [
    "import numpy as np\n",
    "from scipy import sparse\n",
    "import numpy"
   ]
  },
  {
   "cell_type": "code",
   "execution_count": 8,
   "metadata": {},
   "outputs": [
    {
     "name": "stdout",
     "output_type": "stream",
     "text": [
      "[[0.02641151 0.94972431 0.60264149 0.90601979 0.73523059 0.54185179]\n",
      " [0.94700058 0.9561012  0.34751586 0.28903108 0.94932749 0.63442633]\n",
      " [0.67318589 0.56042664 0.41062681 0.09465856 0.14892904 0.6196727 ]\n",
      " [0.6976658  0.53321446 0.33430537 0.61631392 0.85165664 0.50745988]\n",
      " [0.87054706 0.03445044 0.21158966 0.56514191 0.59363694 0.06273944]\n",
      " [0.89102748 0.20155194 0.31270306 0.28126517 0.46029436 0.42238973]]\n"
     ]
    }
   ],
   "source": [
    "X=np.random.uniform(size=(6,6))\n",
    "print(X)"
   ]
  },
  {
   "cell_type": "code",
   "execution_count": 9,
   "metadata": {},
   "outputs": [
    {
     "name": "stdout",
     "output_type": "stream",
     "text": [
      "[[0.         0.94972431 0.         0.90601979 0.73523059 0.        ]\n",
      " [0.94700058 0.9561012  0.         0.         0.94932749 0.        ]\n",
      " [0.         0.         0.         0.         0.         0.        ]\n",
      " [0.         0.         0.         0.         0.85165664 0.        ]\n",
      " [0.87054706 0.         0.         0.         0.         0.        ]\n",
      " [0.89102748 0.         0.         0.         0.         0.        ]]\n"
     ]
    }
   ],
   "source": [
    "X[X<0.7]=0  # Create a sparse Matrix\n",
    "print(X)"
   ]
  },
  {
   "cell_type": "code",
   "execution_count": 10,
   "metadata": {},
   "outputs": [
    {
     "name": "stdout",
     "output_type": "stream",
     "text": [
      "0.0\n"
     ]
    }
   ],
   "source": [
    "print( numpy.linalg.det( X ) ) # Calculte the deetrminate of X"
   ]
  },
  {
   "cell_type": "code",
   "execution_count": 13,
   "metadata": {},
   "outputs": [
    {
     "name": "stdout",
     "output_type": "stream",
     "text": [
      "Matrix 1\n",
      "Numpy:  6.66133814775094e-16\n",
      "Ours:  0.0\n",
      "Matrix 2\n",
      "Numpy:  -11.999999999999995\n",
      "Ours:  -12.0\n",
      "Matrix 3\n",
      "Numpy:  -36.000000000000014\n",
      "Ours:  -36.0\n"
     ]
    }
   ],
   "source": [
    "import math   # Calculo do dterminate usando cofatores\n",
    "import numpy as np\n",
    "\n",
    "def determinant(A):\n",
    "    n=np.shape(A)[0]\n",
    "    if(n==2):\n",
    "        det=A[0,0]*A[1,1]-A[0,1]*A[1,0]\n",
    "    else:    \n",
    "        det=0\n",
    "        for i in range(n):\n",
    "            # Expansion by first line\n",
    "            newMatrix=A[1:,:]\n",
    "            newMatrix=np.delete(newMatrix,i,axis=1)\n",
    "            det=det+math.pow(-1,1+i+1)*A[0,i]*(determinant(newMatrix))\n",
    "    return det\n",
    "\n",
    "if __name__ == '__main__':\n",
    "\n",
    "    print (\"Matrix 1\")\n",
    "    A=((1, 2, 3),(4, 5 , 6),(7,8,9))\n",
    "    print (\"Numpy: \", np.linalg.det(A))\n",
    "    A=np.array(A)\n",
    "    print (\"Ours: \",determinant(A))\n",
    "\n",
    "    print (\"Matrix 2\")\n",
    "    A=((1, 2, 3),(4, 5 , 6),(7,8,13))\n",
    "    print (\"Numpy: \",np.linalg.det(A))\n",
    "    A=np.array(A)\n",
    "    print (\"Ours: \",determinant(A))\n",
    "\n",
    "    print (\"Matrix 3\")\n",
    "    A=((2, -2, 0, 3),(-5, 2 , 2, 1),(1,-1,0,-3),(2, 0, 0, -1))\n",
    "    print (\"Numpy: \",np.linalg.det(A))    \n",
    "    A=np.array(A)\n",
    "    print (\"Ours: \",determinant(A))"
   ]
  },
  {
   "cell_type": "code",
   "execution_count": 15,
   "metadata": {},
   "outputs": [
    {
     "data": {
      "text/plain": [
       "0.0"
      ]
     },
     "execution_count": 15,
     "metadata": {},
     "output_type": "execute_result"
    }
   ],
   "source": [
    "from scipy import linalg  # Cálculo de determinantes\n",
    "arr = np.array([[1, 2],\n",
    "                [3, 4]])\n",
    "linalg.det(arr)\n",
    "\n",
    "arr = np.array([[3, 2],\n",
    "                [6, 4]])\n",
    "linalg.det(arr)\n",
    "#linalg.det(np.ones((3, 4))) #erro"
   ]
  },
  {
   "cell_type": "code",
   "execution_count": 16,
   "metadata": {},
   "outputs": [
    {
     "data": {
      "text/plain": [
       "True"
      ]
     },
     "execution_count": 16,
     "metadata": {},
     "output_type": "execute_result"
    }
   ],
   "source": [
    "arr = np.array([[1, 2],  # Verifica se a matriz é singular\n",
    "                [3, 4]])\n",
    "iarr = linalg.inv(arr)\n",
    "iarr\n",
    "np.allclose(np.dot(arr, iarr), np.eye(2))"
   ]
  },
  {
   "cell_type": "code",
   "execution_count": 18,
   "metadata": {},
   "outputs": [
    {
     "data": {
      "text/plain": [
       "array([[-0.13333333,  0.23333333],\n",
       "       [ 0.2       , -0.1       ]])"
      ]
     },
     "execution_count": 18,
     "metadata": {},
     "output_type": "execute_result"
    }
   ],
   "source": [
    "arr = np.array([[3, 7],  #Cálculo da inversa de matriz\n",
    "                [6, 4]])\n",
    "linalg.inv(arr)"
   ]
  },
  {
   "cell_type": "code",
   "execution_count": 20,
   "metadata": {},
   "outputs": [
    {
     "data": {
      "text/plain": [
       "array([14.88982544,  0.45294236,  0.29654967])"
      ]
     },
     "execution_count": 20,
     "metadata": {},
     "output_type": "execute_result"
    }
   ],
   "source": [
    "arr = np.arange(9).reshape((3, 3)) + np.diag([1, 0, 1]) #Decomposição em valores singulares\n",
    "uarr, spec, vharr = linalg.svd(arr)\n",
    "spec"
   ]
  },
  {
   "cell_type": "code",
   "execution_count": 21,
   "metadata": {},
   "outputs": [
    {
     "data": {
      "text/plain": [
       "True"
      ]
     },
     "execution_count": 21,
     "metadata": {},
     "output_type": "execute_result"
    }
   ],
   "source": [
    "sarr = np.diag(spec)   #Recomposição da matrix\n",
    "svd_mat = uarr.dot(sarr).dot(vharr)\n",
    "np.allclose(svd_mat, arr)"
   ]
  },
  {
   "cell_type": "code",
   "execution_count": null,
   "metadata": {},
   "outputs": [],
   "source": []
  }
 ],
 "metadata": {
  "kernelspec": {
   "display_name": "Python 3",
   "language": "python",
   "name": "python3"
  },
  "language_info": {
   "codemirror_mode": {
    "name": "ipython",
    "version": 3
   },
   "file_extension": ".py",
   "mimetype": "text/x-python",
   "name": "python",
   "nbconvert_exporter": "python",
   "pygments_lexer": "ipython3",
   "version": "3.7.6"
  }
 },
 "nbformat": 4,
 "nbformat_minor": 4
}
