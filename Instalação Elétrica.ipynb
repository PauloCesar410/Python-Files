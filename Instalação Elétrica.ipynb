{
 "cells": [
  {
   "cell_type": "markdown",
   "metadata": {},
   "source": [
    "# Dimensionamento de uma instalação elétrica\n",
    "1. Cálculo da Corrente"
   ]
  },
  {
   "cell_type": "code",
   "execution_count": 1,
   "metadata": {},
   "outputs": [
    {
     "name": "stdout",
     "output_type": "stream",
     "text": [
      "Digite o valor da Potência do equipamento em Wats:  6500\n"
     ]
    }
   ],
   "source": [
    "P=float(input(\"Digite o valor da Potência do equipamento em Wats:  \"))"
   ]
  },
  {
   "cell_type": "code",
   "execution_count": 2,
   "metadata": {},
   "outputs": [
    {
     "name": "stdout",
     "output_type": "stream",
     "text": [
      "Digite o valor da Tensão da rede em Volts:  220\n"
     ]
    }
   ],
   "source": [
    "V=float(input(\"Digite o valor da Tensão da rede em Volts:  \"))"
   ]
  },
  {
   "cell_type": "code",
   "execution_count": 3,
   "metadata": {},
   "outputs": [
    {
     "name": "stdout",
     "output_type": "stream",
     "text": [
      "O valor da corrente do equipamento em Amperes é:  29.55\n"
     ]
    }
   ],
   "source": [
    "I=P/V\n",
    "print(\"O valor da corrente do equipamento em Amperes é: \", round (I,2))"
   ]
  },
  {
   "cell_type": "code",
   "execution_count": 4,
   "metadata": {},
   "outputs": [
    {
     "name": "stdout",
     "output_type": "stream",
     "text": [
      "Segundo a NBR5410 este equipamento deve ter circuito exclusivo\n"
     ]
    }
   ],
   "source": [
    "if I >10:\n",
    "        print(\"Segundo a NBR5410 este equipamento deve ter circuito exclusivo\")\n",
    "else:\n",
    "        print(\"Segundo a NBR5410 este equipamento pode ser agrupado com outros\")"
   ]
  },
  {
   "cell_type": "markdown",
   "metadata": {},
   "source": [
    "# Dimensionamento de um disjuntor"
   ]
  },
  {
   "cell_type": "code",
   "execution_count": 5,
   "metadata": {},
   "outputs": [
    {
     "name": "stdout",
     "output_type": "stream",
     "text": [
      "Digite o valor do fator de demanda:  0.85\n"
     ]
    }
   ],
   "source": [
    "fator=float(input(\"Digite o valor do fator de demanda:  \"))"
   ]
  },
  {
   "cell_type": "code",
   "execution_count": 6,
   "metadata": {},
   "outputs": [
    {
     "name": "stdout",
     "output_type": "stream",
     "text": [
      "Digite o valor da soma da potência dos equipamentos: 6500\n"
     ]
    }
   ],
   "source": [
    "pot=float(input(\"Digite o valor da soma da potência dos equipamentos: \"))"
   ]
  },
  {
   "cell_type": "code",
   "execution_count": 7,
   "metadata": {},
   "outputs": [
    {
     "name": "stdout",
     "output_type": "stream",
     "text": [
      "O valor da potência demandada é: 5525.0\n"
     ]
    }
   ],
   "source": [
    "pot_demanda=fator*pot\n",
    "print(\"O valor da potência demandada é:\", pot_demanda)"
   ]
  },
  {
   "cell_type": "code",
   "execution_count": 8,
   "metadata": {},
   "outputs": [
    {
     "name": "stdout",
     "output_type": "stream",
     "text": [
      "A corrente do disjuntor é de:  25.113636363636363\n"
     ]
    }
   ],
   "source": [
    "Corrente = (pot_demanda/V)\n",
    "print(\"A corrente do disjuntor é de: \", Corrente)"
   ]
  },
  {
   "cell_type": "code",
   "execution_count": null,
   "metadata": {},
   "outputs": [],
   "source": []
  },
  {
   "cell_type": "markdown",
   "metadata": {},
   "source": [
    "# 2. Dimensionamento da secção do fio condutor"
   ]
  },
  {
   "cell_type": "code",
   "execution_count": 9,
   "metadata": {},
   "outputs": [
    {
     "name": "stdout",
     "output_type": "stream",
     "text": [
      "Digite o valor da distância em metros :  10\n"
     ]
    }
   ],
   "source": [
    "L=float(input(\"Digite o valor da distância em metros :  \"))"
   ]
  },
  {
   "cell_type": "code",
   "execution_count": 10,
   "metadata": {},
   "outputs": [],
   "source": [
    "Vmax=0.03*V"
   ]
  },
  {
   "cell_type": "code",
   "execution_count": 11,
   "metadata": {},
   "outputs": [
    {
     "name": "stdout",
     "output_type": "stream",
     "text": [
      "O valor da secção do fio em militreos quadrados é:  1.5436496627719203\n"
     ]
    }
   ],
   "source": [
    "S=(I*L*2)/(58*Vmax)  # 58 é a constante de resistividade do cobre\n",
    "print(\"O valor da secção do fio em militreos quadrados é: \", S)"
   ]
  },
  {
   "cell_type": "code",
   "execution_count": 12,
   "metadata": {},
   "outputs": [
    {
     "name": "stdout",
     "output_type": "stream",
     "text": [
      "O valor de S pela norma NBR5410 em milimetros quadrados é: 1.5436496627719203\n"
     ]
    }
   ],
   "source": [
    "if (S < 1.5):    # Estes dados são encontrados na Tabela 58 da NBR5410\n",
    "    print (\"O valor de S pela norma NBR5410 em milimetros quadrados é:\", 1.5)\n",
    "elif (S<=16):\n",
    "    print(\"O valor de S pela norma NBR5410 em milimetros quadrados é:\", S)\n",
    "elif (16<S<=35):\n",
    "    print(\"O valor de S pela norma NBR5410 em milimetros quadrados é:\", 16)\n",
    "elif (S>35):\n",
    "    print(\"O valor de S pela norma NBR5410 em milimetros quadrados é:\", S/2)"
   ]
  },
  {
   "cell_type": "markdown",
   "metadata": {},
   "source": [
    "# Cálculos de eletricidade básica"
   ]
  },
  {
   "cell_type": "markdown",
   "metadata": {},
   "source": [
    "# Convertendo BTU´s em Watts"
   ]
  },
  {
   "cell_type": "code",
   "execution_count": 7,
   "metadata": {},
   "outputs": [
    {
     "name": "stdout",
     "output_type": "stream",
     "text": [
      "Digite a capacidade de resfriamento em BTU´s(h):  12000\n"
     ]
    }
   ],
   "source": [
    "BTU=float(input(\"Digite a capacidade de resfriamento em BTU´s(h):  \"))"
   ]
  },
  {
   "cell_type": "code",
   "execution_count": 5,
   "metadata": {},
   "outputs": [
    {
     "name": "stdout",
     "output_type": "stream",
     "text": [
      "Digite a capacidade de resfriamento em Wats:  3520\n"
     ]
    }
   ],
   "source": [
    "capacidade=float(input(\"Digite a capacidade de resfriamento em Wats:  \"))"
   ]
  },
  {
   "cell_type": "code",
   "execution_count": 8,
   "metadata": {},
   "outputs": [
    {
     "name": "stdout",
     "output_type": "stream",
     "text": [
      "0.29333333333333333\n"
     ]
    }
   ],
   "source": [
    "fator= (capacidade/BTU)\n",
    "print(fator)"
   ]
  },
  {
   "cell_type": "code",
   "execution_count": 9,
   "metadata": {},
   "outputs": [
    {
     "name": "stdout",
     "output_type": "stream",
     "text": [
      "Digite o valor do fator de eficiência do equipamento, EER ou COP:  3.33\n"
     ]
    }
   ],
   "source": [
    "eficiencia=float(input(\"Digite o valor do fator de eficiência do equipamento, EER ou COP:  \"))"
   ]
  },
  {
   "cell_type": "code",
   "execution_count": 11,
   "metadata": {},
   "outputs": [
    {
     "name": "stdout",
     "output_type": "stream",
     "text": [
      "A potência elétrica em Watss é:  1057.0570570570571\n"
     ]
    }
   ],
   "source": [
    "pot_eletrica = (BTU*fator)/eficiencia\n",
    "print('A potência elétrica em Wats é: ', pot_eletrica)"
   ]
  },
  {
   "cell_type": "markdown",
   "metadata": {},
   "source": [
    "# Cálculo da Força Elétrica"
   ]
  },
  {
   "cell_type": "code",
   "execution_count": 1,
   "metadata": {},
   "outputs": [
    {
     "name": "stdout",
     "output_type": "stream",
     "text": [
      "Digite o valor da primeira carga:  5.5\n"
     ]
    }
   ],
   "source": [
    "q1=float(input(\"Digite o valor da primeira carga em Coulomb:  \"))"
   ]
  },
  {
   "cell_type": "markdown",
   "metadata": {},
   "source": [
    "q2=float(input(\"Digite o valor da segunda carga em Coulomb:  \"))"
   ]
  },
  {
   "cell_type": "code",
   "execution_count": 3,
   "metadata": {},
   "outputs": [],
   "source": [
    "K=9*10**9"
   ]
  },
  {
   "cell_type": "code",
   "execution_count": 4,
   "metadata": {},
   "outputs": [
    {
     "name": "stdout",
     "output_type": "stream",
     "text": [
      "Digite o valor da distâncias entre as cargas:  10\n"
     ]
    }
   ],
   "source": [
    "d=float(input(\"Digite o valor da distâncias entre as cargas em metros:  \"))"
   ]
  },
  {
   "cell_type": "code",
   "execution_count": 20,
   "metadata": {},
   "outputs": [
    {
     "name": "stdout",
     "output_type": "stream",
     "text": [
      "1980000000.0 Newton\n"
     ]
    }
   ],
   "source": [
    "F=(K*q1*q2)/(d**2)\n",
    "print(F,'Newton')"
   ]
  },
  {
   "cell_type": "markdown",
   "metadata": {},
   "source": [
    "# Gráfico da Força Elétrica"
   ]
  },
  {
   "cell_type": "code",
   "execution_count": 11,
   "metadata": {},
   "outputs": [],
   "source": [
    "import numpy as np \n",
    "import matplotlib.pyplot as plt\n",
    "def F(d):\n",
    "    return (K*q1*q2)/(d**2)   "
   ]
  },
  {
   "cell_type": "code",
   "execution_count": 14,
   "metadata": {},
   "outputs": [
    {
     "data": {
      "image/png": "[encoded data removed]",
      "text/plain": [
       "<Figure size 432x288 with 1 Axes>"
      ]
     },
     "metadata": {
      "needs_background": "light"
     },
     "output_type": "display_data"
    }
   ],
   "source": [
    "x=np.linspace(1,10) \n",
    "y=[F(d) for d in x]\n",
    "plt.plot(x,y, color='#8B0000', label='função F(x)=(k*q1*q2)/d^2')\n",
    "plt.grid()\n",
    "plt.legend()\n",
    "plt.show()"
   ]
  },
  {
   "cell_type": "markdown",
   "metadata": {},
   "source": [
    "# Cálculo do potencial elétrico"
   ]
  },
  {
   "cell_type": "code",
   "execution_count": 16,
   "metadata": {},
   "outputs": [
    {
     "name": "stdout",
     "output_type": "stream",
     "text": [
      "Digite o valor da carga em Coulomb:  0.000000006\n"
     ]
    }
   ],
   "source": [
    "q=float(input(\"Digite o valor da carga em Coulomb:  \"))"
   ]
  },
  {
   "cell_type": "code",
   "execution_count": 17,
   "metadata": {},
   "outputs": [
    {
     "name": "stdout",
     "output_type": "stream",
     "text": [
      "Digite o valor da dsitância em metros:  10\n"
     ]
    }
   ],
   "source": [
    "d=float(input(\"Digite o valor da dsitância em metros:  \"))"
   ]
  },
  {
   "cell_type": "code",
   "execution_count": 19,
   "metadata": {},
   "outputs": [
    {
     "name": "stdout",
     "output_type": "stream",
     "text": [
      "5.4 Volts\n"
     ]
    }
   ],
   "source": [
    "U=(q*K)/d\n",
    "print(U,'Volts' )"
   ]
  },
  {
   "cell_type": "markdown",
   "metadata": {},
   "source": [
    "# Gráfico do Potencial Elétrico"
   ]
  },
  {
   "cell_type": "code",
   "execution_count": 21,
   "metadata": {},
   "outputs": [],
   "source": [
    "import numpy as np \n",
    "def U(d):\n",
    "    return (K*q)/(d)   "
   ]
  },
  {
   "cell_type": "code",
   "execution_count": 23,
   "metadata": {},
   "outputs": [
    {
     "data": {
      "image/png": "[encoded data removed]",
      "text/plain": [
       "<Figure size 432x288 with 1 Axes>"
      ]
     },
     "metadata": {
      "needs_background": "light"
     },
     "output_type": "display_data"
    }
   ],
   "source": [
    "x=np.linspace(1,10) \n",
    "y=[U(d) for d in x]\n",
    "plt.plot(x,y, color='#8B0000', label='função F(x)=(k*q)/d')\n",
    "plt.grid()\n",
    "plt.legend()\n",
    "plt.show()"
   ]
  },
  {
   "cell_type": "markdown",
   "metadata": {},
   "source": [
    "# Cálculo do campo elétrico"
   ]
  },
  {
   "cell_type": "code",
   "execution_count": 1,
   "metadata": {},
   "outputs": [
    {
     "name": "stdout",
     "output_type": "stream",
     "text": [
      "Digite o valor da carga em Coulomb:  0.0005\n"
     ]
    }
   ],
   "source": [
    "q=float(input(\"Digite o valor da carga em Coulomb:  \"))"
   ]
  },
  {
   "cell_type": "code",
   "execution_count": 3,
   "metadata": {},
   "outputs": [
    {
     "name": "stdout",
     "output_type": "stream",
     "text": [
      "Digite o valor da dsitância em metros:  3\n"
     ]
    }
   ],
   "source": [
    "d=float(input(\"Digite o valor da dsitância em metros:  \"))"
   ]
  },
  {
   "cell_type": "code",
   "execution_count": 5,
   "metadata": {},
   "outputs": [
    {
     "name": "stdout",
     "output_type": "stream",
     "text": [
      "1500000.0 N/m\n"
     ]
    }
   ],
   "source": [
    "K=9*10**9\n",
    "E=(q*K)/d\n",
    "print(E,'N/m' )"
   ]
  },
  {
   "cell_type": "markdown",
   "metadata": {},
   "source": [
    "# Gráfico do Campo Elétrico"
   ]
  },
  {
   "cell_type": "code",
   "execution_count": 8,
   "metadata": {},
   "outputs": [],
   "source": [
    "import numpy as np\n",
    "import matplotlib.pyplot as plt\n",
    "def E(d):\n",
    "    return (K*q)/(d**2)   \n"
   ]
  },
  {
   "cell_type": "code",
   "execution_count": 9,
   "metadata": {},
   "outputs": [
    {
     "data": {
      "image/png": "[encoded data removed]",
      "text/plain": [
       "<Figure size 432x288 with 1 Axes>"
      ]
     },
     "metadata": {
      "needs_background": "light"
     },
     "output_type": "display_data"
    }
   ],
   "source": [
    "x=np.linspace(1,10) \n",
    "y=[E(d) for d in x]\n",
    "plt.plot(x,y, color='#8B0000', label='função F(x)=(k*q)/d^2')\n",
    "plt.grid()\n",
    "plt.legend()\n",
    "plt.show()"
   ]
  },
  {
   "cell_type": "markdown",
   "metadata": {},
   "source": [
    "# Valor cobrando por tempo de serviço"
   ]
  },
  {
   "cell_type": "code",
   "execution_count": 1,
   "metadata": {},
   "outputs": [
    {
     "name": "stdout",
     "output_type": "stream",
     "text": [
      "Digite o valor da quantidade(metros/unidade de cabos a distribuir e emendas a fazer):  60\n",
      "Digite o valor do tempo para instalar os cabos e fazer as emendas:  10\n",
      "600.0\n"
     ]
    }
   ],
   "source": [
    "cabos_emendas1=float(input(\"Digite o valor da quantidade(metros/unidade) de cabos a distribuir e emendas a fazer):  \"))\n",
    "cabos_emendas2=float(input(\"Digite o valor do tempo para instalar os cabos e fazer as emendas:  \"))\n",
    "tempo_total1=(cabos_emendas1)*(cabos_emendas2)\n",
    "print(tempo_total1)"
   ]
  },
  {
   "cell_type": "code",
   "execution_count": 2,
   "metadata": {},
   "outputs": [
    {
     "name": "stdout",
     "output_type": "stream",
     "text": [
      "Digite o valor da quantidade de tomadas para instalar):  18\n",
      "Digite o valor do tempo para instalar as tomadas:  5\n",
      "90.0\n"
     ]
    }
   ],
   "source": [
    "tomadas1=float(input(\"Digite o valor da quantidade de tomadas para instalar):  \"))\n",
    "tomadas2=float(input(\"Digite o valor do tempo para instalar as tomadas:  \"))\n",
    "tempo_total2=(tomadas1)*(tomadas2)\n",
    "print(tempo_total2)"
   ]
  },
  {
   "cell_type": "code",
   "execution_count": 3,
   "metadata": {},
   "outputs": [
    {
     "name": "stdout",
     "output_type": "stream",
     "text": [
      "Digite o valor da quantidade de interuptores  para instalar):  6\n",
      "Digite o valor do tempo para instalar os interuptores :  3\n",
      "18.0\n"
     ]
    }
   ],
   "source": [
    "interuptor1=float(input(\"Digite o valor da quantidade de interuptores  para instalar):  \"))\n",
    "interuptor2=float(input(\"Digite o valor do tempo para instalar os interuptores :  \"))\n",
    "tempo_total3=(interuptor1)*(interuptor2)\n",
    "print(tempo_total3)"
   ]
  },
  {
   "cell_type": "code",
   "execution_count": 4,
   "metadata": {},
   "outputs": [
    {
     "name": "stdout",
     "output_type": "stream",
     "text": [
      "Digite o valor da quantidade de lâmpadas para instalar):  6\n",
      "Digite o valor do tempo para instalar as lâmpadas:  5\n",
      "30.0\n"
     ]
    }
   ],
   "source": [
    "lampada1=float(input(\"Digite o valor da quantidade de lâmpadas para instalar):  \"))\n",
    "lampada2=float(input(\"Digite o valor do tempo para instalar as lâmpadas:  \"))\n",
    "tempo_total4=(lampada1)*(lampada2)\n",
    "print(tempo_total4)"
   ]
  },
  {
   "cell_type": "code",
   "execution_count": 5,
   "metadata": {},
   "outputs": [
    {
     "name": "stdout",
     "output_type": "stream",
     "text": [
      "Digite o valor da quantidade de chuveiros para instalar):  1\n",
      "Digite o valor do tempo para instalar os chuveiros:  30\n",
      "30.0\n"
     ]
    }
   ],
   "source": [
    "chuveiro1=float(input(\"Digite o valor da quantidade de chuveiros para instalar):  \"))\n",
    "chuveiro2=float(input(\"Digite o valor do tempo para instalar os chuveiros:  \"))\n",
    "tempo_total5=(chuveiro1)*(chuveiro2)\n",
    "print(tempo_total5)"
   ]
  },
  {
   "cell_type": "code",
   "execution_count": 6,
   "metadata": {},
   "outputs": [
    {
     "name": "stdout",
     "output_type": "stream",
     "text": [
      "Digite o valor da quantidade de QDC para instalar):  1\n",
      "Digite o valor do tempo para instalar os QDCs:  90\n",
      "90.0\n"
     ]
    }
   ],
   "source": [
    "qdc1=float(input(\"Digite o valor da quantidade de QDC para instalar):  \"))\n",
    "qdc2=float(input(\"Digite o valor do tempo para instalar os QDCs:  \"))\n",
    "tempo_total6=(qdc1)*(qdc2)\n",
    "print(tempo_total6)"
   ]
  },
  {
   "cell_type": "code",
   "execution_count": 7,
   "metadata": {},
   "outputs": [
    {
     "name": "stdout",
     "output_type": "stream",
     "text": [
      "858.0\n"
     ]
    }
   ],
   "source": [
    "Tempo_total= (tempo_total1 + tempo_total2 + tempo_total3 + tempo_total4 + tempo_total5 + tempo_total6)\n",
    "print(Tempo_total)"
   ]
  },
  {
   "cell_type": "code",
   "execution_count": 8,
   "metadata": {},
   "outputs": [
    {
     "name": "stdout",
     "output_type": "stream",
     "text": [
      "14.3\n"
     ]
    }
   ],
   "source": [
    "Tempo_horas = (Tempo_total/60)\n",
    "print(Tempo_horas)"
   ]
  },
  {
   "cell_type": "code",
   "execution_count": 9,
   "metadata": {},
   "outputs": [
    {
     "name": "stdout",
     "output_type": "stream",
     "text": [
      "2.145\n"
     ]
    }
   ],
   "source": [
    "Tempo_Imprevisto = (0.15*Tempo_horas)\n",
    "print(Tempo_Imprevisto)"
   ]
  },
  {
   "cell_type": "code",
   "execution_count": 10,
   "metadata": {},
   "outputs": [
    {
     "name": "stdout",
     "output_type": "stream",
     "text": [
      "16.445\n"
     ]
    }
   ],
   "source": [
    "Tempo_mais_imprevistos = Tempo_horas +Tempo_Imprevisto\n",
    "print(Tempo_mais_imprevistos)"
   ]
  },
  {
   "cell_type": "code",
   "execution_count": 11,
   "metadata": {},
   "outputs": [
    {
     "name": "stdout",
     "output_type": "stream",
     "text": [
      "Digite o preço da hora técnica):  69.11\n",
      "O valor do serviço é:  1136.51395\n"
     ]
    }
   ],
   "source": [
    "Valor_hora_Tecnica = float(input(\"Digite o preço da hora técnica):  \"))\n",
    "Preco_trabalho = (Valor_hora_Tecnica * Tempo_mais_imprevistos)\n",
    "print(\"O valor do serviço é: \",Preco_trabalho)"
   ]
  },
  {
   "cell_type": "code",
   "execution_count": 13,
   "metadata": {},
   "outputs": [
    {
     "name": "stdout",
     "output_type": "stream",
     "text": [
      "Digite um valor de desconto entre 5% a 10% sobre o valor total):  0.05\n",
      "1079.6882525\n"
     ]
    }
   ],
   "source": [
    "desconto = float(input(\"Digite um valor de desconto entre 5% a 10% sobre o valor total):  \"))\n",
    "Preco_Final_Desconto = (Preco_trabalho  - desconto*Preco_trabalho)\n",
    "print(Preco_Final_Desconto)"
   ]
  },
  {
   "cell_type": "code",
   "execution_count": null,
   "metadata": {},
   "outputs": [],
   "source": []
  }
 ],
 "metadata": {
  "kernelspec": {
   "display_name": "Python 3",
   "language": "python",
   "name": "python3"
  },
  "language_info": {
   "codemirror_mode": {
    "name": "ipython",
    "version": 3
   },
   "file_extension": ".py",
   "mimetype": "text/x-python",
   "name": "python",
   "nbconvert_exporter": "python",
   "pygments_lexer": "ipython3",
   "version": "3.7.6"
  }
 },
 "nbformat": 4,
 "nbformat_minor": 4
}
