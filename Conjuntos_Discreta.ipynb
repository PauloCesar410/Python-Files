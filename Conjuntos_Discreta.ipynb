{
 "cells": [
  {
   "cell_type": "code",
   "execution_count": 3,
   "metadata": {},
   "outputs": [
    {
     "name": "stdout",
     "output_type": "stream",
     "text": [
      "{2}\n"
     ]
    }
   ],
   "source": [
    "#Intersecção entre Conjuntos\n",
    "conjunto1 = {10,2}\n",
    "conjunto2 = {2,4,6,8}\n",
    "conjunto3 = conjunto1.intersection(conjunto2)\n",
    "print(conjunto3)"
   ]
  },
  {
   "cell_type": "code",
   "execution_count": 4,
   "metadata": {},
   "outputs": [
    {
     "name": "stdout",
     "output_type": "stream",
     "text": [
      "{2, 4}\n"
     ]
    }
   ],
   "source": [
    "#Intersecção entre Conjuntos\n",
    "set1 = {1,2,3,4}\n",
    "set2 = {2,4,6,8}\n",
    "set3 = set1 & set2\n",
    "print(set3)"
   ]
  },
  {
   "cell_type": "code",
   "execution_count": 5,
   "metadata": {},
   "outputs": [
    {
     "name": "stdout",
     "output_type": "stream",
     "text": [
      "{2, 4}\n"
     ]
    }
   ],
   "source": [
    "#Intersecção entre Conjuntos\n",
    "set1 = {1,2,3,4}\n",
    "set2 = {2,4,7,8}\n",
    "set1.intersection_update(set2)\n",
    "print(set1)"
   ]
  },
  {
   "cell_type": "code",
   "execution_count": 6,
   "metadata": {},
   "outputs": [
    {
     "name": "stdout",
     "output_type": "stream",
     "text": [
      "Union : {0, 1, 2, 3, 4, 6, 8, 9, 10, 15, 54}\n",
      "Intersection : {2, 4, 6}\n",
      "Difference : {0, 8, 9, 15}\n",
      "Symmetric difference : {0, 1, 3, 8, 9, 10, 15, 54}\n"
     ]
    }
   ],
   "source": [
    "#Operações entre conjuntos\n",
    "A = {0, 2, 4, 6, 8,15,0,2,6,8,9}; \n",
    "B = {1, 2, 3, 6,4, 54,10}; \n",
    "print(\"Union :\", A | B) \n",
    "print(\"Intersection :\", A & B) \n",
    "print(\"Difference :\", A - B) \n",
    "print(\"Symmetric difference :\", A ^ B)"
   ]
  },
  {
   "cell_type": "code",
   "execution_count": 7,
   "metadata": {},
   "outputs": [
    {
     "name": "stdout",
     "output_type": "stream",
     "text": [
      "{'Júpiter', 'Vênus', 'Plutão', 'Marte', 'Terra'}\n"
     ]
    }
   ],
   "source": [
    "#Escrevendo os elementos de um conjunto\n",
    "planeta = {'Plutão','Júpiter','Terra','Vênus','Marte'}\n",
    "print(planeta)"
   ]
  },
  {
   "cell_type": "code",
   "execution_count": 8,
   "metadata": {},
   "outputs": [
    {
     "name": "stdout",
     "output_type": "stream",
     "text": [
      "5\n"
     ]
    }
   ],
   "source": [
    "#Calculando a cardinalidade do conjunto\n",
    "qtde_planetas = len(planeta)\n",
    "print(qtde_planetas)"
   ]
  },
  {
   "cell_type": "code",
   "execution_count": 9,
   "metadata": {},
   "outputs": [
    {
     "name": "stdout",
     "output_type": "stream",
     "text": [
      "False\n",
      "True\n"
     ]
    }
   ],
   "source": [
    "#Comparando conjuntos\n",
    "planetas1 = {'Terra', 'Vênus', 'Mercúrio', 'Marte'}\n",
    "planetas2 = {'Terra', 'Vênus', 'Mercúrio', 'Marte', 'Saturno'}\n",
    "print(planetas1 == planetas2)\n",
    "print(planetas1 != planetas2)"
   ]
  },
  {
   "cell_type": "code",
   "execution_count": 10,
   "metadata": {},
   "outputs": [
    {
     "name": "stdout",
     "output_type": "stream",
     "text": [
      "True\n"
     ]
    }
   ],
   "source": [
    "#Verificando se são subconjuntos\n",
    "planetas1 = {'Terra', 'Vênus', 'Mercúrio'}\n",
    "planetas2 = {'Terra', 'Mercúrio', 'Vênus', 'Saturno', 'Marte'}\n",
    "print(planetas1 < planetas2)"
   ]
  },
  {
   "cell_type": "code",
   "execution_count": 11,
   "metadata": {},
   "outputs": [
    {
     "name": "stdout",
     "output_type": "stream",
     "text": [
      "{'Júpiter', 'Vênus', 'Netuno', 'Mercúrio', 'Marte', 'Terra', 'Urano', 'Saturno'}\n",
      "{'Júpiter', 'Vênus', 'Netuno', 'Mercúrio', 'Marte', 'Terra', 'Urano', 'Saturno'}\n"
     ]
    }
   ],
   "source": [
    "#União entre conjuntos\n",
    "planetas1 = {'Vênus', 'Mercúrio', 'Terra', 'Netuno', 'Marte'}\n",
    "planetas2 = {'Terra', 'Júpiter', 'Urano', 'Saturno', 'Marte'}\n",
    "print(planetas1 | planetas2)\n",
    "print(planetas1.union(planetas2))"
   ]
  },
  {
   "cell_type": "code",
   "execution_count": 12,
   "metadata": {},
   "outputs": [
    {
     "name": "stdout",
     "output_type": "stream",
     "text": [
      "{'Terra', 'Marte'}\n",
      "{'Terra', 'Marte'}\n"
     ]
    }
   ],
   "source": [
    "#Intersecção de conjuntos\n",
    "planetas1 = {'Vênus', 'Mercúrio', 'Terra', 'Netuno', 'Marte'}\n",
    "planetas2 = {'Terra', 'Júpiter', 'Urano', 'Saturno', 'Marte'}\n",
    "print(planetas1 & planetas2)\n",
    "print(planetas1.intersection(planetas2))"
   ]
  },
  {
   "cell_type": "code",
   "execution_count": 13,
   "metadata": {},
   "outputs": [
    {
     "name": "stdout",
     "output_type": "stream",
     "text": [
      "{'Vênus', 'Mercúrio', 'Netuno'}\n",
      "{'Vênus', 'Mercúrio', 'Netuno'}\n"
     ]
    }
   ],
   "source": [
    "#Diferença entre conjuntos\n",
    "planetas1 = {'Vênus', 'Mercúrio', 'Terra', 'Netuno', 'Marte'}\n",
    "planetas2 = {'Terra', 'Júpiter', 'Urano', 'Saturno', 'Marte'}\n",
    "print(planetas1 - planetas2)\n",
    "print(planetas1.difference(planetas2))"
   ]
  },
  {
   "cell_type": "code",
   "execution_count": 14,
   "metadata": {},
   "outputs": [
    {
     "name": "stdout",
     "output_type": "stream",
     "text": [
      "{'Mercúrio', 'Júpiter', 'Vênus', 'Netuno', 'Urano', 'Saturno'}\n",
      "{'Mercúrio', 'Júpiter', 'Vênus', 'Netuno', 'Urano', 'Saturno'}\n"
     ]
    }
   ],
   "source": [
    "#Diferença simétrica entre conjuntos\n",
    "planetas1 = {'Vênus', 'Mercúrio', 'Terra', 'Netuno', 'Marte'}\n",
    "planetas2 = {'Terra', 'Júpiter', 'Urano', 'Saturno', 'Marte'}\n",
    "print(planetas1 ^ planetas2)\n",
    "print(planetas1.symmetric_difference(planetas2))"
   ]
  },
  {
   "cell_type": "code",
   "execution_count": 15,
   "metadata": {},
   "outputs": [
    {
     "name": "stdout",
     "output_type": "stream",
     "text": [
      "Conjunto 1: {'Vênus', 'Netuno', 'Mercúrio', 'Marte', 'Terra'}\n",
      "Conjunto 2: {'Mercúrio', 'Marte', 'Vênus', 'Terra', 'Netuno'}\n"
     ]
    }
   ],
   "source": [
    "#Cópia de conjuntos\n",
    "p1 = {'Vênus', 'Mercúrio', 'Terra', 'Netuno', 'Marte'}\n",
    "p2 = p1.copy()\n",
    "print('Conjunto 1:', p1)\n",
    "print('Conjunto 2:', p2)"
   ]
  },
  {
   "cell_type": "code",
   "execution_count": 16,
   "metadata": {},
   "outputs": [
    {
     "name": "stdout",
     "output_type": "stream",
     "text": [
      "{'Vênus', 'Marte', 'Mercúrio', 'Júpiter', 'Terra'} {'Vênus', 'Marte', 'Mercúrio', 'Júpiter'} {'Vênus', 'Marte', 'Mercúrio', 'Júpiter'} "
     ]
    }
   ],
   "source": [
    "#Adicionar ou remover elementos do conjunto\n",
    "planetas = {'Mercúrio', 'Vênus', 'Terra', 'Marte'}\n",
    "planetas.add('Júpiter')\n",
    "planetas.add('Marte') # elemento já existe, não é adicionado.\n",
    "print(planetas, end=' ')\n",
    "planetas.remove('Terra') # causa erro se o elemento não estiver no conjunto\n",
    "print(planetas, end=' ')\n",
    "planetas.discard('Terra')\n",
    "print(planetas, end=' ')"
   ]
  },
  {
   "cell_type": "code",
   "execution_count": 22,
   "metadata": {},
   "outputs": [
    {
     "name": "stdout",
     "output_type": "stream",
     "text": [
      "{'Vênus', 'Marte', 'Mercúrio', 'Terra'} {'Marte', 'Mercúrio', 'Terra'} "
     ]
    }
   ],
   "source": [
    "#Removendo elementos com o método pop\n",
    "planetas = {'Mercúrio', 'Vênus', 'Terra', 'Marte'}\n",
    "print(planetas, end=' ')\n",
    "planetas.pop() # remove um elemento arbitrário.\n",
    "print(planetas, end=' ')"
   ]
  },
  {
   "cell_type": "code",
   "execution_count": 17,
   "metadata": {},
   "outputs": [
    {
     "name": "stdout",
     "output_type": "stream",
     "text": [
      "Planetas: set()\n"
     ]
    }
   ],
   "source": [
    "#Esvaziando o conjunto\n",
    "planetas.clear()\n",
    "print('Planetas:', planetas)\n",
    "  "
   ]
  },
  {
   "cell_type": "code",
   "execution_count": 24,
   "metadata": {},
   "outputs": [
    {
     "name": "stdout",
     "output_type": "stream",
     "text": [
      "frozenset({'Sirius', 'Canopus', 'Vega', 'Rigel'})\n",
      "Halley\n",
      "Sol\n",
      "frozenset({'Vênus', 'Marte', 'Terra', 'Urano'})\n"
     ]
    }
   ],
   "source": [
    "#Um Frozenset é um conjunto imutável (não pode ser modificado após a criação; frozen significa “congelado“),\n",
    "#e pode conter outros frozensets como elementos.\n",
    "planetas = ['Terra', 'Vênus', 'Urano', 'Marte']\n",
    "planetas = frozenset(planetas)\n",
    "estrelas = ['Sirius', 'Rigel', 'Canopus', 'Vega']\n",
    "estrelas = frozenset(estrelas)\n",
    "astros = set([planetas, estrelas, 'Sol', 'Halley'])\n",
    "for astro in astros:\n",
    "    print(astro)\n"
   ]
  },
  {
   "cell_type": "code",
   "execution_count": 5,
   "metadata": {},
   "outputs": [
    {
     "name": "stdout",
     "output_type": "stream",
     "text": [
      "('a', 1)\n",
      "('a', 2)\n",
      "('b', 1)\n",
      "('b', 2)\n"
     ]
    }
   ],
   "source": [
    "#Produto cartesiano\n",
    "from itertools import product\n",
    "\n",
    "mylists = [['a', 'b'],[1, 2]]\n",
    "\n",
    "for elem in product(*mylists):\n",
    "    print(elem)"
   ]
  },
  {
   "cell_type": "code",
   "execution_count": 2,
   "metadata": {},
   "outputs": [
    {
     "name": "stdout",
     "output_type": "stream",
     "text": [
      "[('a', 1), ('a', 2), ('b', 1), ('b', 2)]\n"
     ]
    }
   ],
   "source": [
    "#Produto cartesiano utilizando compreeensão em lista\n",
    "mylists = [['a', 'b'], [1, 2]]\n",
    "\n",
    "crt_prd = [(x,y) for x in mylists[0] for y in mylists[1]]\n",
    "print(crt_prd)"
   ]
  },
  {
   "cell_type": "code",
   "execution_count": 4,
   "metadata": {},
   "outputs": [
    {
     "name": "stdout",
     "output_type": "stream",
     "text": [
      "[['a', 1], ['a', 2], ['a', 3], ['b', 1], ['b', 2], ['b', 3]]\n"
     ]
    }
   ],
   "source": [
    "#Produto cartesiano utilizando utilizando o método iterativo\n",
    "def get_cart_prd(pools):\n",
    "  result = [[]]\n",
    "  for pool in pools:\n",
    "    result = [x+[y] for x in result for y in pool]\n",
    "  return result\n",
    "\n",
    "mylists = [['a', 'b'], [1, 2, 3]]\n",
    "print(get_cart_prd(mylists))"
   ]
  },
  {
   "cell_type": "code",
   "execution_count": 6,
   "metadata": {},
   "outputs": [],
   "source": [
    "#O código acima representa o grafo como um dicionário de listas.\n",
    "#Ele nos diz que existe uma aresta do vértice A para o vértice B,\n",
    "#uma aresta do vértice B para os vértices C e D, e assim por diante.\n",
    "\n",
    "#Grafo em Python \n",
    "grafo = { \"A\" : [\"B\"], \"B\" : [\"C\", \"D\"], \"C\" : [\"B\", \"E\"], \"D\" : [\"A\"], \"E\" : [\"B\"] }"
   ]
  },
  {
   "cell_type": "code",
   "execution_count": 8,
   "metadata": {},
   "outputs": [
    {
     "name": "stdout",
     "output_type": "stream",
     "text": [
      "{'A': ['B'], 'B': ['C', 'D'], 'C': ['B', 'E'], 'D': ['A'], 'E': ['B']}\n"
     ]
    }
   ],
   "source": [
    "print(grafo)"
   ]
  },
  {
   "cell_type": "code",
   "execution_count": null,
   "metadata": {},
   "outputs": [],
   "source": []
  }
 ],
 "metadata": {
  "kernelspec": {
   "display_name": "Python 3",
   "language": "python",
   "name": "python3"
  },
  "language_info": {
   "codemirror_mode": {
    "name": "ipython",
    "version": 3
   },
   "file_extension": ".py",
   "mimetype": "text/x-python",
   "name": "python",
   "nbconvert_exporter": "python",
   "pygments_lexer": "ipython3",
   "version": "3.7.6"
  }
 },
 "nbformat": 4,
 "nbformat_minor": 4
}
