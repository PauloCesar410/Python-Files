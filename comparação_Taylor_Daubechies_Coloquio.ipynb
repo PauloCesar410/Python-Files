{
 "cells": [
  {
   "cell_type": "code",
   "execution_count": 6,
   "metadata": {},
   "outputs": [
    {
     "name": "stdout",
     "output_type": "stream",
     "text": [
      "valor com wavelets 0.6456349190214307\n"
     ]
    }
   ],
   "source": [
    "x=1.000025403784438\n",
    "S=x-(x**2/2)+(x**3/3)-(x**4/4)+(x**5/5)-(x**6/6)+(x**7/7)-(x**8/8)+(x**9/9)-(x**10/10)\n",
    "print(\"valor com wavelets\", S)"
   ]
  },
  {
   "cell_type": "code",
   "execution_count": 10,
   "metadata": {},
   "outputs": [
    {
     "name": "stdout",
     "output_type": "stream",
     "text": [
      "valor com série de taylor 0.6456349203122008\n"
     ]
    }
   ],
   "source": [
    "x1=1\n",
    "S1=x1-(x1**2/2)+(x1**3/3)-(x1**4/4)+(x1**5/5)-(x1**6/6)+(x1**7/7)-(x1**8/8)+(x**9/9)-(x**10/10)\n",
    "print(\"valor com série de taylor\", S1)"
   ]
  },
  {
   "cell_type": "code",
   "execution_count": 11,
   "metadata": {},
   "outputs": [
    {
     "name": "stdout",
     "output_type": "stream",
     "text": [
      "1.9992260592112933e-07\n"
     ]
    }
   ],
   "source": [
    "erro=((S1-S)/S1)*100\n",
    "print(erro)"
   ]
  },
  {
   "cell_type": "code",
   "execution_count": 12,
   "metadata": {},
   "outputs": [
    {
     "name": "stdout",
     "output_type": "stream",
     "text": [
      "valor com wavelets 1.1750591521108822\n"
     ]
    }
   ],
   "source": [
    "x2=1.000025403784438\n",
    "S2=x+(x**3/6)+(x**5/120)+(x**7/50040)\n",
    "print(\"valor com wavelets\", S2)"
   ]
  },
  {
   "cell_type": "code",
   "execution_count": 14,
   "metadata": {},
   "outputs": [
    {
     "name": "stdout",
     "output_type": "stream",
     "text": [
      "valor com série de Taylor 1.1750199840127897\n"
     ]
    }
   ],
   "source": [
    "x3=1.0\n",
    "S3=x3+(x3**3/6)+(x3**5/120)+(x3**7/50040)\n",
    "print(\"valor com série de Taylor\", S3)"
   ]
  },
  {
   "cell_type": "code",
   "execution_count": 16,
   "metadata": {},
   "outputs": [
    {
     "name": "stdout",
     "output_type": "stream",
     "text": [
      "0.0\n"
     ]
    }
   ],
   "source": [
    "erro1=((S2-S3)/S3)*100\n",
    "print(erro1)"
   ]
  },
  {
   "cell_type": "code",
   "execution_count": null,
   "metadata": {},
   "outputs": [],
   "source": []
  }
 ],
 "metadata": {
  "kernelspec": {
   "display_name": "Python 3",
   "language": "python",
   "name": "python3"
  },
  "language_info": {
   "codemirror_mode": {
    "name": "ipython",
    "version": 3
   },
   "file_extension": ".py",
   "mimetype": "text/x-python",
   "name": "python",
   "nbconvert_exporter": "python",
   "pygments_lexer": "ipython3",
   "version": "3.7.6"
  }
 },
 "nbformat": 4,
 "nbformat_minor": 4
}
