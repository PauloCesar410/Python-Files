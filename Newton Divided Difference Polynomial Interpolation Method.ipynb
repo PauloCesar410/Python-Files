{
 "cells": [
  {
   "cell_type": "code",
   "execution_count": 3,
   "metadata": {},
   "outputs": [
    {
     "name": "stdout",
     "output_type": "stream",
     "text": [
      "Enter the point at which you want to calculate the value of the polynomial: 6\n",
      "b=  [ 0.5         2.634       0.066      -0.07758153  0.00923264 -0.0008307\n",
      "  0.00005706 -0.00000314]\n",
      "x=  [ 0.   1.   2.   5.5 11.  13.  16.  18. ]\n",
      "The list of product elements  [6.0, 30.0, 120.0, 60.0, -300.0, 2100.0, -21000.0, 252000.0] The value of polynomial:  9.963\n"
     ]
    }
   ],
   "source": [
    "## Newton Divided Difference Polynomial Interpolation Method\n",
    "\n",
    "import numpy as np\n",
    "\n",
    "x=np.array([0,1,2,5.5,11,13,16,18],float)\n",
    "y=np.array([0.5,  3.134,  5.9,  9.9,  10.2,  9.35,  7.2,  6.2],float)\n",
    "n=len(x)\n",
    "p=np.zeros([n,n+1])#creating a Tree table (n x n+1 array)\n",
    "value =float(input(\"Enter the point at which you want to calculate the value of the polynomial: \"))\n",
    "\n",
    "# first two columns of the table are filled with x and y data points\n",
    "for i in range(n):\n",
    "\n",
    "        p[i,0]=x[i]\n",
    "        p[i,1]=y[i]\n",
    "\n",
    "## algorithm for tree table from column 2 two n+1        \n",
    "for i in range(2,n+1): #column\n",
    "    for j in range(n+1-i):# defines row\n",
    "        p[j,i]=(p[j+1,i-1]-p[j,i-1])/(x[j+i-1]-x[j])#Tree Table\n",
    "np.set_printoptions(suppress=True)## this suppress the scientific symbol(e) and returns values in normal digits\n",
    "\n",
    "# print(p) ## can check the complete Tree table here for NDDP\n",
    "b=p[0][1:]#This vector contains the unknown coefficients in the polynomial which are the top elements of each column. \n",
    "print(\"b= \",b)\n",
    "print(\"x= \",x)\n",
    "lst=[] # list where we will append the values of prouct terms\n",
    "\n",
    "t=1\n",
    "for i in range(len(x)):\n",
    "    t*=(value-x[i]) ##(x-x0), (x-x0)(x-x1), (x-x0)(x-x1)(x-x2) etc..\n",
    "    lst.append(t)\n",
    "print(\"The list of product elements \",lst,end = ' ')\n",
    "## creating a general function\n",
    "f=b[0]\n",
    "for k in range(1,len(b)):\n",
    "    f+=b[k]*lst[k-1] ## important**[k-1]** not k because in list we use one step earlier element. For example for b1 we have to use (x-x0), for b2, we use (x-x0)(x-x1) for b3 we use (x-x0)(x-x1)(x2)\n",
    "print(\"The value of polynomial: \",\"%.3f\"%f)"
   ]
  },
  {
   "cell_type": "code",
   "execution_count": null,
   "metadata": {},
   "outputs": [],
   "source": []
  }
 ],
 "metadata": {
  "kernelspec": {
   "display_name": "Python 3",
   "language": "python",
   "name": "python3"
  },
  "language_info": {
   "codemirror_mode": {
    "name": "ipython",
    "version": 3
   },
   "file_extension": ".py",
   "mimetype": "text/x-python",
   "name": "python",
   "nbconvert_exporter": "python",
   "pygments_lexer": "ipython3",
   "version": "3.7.6"
  }
 },
 "nbformat": 4,
 "nbformat_minor": 4
}
