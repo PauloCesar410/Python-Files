{
 "cells": [
  {
   "cell_type": "markdown",
   "metadata": {},
   "source": [
    "# Medindo Tempo de execução em Python"
   ]
  },
  {
   "cell_type": "code",
   "execution_count": 2,
   "metadata": {},
   "outputs": [
    {
     "name": "stdout",
     "output_type": "stream",
     "text": [
      "testando!\n",
      "testando!\n",
      "testando!\n",
      "testando!\n",
      "testando!\n",
      "testando!\n",
      "testando!\n",
      "testando!\n",
      "testando!\n",
      "testando!\n",
      "0.0\n"
     ]
    }
   ],
   "source": [
    "import time\n",
    "def loopParaSomarTempo():\n",
    "    for i in range(10):\n",
    "        print(\"testando!\")\n",
    "        \n",
    "        \n",
    "inicio = time.time()\n",
    "loopParaSomarTempo()\n",
    "fim = time.time()\n",
    "\n",
    "print(fim - inicio)"
   ]
  },
  {
   "cell_type": "code",
   "execution_count": null,
   "metadata": {},
   "outputs": [],
   "source": []
  }
 ],
 "metadata": {
  "kernelspec": {
   "display_name": "Python 3",
   "language": "python",
   "name": "python3"
  },
  "language_info": {
   "codemirror_mode": {
    "name": "ipython",
    "version": 3
   },
   "file_extension": ".py",
   "mimetype": "text/x-python",
   "name": "python",
   "nbconvert_exporter": "python",
   "pygments_lexer": "ipython3",
   "version": "3.7.6"
  }
 },
 "nbformat": 4,
 "nbformat_minor": 4
}
