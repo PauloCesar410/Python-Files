{
 "cells": [
  {
   "cell_type": "code",
   "execution_count": 6,
   "metadata": {},
   "outputs": [
    {
     "name": "stdout",
     "output_type": "stream",
     "text": [
      "ww =  [1, 2, 3, 4]\n",
      "kk =  [1, 2, 1, 2, 1, 2]\n"
     ]
    }
   ],
   "source": [
    "#!/usr/bin/python\n",
    "# -*- coding: iso-8859-1 -*-\n",
    "# ----------------------------------------------------------\n",
    "# tentalista: tenta manipular uma lista como se ela fosse\n",
    "# um vetor matemático.\n",
    "# ----------------------------------------------------------\n",
    "from __future__ import print_function\n",
    "uu = [1,2] # lista com dois elementos\n",
    "vv = [3,4] # outra lista com dois elementos\n",
    "ww = uu + vv # soma para ver no que dá\n",
    "kk = 3*uu # multiplica pelo escalar 3 para ver no\n",
    "# que dá\n",
    "print('ww = ', ww) ;\n",
    "print('kk = ',kk) ;"
   ]
  },
  {
   "cell_type": "code",
   "execution_count": 7,
   "metadata": {},
   "outputs": [
    {
     "name": "stdout",
     "output_type": "stream",
     "text": [
      "ww =  [4 6]\n",
      "kk =  [3 6]\n"
     ]
    }
   ],
   "source": [
    "#!/usr/bin/python\n",
    "# -*- coding: iso-8859-1 -*-\n",
    "# ----------------------------------------------------------\n",
    "# tentaarray: usa arrays, em vez de listas\n",
    "# ----------------------------------------------------------\n",
    "from __future__ import print_function\n",
    "from numpy import array\n",
    "uu = array([1,2]) # lista com dois elementos\n",
    "vv = array([3,4]) # outra lista com dois elementos\n",
    "ww = uu + vv # soma para ver no que dá\n",
    "kk = 3*uu # multiplica pelo escalar 3 para ver no\n",
    "# que dá\n",
    "print('ww = ', ww) ;\n",
    "print('kk = ',kk) ;"
   ]
  },
  {
   "cell_type": "code",
   "execution_count": 10,
   "metadata": {},
   "outputs": [
    {
     "name": "stdout",
     "output_type": "stream",
     "text": [
      "erro relativo médio =    0.000004   0.000004\n"
     ]
    },
    {
     "data": {
      "image/png": "[encoded data removed]",
      "text/plain": [
       "<Figure size 432x288 with 1 Axes>"
      ]
     },
     "metadata": {
      "needs_background": "light"
     },
     "output_type": "display_data"
    }
   ],
   "source": [
    "#!/usr/bin/python\n",
    "# -*- coding: iso-8859-1 -*-\n",
    "# ----------------------------------------------------------------------------------\n",
    "# Método de Runge Kutta de 4ªordem: resolve o sistema de duas equações diferenciais\n",
    "#\n",
    "# y(1):du1/dx = u2,\n",
    "# y(0):du2/dx = u1,\n",
    "#\n",
    "# usando o método de Runge-Kutta de ordem 4\n",
    "#   u1(x) = k1e^{-x}+k2e^{x}  Se k1=k2=0.5, então y1 =cosh(x)\n",
    "#   u2(x) = -k1e^{-x} +k2e^{x} Se k1=0.5 e k2=-0.5, então y1 =senh(x)\n",
    "# ----------------------------------------------------------------------------------\n",
    "from __future__ import print_function\n",
    "from numpy import array\n",
    "h = 0.1 # passo em x\n",
    "x = [0.0] # x inicial\n",
    "y = [array([1.0,0.0])] # y inicial\n",
    "n = int(10/h) # número de passos\n",
    "from math import sinh, cosh\n",
    "\n",
    "def ff(x,y):\n",
    "    return array([y[1],y[0]])\n",
    "def rk4(x,y,h,ff): #rk4 implementa um passo do método de Runge-Kutta de ordem 4   \n",
    "    k1 = h*ff(x,y)\n",
    "    k2 = h*ff(x+h/2,y+k1/2)\n",
    "    k3 = h*ff(x+h/2,y+k2/2)\n",
    "    k4 = h*ff(x+h,y+k3)\n",
    "    yn = y + k1/6.0 + k2/3.0 + k3/3.0 + k4/6.0\n",
    "    return yn\n",
    "    \n",
    "for i in range(0,n): # loop da solução numérica\n",
    "        xn = (i+1)*h\n",
    "        yn = rk4(x[i],y[i],h,ff)\n",
    "        x.append(xn)\n",
    "        y.append(yn)\n",
    "    \n",
    "erro0 = 0.0 # calcula o erro relativo médio\n",
    "erro1 = 0.0\n",
    "\n",
    "for i in range(1,n+1):\n",
    "    yana0 = cosh(x[i])\n",
    "    yana1 = sinh(x[i])\n",
    "    erro0 += abs( (y[i][0] - yana0)/yana0 )\n",
    "    erro1 += abs( (y[i][1] - yana1)/yana1 )\n",
    "    \n",
    "erro0 /= n\n",
    "erro1 /= n\n",
    "\n",
    "print ( 'erro relativo médio = ', '%10.6f %10.6f' % (erro0,erro1) )\n",
    "fou = open('rungek4v.out','wt')\n",
    "for i in range(0,n+1): # imprime o arquivo de saída\n",
    "        fou.write( '%12.6f %12.6f %12.6f\\n' % (x[i],y[i][0],y[i][1]) )\n",
    "fou.close()\n",
    "\n",
    "####################################################\n",
    "import pylab as plt\n",
    "import numpy as np\n",
    "#Solução Exata\n",
    "#X = np.linspace(-np.pi, np.pi, 256, endpoint=True)\n",
    "X = np.linspace(0, 10, 256, endpoint=True)\n",
    "C, S = np.cosh(X), np.sinh(X)\n",
    "plt.grid(True)\n",
    "pl.plot(X, 0.5*C+0.5*S,'blue', label='Solução Exata')\n",
    "pl.plot(X, S)\n",
    "plt.legend()\n",
    "pl.show()\n",
    "####################################################\n",
    "\n"
   ]
  },
  {
   "cell_type": "code",
   "execution_count": 11,
   "metadata": {},
   "outputs": [
    {
     "data": {
      "image/png": "[encoded data removed]",
      "text/plain": [
       "<Figure size 432x288 with 1 Axes>"
      ]
     },
     "metadata": {
      "needs_background": "light"
     },
     "output_type": "display_data"
    }
   ],
   "source": [
    "#Comparação entre solução exata e solução numérica\n",
    "import pylab as plt\n",
    "pl.plot(x,y,'red',label='Solução Numérica')\n",
    "pl.plot(X, 0.5*C+0.5*S, 'black', label='Solução Exata')\n",
    "plt.xlabel('x')\n",
    "plt.ylabel('y(x)')\n",
    "plt.grid(True)\n",
    "plt.legend()\n",
    "#plt.figure(figsize=(15, 9))\n",
    "plt.show()"
   ]
  },
  {
   "cell_type": "code",
   "execution_count": null,
   "metadata": {},
   "outputs": [],
   "source": []
  }
 ],
 "metadata": {
  "kernelspec": {
   "display_name": "Python 3",
   "language": "python",
   "name": "python3"
  },
  "language_info": {
   "codemirror_mode": {
    "name": "ipython",
    "version": 3
   },
   "file_extension": ".py",
   "mimetype": "text/x-python",
   "name": "python",
   "nbconvert_exporter": "python",
   "pygments_lexer": "ipython3",
   "version": "3.7.6"
  }
 },
 "nbformat": 4,
 "nbformat_minor": 4
}
