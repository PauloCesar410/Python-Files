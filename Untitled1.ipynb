{
 "cells": [
  {
   "cell_type": "code",
   "execution_count": 3,
   "metadata": {},
   "outputs": [
    {
     "name": "stdout",
     "output_type": "stream",
     "text": [
      "Solução de Ax=b é x \n",
      ":   =  [-0.13167204  0.46327238  0.32489542  0.70160153  0.73647663 -0.38933907]\n",
      "O tempo de execução para encontrar a solução do sistema é:  0.9973049163818359\n"
     ]
    }
   ],
   "source": [
    "import numpy as np  # Ax=b, então x=inv(A).b\n",
    "import time\n",
    "A1 = np.array(((2, 3, 1,5,7,8), (1, 2 ,3,-3,4,-1), (3, 1, 2,1,-2,5),(4,3,1,-1,9,8),(5,11,-1,2,3,7),(10,12,8,9,-3,5)))\n",
    "b1 = np.array((7, 3, -2,4,5,9))\n",
    "\n",
    "\n",
    "inicio = time.time()\n",
    "Inversa = np.linalg.inv(A1)\n",
    "x  = np.dot(Inversa, b1)\n",
    "print(\"Solução de Ax=b é x \\n:   = \",x)\n",
    "fim = time.time()\n",
    "\n",
    "print(\"O tempo de execução para encontrar a solução do sistema é: \",(fim - inicio)*1000)\n",
    "\n"
   ]
  },
  {
   "cell_type": "code",
   "execution_count": null,
   "metadata": {},
   "outputs": [],
   "source": []
  }
 ],
 "metadata": {
  "kernelspec": {
   "display_name": "Python 3",
   "language": "python",
   "name": "python3"
  },
  "language_info": {
   "codemirror_mode": {
    "name": "ipython",
    "version": 3
   },
   "file_extension": ".py",
   "mimetype": "text/x-python",
   "name": "python",
   "nbconvert_exporter": "python",
   "pygments_lexer": "ipython3",
   "version": "3.7.6"
  }
 },
 "nbformat": 4,
 "nbformat_minor": 4
}
