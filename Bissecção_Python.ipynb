{
 "cells": [
  {
   "cell_type": "code",
   "execution_count": 6,
   "metadata": {},
   "outputs": [
    {
     "name": "stdout",
     "output_type": "stream",
     "text": [
      "0.5\n"
     ]
    }
   ],
   "source": [
    "def bisection(f,a,b,eps):\n",
    "    fa = f(a)\n",
    "    fb = f(b)    \n",
    "    if fa*fb > 0:\n",
    "        print(\"Error: function has the same sign in both extremes\")\n",
    "        exit(0)\n",
    "    while b-a > eps:\n",
    "        c = (a+b)/2\n",
    "        fc = f(c)    \n",
    "        if fa*fc < 0:\n",
    "            b, fb = c, fc\n",
    "        elif fa*fc > 0:\n",
    "            a, fa = c, fc\n",
    "        else:\n",
    "            return c\n",
    "    return (a+b)/2.\n",
    "\n",
    "\n",
    "if __name__ == \"__main__\":\n",
    "    \n",
    "    def f(x):\n",
    "         return x**2\n",
    "print(bisection(f,0.0,1.0,2.e-16))\n"
   ]
  },
  {
   "cell_type": "code",
   "execution_count": null,
   "metadata": {},
   "outputs": [],
   "source": []
  }
 ],
 "metadata": {
  "kernelspec": {
   "display_name": "Python 3",
   "language": "python",
   "name": "python3"
  },
  "language_info": {
   "codemirror_mode": {
    "name": "ipython",
    "version": 3
   },
   "file_extension": ".py",
   "mimetype": "text/x-python",
   "name": "python",
   "nbconvert_exporter": "python",
   "pygments_lexer": "ipython3",
   "version": "3.7.6"
  }
 },
 "nbformat": 4,
 "nbformat_minor": 4
}
