{
 "cells": [
  {
   "cell_type": "code",
   "execution_count": 1,
   "metadata": {},
   "outputs": [
    {
     "name": "stdout",
     "output_type": "stream",
     "text": [
      "28\n"
     ]
    }
   ],
   "source": [
    "from random import randint\n",
    "\n",
    "n = 7\n",
    "a = 0\n",
    "\n",
    "for i in range(n):\n",
    "    num_aleat = randint(0, 50)\n",
    "    if num_aleat > a and num_aleat <= 40:\n",
    "        a = num_aleat\n",
    "\n",
    "print(a)\n"
   ]
  },
  {
   "cell_type": "code",
   "execution_count": 4,
   "metadata": {},
   "outputs": [
    {
     "name": "stdout",
     "output_type": "stream",
     "text": [
      "Bem-vindo(a)! Para abrir uma conta corrente responda às seguintes perguntas: \n",
      "Você tem em mãos o documento de identidade, sim ou não?sim\n",
      "Você tem em mãos um comprovante de residência, sim ou não? sim\n",
      "Certo. Vamos prosseguir com a abertura da sua conta corrente.\n"
     ]
    }
   ],
   "source": [
    "print('Bem-vindo(a)! Para abrir uma conta corrente responda às seguintes perguntas: ')\n",
    "\n",
    "p1 = input('Você tem em mãos o documento de identidade, sim ou não?')\n",
    "p2 = input('Você tem em mãos um comprovante de residência, sim ou não? ')\n",
    "\n",
    "if p1 == 'não' or p2 == 'não':\n",
    "    print('Sinto muito, você não tem os documentos necessários para a abertura de conta corrente.')\n",
    "else:\n",
    "    print('Certo. Vamos prosseguir com a abertura da sua conta corrente.')\n",
    "    "
   ]
  },
  {
   "cell_type": "code",
   "execution_count": 5,
   "metadata": {},
   "outputs": [
    {
     "name": "stdout",
     "output_type": "stream",
     "text": [
      "7200\n"
     ]
    }
   ],
   "source": [
    "T = 1\n",
    "M = 5\n",
    "C = 10\n",
    "C = C * (1 + T)\n",
    "\n",
    "while T < M:\n",
    "    T = T + 1\n",
    "    C = C * (1 + T)\n",
    "    \n",
    "print(C)"
   ]
  },
  {
   "cell_type": "code",
   "execution_count": 6,
   "metadata": {},
   "outputs": [
    {
     "name": "stdout",
     "output_type": "stream",
     "text": [
      "1200\n"
     ]
    }
   ],
   "source": [
    "T = 1\n",
    "M = 5\n",
    "C = 10\n",
    "\n",
    "for T in range (M):\n",
    "    C = C * (1 + T)\n",
    "        \n",
    "print(C)"
   ]
  },
  {
   "cell_type": "code",
   "execution_count": 7,
   "metadata": {},
   "outputs": [
    {
     "name": "stdout",
     "output_type": "stream",
     "text": [
      "2400\n"
     ]
    }
   ],
   "source": [
    "T = 1\n",
    "M = 5\n",
    "C = 10\n",
    "C = C * (1 + T)\n",
    "\n",
    "for T in range(M):\n",
    "    C = C * (1 + T)\n",
    "        \n",
    "print(C)\n"
   ]
  },
  {
   "cell_type": "code",
   "execution_count": 8,
   "metadata": {},
   "outputs": [
    {
     "name": "stdout",
     "output_type": "stream",
     "text": [
      "1200\n"
     ]
    }
   ],
   "source": [
    "T = 1\n",
    "M = 5\n",
    "C = 10\n",
    "\n",
    "while T < M:\n",
    "    C = C * (1 + T)\n",
    "    T = T + 1\n",
    "\n",
    "print(C)"
   ]
  },
  {
   "cell_type": "code",
   "execution_count": 9,
   "metadata": {},
   "outputs": [
    {
     "name": "stdout",
     "output_type": "stream",
     "text": [
      "7200\n"
     ]
    }
   ],
   "source": [
    "T = 1\n",
    "M = 5\n",
    "C = 10\n",
    "C = C * (1 + T)\n",
    "\n",
    "while T < M:\n",
    "    T = T + 1\n",
    "    C = C * (1 + T)\n",
    "    \n",
    "print(C)"
   ]
  },
  {
   "cell_type": "code",
   "execution_count": null,
   "metadata": {},
   "outputs": [],
   "source": []
  }
 ],
 "metadata": {
  "kernelspec": {
   "display_name": "Python 3",
   "language": "python",
   "name": "python3"
  },
  "language_info": {
   "codemirror_mode": {
    "name": "ipython",
    "version": 3
   },
   "file_extension": ".py",
   "mimetype": "text/x-python",
   "name": "python",
   "nbconvert_exporter": "python",
   "pygments_lexer": "ipython3",
   "version": "3.7.6"
  }
 },
 "nbformat": 4,
 "nbformat_minor": 4
}
