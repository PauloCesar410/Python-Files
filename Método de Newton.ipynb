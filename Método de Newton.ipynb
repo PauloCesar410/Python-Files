{
 "cells": [
  {
   "cell_type": "code",
   "execution_count": 14,
   "metadata": {},
   "outputs": [],
   "source": [
    "from numpy import *\n",
    "import math\n",
    "import pandas as pd\n",
    "import numpy as np"
   ]
  },
  {
   "cell_type": "code",
   "execution_count": 2,
   "metadata": {},
   "outputs": [
    {
     "name": "stdout",
     "output_type": "stream",
     "text": [
      "Método de Newton-Raphson\n",
      "Digite 1 se for usar intervalo ou 2 se for usar um valor inical: 1\n"
     ]
    }
   ],
   "source": [
    "print(\"Método de Newton-Raphson\")\n",
    "valor = int(input(\"Digite 1 se for usar intervalo ou 2 se for usar um valor inical: \"))"
   ]
  },
  {
   "cell_type": "code",
   "execution_count": 18,
   "metadata": {},
   "outputs": [
    {
     "name": "stdout",
     "output_type": "stream",
     "text": [
      "Digite os valores de a e b\n",
      "digite o valor de a:  0\n",
      "digite o valor de b:  1\n"
     ]
    }
   ],
   "source": [
    "if valor==1:\n",
    "    print(\"Digite os valores de a e b\")\n",
    "    a=int(input(\"digite o valor de a:  \"))\n",
    "    b=int(input(\"digite o valor de b:  \"))\n",
    "    x=a+b/2\n",
    "elif valor ==2:\n",
    "    x0 = int(input(\"Digite seu valor inicial:  \"))\n",
    "    x=x0\n",
    "else:\n",
    "    print(\"Valor digitado incorreto! Reinicie o programa!\")\n",
    "    exit()"
   ]
  },
  {
   "cell_type": "code",
   "execution_count": 9,
   "metadata": {},
   "outputs": [
    {
     "name": "stdout",
     "output_type": "stream",
     "text": [
      "Digite o valor do seu erro:  0.00001\n"
     ]
    }
   ],
   "source": [
    "precisao = eval(input(\"Digite o valor do seu erro:  \"))"
   ]
  },
  {
   "cell_type": "code",
   "execution_count": 20,
   "metadata": {},
   "outputs": [
    {
     "name": "stdout",
     "output_type": "stream",
     "text": [
      "Escreva a sua função f50*x - 200*(np.cos(x))\n"
     ]
    }
   ],
   "source": [
    "y1= input(\"Escreva a sua função f\")"
   ]
  },
  {
   "cell_type": "code",
   "execution_count": 21,
   "metadata": {},
   "outputs": [],
   "source": [
    "def f(x):\n",
    "    y=eval(y1)\n",
    "    return y"
   ]
  },
  {
   "cell_type": "code",
   "execution_count": 22,
   "metadata": {},
   "outputs": [],
   "source": [
    "def derivada(x):\n",
    "    z = (( f(x+precisao)-f(x))/precisao)\n",
    "    return z"
   ]
  },
  {
   "cell_type": "code",
   "execution_count": 23,
   "metadata": {},
   "outputs": [
    {
     "name": "stdout",
     "output_type": "stream",
     "text": [
      " iterações    x        f(x)\n",
      "         0  0.5 -150.516512\n",
      "A raiz de f 50*x - 200*(np.cos(x)) é aproximadamente x=   0.5 com o número de iterações igual a  1\n"
     ]
    }
   ],
   "source": [
    "k=1\n",
    "k1=[]\n",
    "x1=[]\n",
    "fxm=[]\n",
    "k1.append(0)\n",
    "x1.append(x)\n",
    "fxm.append(f(x))\n",
    "while abs(f(x)>precisao):\n",
    "    x = x - f(x)/derivada(x)\n",
    "    k1.append(k)\n",
    "    x1.append(x)\n",
    "    fxm.append(f(x))\n",
    "    k=k+1\n",
    "k2=k\n",
    "\n",
    "df = pd.DataFrame({'iterações':k1, 'x': x1, 'f(x)':fxm})\n",
    "print(df.to_string(index=False))\n",
    "\n",
    "print(\"A raiz de f\", y1, \"é aproximadamente x=  \", x, \"com o número de iterações igual a \", k2)"
   ]
  },
  {
   "cell_type": "code",
   "execution_count": null,
   "metadata": {},
   "outputs": [],
   "source": []
  }
 ],
 "metadata": {
  "kernelspec": {
   "display_name": "Python 3",
   "language": "python",
   "name": "python3"
  },
  "language_info": {
   "codemirror_mode": {
    "name": "ipython",
    "version": 3
   },
   "file_extension": ".py",
   "mimetype": "text/x-python",
   "name": "python",
   "nbconvert_exporter": "python",
   "pygments_lexer": "ipython3",
   "version": "3.7.6"
  }
 },
 "nbformat": 4,
 "nbformat_minor": 4
}
