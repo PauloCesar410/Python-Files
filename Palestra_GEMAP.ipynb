{
 "cells": [
  {
   "cell_type": "markdown",
   "metadata": {},
   "source": [
    "# Solução do sistema linear "
   ]
  },
  {
   "cell_type": "code",
   "execution_count": 26,
   "metadata": {},
   "outputs": [
    {
     "name": "stdout",
     "output_type": "stream",
     "text": [
      "Matriz A: [[2.   2.  ]\n",
      " [1.   1.01]]\n",
      "____________________________________________________________________________________________________\n",
      "Vetor b \n",
      ":   [8.   4.01]\n",
      "____________________________________________________________________________________________________\n",
      "Solução de Ax=b é x \n",
      ":   =  [3. 1.]\n",
      "____________________________________________________________________________________________________\n",
      "A inversa de A é \n",
      ":  [[  50.5 -100. ]\n",
      " [ -50.   100. ]]\n",
      "____________________________________________________________________________________________________\n",
      "O determinante de A é \n",
      ":  0.02000000000000001\n",
      "____________________________________________________________________________________________________\n",
      "[3. 1.]\n"
     ]
    }
   ],
   "source": [
    "import numpy as np  # Ax=b, então x=inv(A).b\n",
    "\n",
    "A = np.array(((2,2),(1,1.01)))\n",
    "print(\"Matriz A:\", A)\n",
    "\n",
    "print(\"____________________________________________________________________________________________________\")\n",
    "b = np.array((8,4.01))\n",
    "print(\"Vetor b \\n:  \",b)\n",
    "\n",
    "\n",
    "print(\"____________________________________________________________________________________________________\")\n",
    "x  = np.linalg.solve(A, b)\n",
    "print(\"Solução de Ax=b é x \\n:   = \",x)\n",
    "\n",
    "\n",
    "print(\"____________________________________________________________________________________________________\")\n",
    "\n",
    "Inversa = np.linalg.inv(A)\n",
    "print(\"A inversa de A é \\n: \", Inversa)\n",
    "\n",
    "print(\"____________________________________________________________________________________________________\")\n",
    "\n",
    "Determinante = np.linalg.det(A)   \n",
    "print(\"O determinante de A é \\n: \", Determinante)\n",
    "\n",
    "print(\"____________________________________________________________________________________________________\")\n",
    "M = np.matmul(Inversa,b)\n",
    "print(M)\n",
    "\n",
    "\n",
    "\n",
    "#numero_condicionamento = np.linalg.cond(A)\n",
    "#print(numero_condicionamento)\n",
    "\n",
    "#Determinante = np.linalg.det(A)    # Se o determinante não é nulo, então os vetores são LI(Linearmente Indpendentes)\n",
    "#print(\"O determinante de A é: \", Determinante)\n",
    "\n",
    "\n",
    "#norma = np.linalg.norm(A)\n",
    "#print(norma)\n",
    "\n",
    "#rank = np.linalg.matrix_rank(A)\n",
    "#print(rank)"
   ]
  },
  {
   "cell_type": "markdown",
   "metadata": {},
   "source": [
    "# Determinate da matiz principal"
   ]
  },
  {
   "cell_type": "code",
   "execution_count": 19,
   "metadata": {},
   "outputs": [
    {
     "name": "stdout",
     "output_type": "stream",
     "text": [
      "O determinante de A é:  -4.0\n",
      "A inversa de A é:  [[ 0.25  0.5 ]\n",
      " [ 0.25 -0.5 ]]\n",
      "0.7905694150420949\n"
     ]
    }
   ],
   "source": [
    "Determinante = np.linalg.det(A)    # Se o determinante não é nulo, então os vetores são LI(Linearmente Indpendentes)\n",
    "print(\"O determinante de A é: \", Determinante)\n",
    "\n",
    "Inversa = np.linalg.inv(A)\n",
    "print(\"A inversa de A é: \", Inversa)\n",
    "\n",
    "norma_inv = np.linalg.norm(Inversa)\n",
    "print(norma_inv)\n",
    "\n",
    "#n_cond = (norma_inv)*(norma)\n",
    "#print(n_cond)"
   ]
  },
  {
   "cell_type": "markdown",
   "metadata": {},
   "source": [
    "# Regra de Cramer"
   ]
  },
  {
   "cell_type": "code",
   "execution_count": 2,
   "metadata": {},
   "outputs": [
    {
     "name": "stdout",
     "output_type": "stream",
     "text": [
      "O valor de x é:  4.05\n",
      "O valor de y é:  1.32\n"
     ]
    }
   ],
   "source": [
    "import numpy as np\n",
    "D = np.array(((1, 3),(5,-7)))\n",
    "Dx = np.array(((8,3),(11,-7)))\n",
    "Dy = np.array(((1,8),(5,11)))\n",
    "Determinante = np.linalg.det(D)\n",
    "Determinantex = np.linalg.det(Dx)\n",
    "Determinantey = np.linalg.det(Dy)\n",
    "x=Determinantex/Determinante\n",
    "y=Determinantey/Determinante\n",
    "\n",
    "print(\"O valor de x é: \", round(x,2))\n",
    "print(\"O valor de y é: \", round(y,2))"
   ]
  },
  {
   "cell_type": "markdown",
   "metadata": {},
   "source": [
    "# Autovalores e Autovetores"
   ]
  },
  {
   "cell_type": "code",
   "execution_count": 18,
   "metadata": {},
   "outputs": [
    {
     "name": "stdout",
     "output_type": "stream",
     "text": [
      "[ 2.56155281 -1.56155281] [[ 0.96276969 -0.48963374]\n",
      " [ 0.27032301  0.87192821]]\n"
     ]
    }
   ],
   "source": [
    "autovalores,autovetores = np.linalg.eig(A)\n",
    "print(autovalores,autovetores)"
   ]
  },
  {
   "cell_type": "markdown",
   "metadata": {},
   "source": [
    "# Raio espectral com três autovalores"
   ]
  },
  {
   "cell_type": "code",
   "execution_count": 5,
   "metadata": {},
   "outputs": [
    {
     "name": "stdout",
     "output_type": "stream",
     "text": [
      "Primeiro numero: 0.86\n",
      "Segundo numero : -0.37\n",
      "Terceiro numero: -0.33\n",
      "Maior Valor em Módulo, portanto é o raio espectral:  0.86\n",
      "Menor Valor em Módulo, não serve como raio espectral:  0.33\n"
     ]
    }
   ],
   "source": [
    "primeiro = float(input('Primeiro numero: '))\n",
    "segundo  = float(input('Segundo numero : '))\n",
    "terceiro = float(input('Terceiro numero: '))\n",
    "\n",
    "# Achando o maior número\n",
    "maior = abs(primeiro)\n",
    "\n",
    "if (segundo > maior):\n",
    "    maior = abs(segundo)\n",
    "if (terceiro > maior):\n",
    "    maior = abs(terceiro)\n",
    "\n",
    "print('Maior Valor em Módulo, portanto é o raio espectral: ',maior)\n",
    "\n",
    "# Achando o menor número\n",
    "menor = abs(primeiro)\n",
    "\n",
    "if (segundo < menor):\n",
    "    menor = abs(segundo)\n",
    "if (terceiro < menor):\n",
    "    menor = abs(terceiro)\n",
    "\n",
    "print('Menor Valor em Módulo, não serve como raio espectral: ',menor)"
   ]
  },
  {
   "cell_type": "markdown",
   "metadata": {},
   "source": [
    "# Estabilidade do sistema"
   ]
  },
  {
   "cell_type": "code",
   "execution_count": 6,
   "metadata": {},
   "outputs": [
    {
     "name": "stdout",
     "output_type": "stream",
     "text": [
      "Matriz A \n",
      " [[ 2.01  1.01 -3.01]\n",
      " [ 1.    1.    1.  ]\n",
      " [ 3.   -3.    9.  ]]\n",
      "Vetor b \n",
      " [ 1  0 -3]\n",
      "Solução de Ax=b é c =  [-0.00166113  0.25083056 -0.24916944]\n"
     ]
    }
   ],
   "source": [
    "import numpy as np \n",
    "Ae = np.array(((2.01, 1.01, -3.01), (1, 1 ,1), (3, -3, 9))) # Alterando a primeira linha da matriz\n",
    "print(\"Matriz A \\n\",Ae)\n",
    "be = np.array((1, 0, -3))\n",
    "print(\"Vetor b \\n\",b)\n",
    "ce  =np.linalg.solve(Ae, be)\n",
    "print(\"Solução de Ax=b é c = \",ce)"
   ]
  },
  {
   "cell_type": "code",
   "execution_count": 7,
   "metadata": {},
   "outputs": [
    {
     "name": "stdout",
     "output_type": "stream",
     "text": [
      "O determinante da matriz A modificada é:  36.11999999999999\n"
     ]
    }
   ],
   "source": [
    "Determinantenovo =np.linalg.det(Ae)\n",
    "print(\"O determinante da matriz A modificada é: \", Determinantenovo)"
   ]
  },
  {
   "cell_type": "markdown",
   "metadata": {},
   "source": [
    "# Decomposição LU em Python"
   ]
  },
  {
   "cell_type": "code",
   "execution_count": 3,
   "metadata": {},
   "outputs": [],
   "source": [
    "import  numpy as np   # A.x =b   (L.U)x=b\n",
    "A = np.array(((2, 3, 1,5,7,8), (1, 2 ,3,-3,4,-1), (3, 1, 2,1,-2,5),(4,3,1,-1,9,8),(5,11,-1,2,3,7),(10,12,8,9,-3,5)))\n",
    "b = np.array((7, 3, -2,4,5,9))"
   ]
  },
  {
   "cell_type": "code",
   "execution_count": 4,
   "metadata": {},
   "outputs": [
    {
     "name": "stdout",
     "output_type": "stream",
     "text": [
      "A solução do sistema linear é:  [-0.13167204  0.46327238  0.32489542  0.70160153  0.73647663 -0.38933907]\n",
      "O tempo de execução para encontrar a solução do sistema é:  298.1891632080078\n"
     ]
    }
   ],
   "source": [
    "import time\n",
    "inicio = time.time()\n",
    "def LU(A,b):   #Ax=b, LUx=b, Ly=b, Ux=y, x=Linv.Uinv.b : solução\n",
    "    import scipy.linalg\n",
    "    L,U =scipy.linalg.lu(A,permute_l=True)\n",
    "    y=scipy.linalg.solve(L,b)\n",
    "    x=scipy.linalg.solve(U,y)\n",
    "    return x\n",
    "print(\"A solução do sistema linear é: \", LU(A,b))\n",
    "fim = time.time()\n",
    "\n",
    "print(\"O tempo de execução para encontrar a solução do sistema é: \",(fim - inicio)*1000)\n"
   ]
  },
  {
   "cell_type": "code",
   "execution_count": 5,
   "metadata": {},
   "outputs": [
    {
     "name": "stdout",
     "output_type": "stream",
     "text": [
      "Solução de Ax=b é x \n",
      ":   =  [-0.13167204  0.46327238  0.32489542  0.70160153  0.73647663 -0.38933907]\n",
      "O tempo de execução para encontrar a solução do sistema é:  12.96544075012207\n"
     ]
    }
   ],
   "source": [
    "import numpy as np  # Ax=b, então x=inv(A).b\n",
    "import time\n",
    "A1 = np.array(((2, 3, 1,5,7,8), (1, 2 ,3,-3,4,-1), (3, 1, 2,1,-2,5),(4,3,1,-1,9,8),(5,11,-1,2,3,7),(10,12,8,9,-3,5)))\n",
    "b1 = np.array((7, 3, -2,4,5,9))\n",
    "\n",
    "\n",
    "inicio = time.time()\n",
    "Inversa = np.linalg.inv(A1)\n",
    "x  = np.dot(Inversa, b1)\n",
    "print(\"Solução de Ax=b é x \\n:   = \",x)\n",
    "fim = time.time()\n",
    "\n",
    "print(\"O tempo de execução para encontrar a solução do sistema é: \",(fim - inicio)*1000)\n",
    "\n"
   ]
  },
  {
   "cell_type": "code",
   "execution_count": 20,
   "metadata": {},
   "outputs": [
    {
     "name": "stdout",
     "output_type": "stream",
     "text": [
      "(array([[0., 1., 0.],\n",
      "       [0., 0., 1.],\n",
      "       [1., 0., 0.]]), array([[1.        , 0.        , 0.        ],\n",
      "       [0.66666667, 1.        , 0.        ],\n",
      "       [0.33333333, 0.71428571, 1.        ]]), array([[ 3.        ,  1.        ,  2.        ],\n",
      "       [ 0.        ,  2.33333333, -0.33333333],\n",
      "       [ 0.        ,  0.        ,  2.57142857]]))\n"
     ]
    }
   ],
   "source": [
    "from scipy.linalg import lu\n",
    "A = np.array(((2, 3, 1), (1, 2 ,3), (3, 1, 2)))\n",
    "p, l, u = lu(A)\n",
    "print(lu(A))"
   ]
  },
  {
   "cell_type": "code",
   "execution_count": 54,
   "metadata": {},
   "outputs": [
    {
     "name": "stdout",
     "output_type": "stream",
     "text": [
      "[ 1. -1.  2.]\n"
     ]
    }
   ],
   "source": [
    "import numpy as np                     # Exercício sobre solução de sistemas lineares usando a inversa da matriz\n",
    "import scipy.linalg\n",
    "import  numpy as np   # Ax=b, então x=Inv(A)*b\n",
    "A = np.array(((3, -4, 1), (1, 2 ,2), (4, 0, -3)))\n",
    "b = np.array((9, 3, -2))\n",
    "A_inv =np.linalg.inv(A)\n",
    "#print(A_inv)\n",
    "x=(A_inv@b)\n",
    "print(x)"
   ]
  },
  {
   "cell_type": "markdown",
   "metadata": {},
   "source": [
    "# Vetores em Python"
   ]
  },
  {
   "cell_type": "code",
   "execution_count": 6,
   "metadata": {},
   "outputs": [],
   "source": [
    "import numpy as np"
   ]
  },
  {
   "cell_type": "code",
   "execution_count": 11,
   "metadata": {},
   "outputs": [],
   "source": [
    "vetor1 = np.array([67])\n",
    "vetor2 = np.array([67, 250])\n",
    "vetor3 = np.array([67, 250, 2])\n",
    "vetor4 = np.array([-50, 20, 27])"
   ]
  },
  {
   "cell_type": "code",
   "execution_count": 8,
   "metadata": {},
   "outputs": [
    {
     "name": "stdout",
     "output_type": "stream",
     "text": [
      "[67] [ 67 250] [ 67 250   2]\n"
     ]
    }
   ],
   "source": [
    "print(vetor1,vetor2,vetor3)"
   ]
  },
  {
   "cell_type": "code",
   "execution_count": 15,
   "metadata": {},
   "outputs": [
    {
     "name": "stdout",
     "output_type": "stream",
     "text": [
      "[ 334  420 -104]\n"
     ]
    }
   ],
   "source": [
    "print(2*vetor3 - 4*vetor4)"
   ]
  },
  {
   "cell_type": "code",
   "execution_count": 19,
   "metadata": {},
   "outputs": [
    {
     "name": "stdout",
     "output_type": "stream",
     "text": [
      "A média dos elementos do meu vetor é:  44.5\n",
      "O elemento mínimo do meu vetor é:  -32\n",
      "O elemento máximo do meu vetor é:  105\n"
     ]
    }
   ],
   "source": [
    "#Métodos úteis da np.array\n",
    "meu_vetor = np.array([10, -32, 39, 42, 33, 70, 89, 105])\n",
    "print(\"A média dos elementos do meu vetor é: \", meu_vetor.sum()/len(meu_vetor)) \n",
    "print(\"O elemento mínimo do meu vetor é: \", meu_vetor.min())\n",
    "print(\"O elemento máximo do meu vetor é: \", meu_vetor.max()) "
   ]
  },
  {
   "cell_type": "code",
   "execution_count": 20,
   "metadata": {},
   "outputs": [],
   "source": [
    "#Soma de vetores\n",
    "x = np.array([1, 2, 3, 4])\n",
    "y = np.array([5, 6, 7, 8])\n",
    "soma = x + y "
   ]
  },
  {
   "cell_type": "code",
   "execution_count": 21,
   "metadata": {},
   "outputs": [
    {
     "name": "stdout",
     "output_type": "stream",
     "text": [
      "[ 6  8 10 12]\n"
     ]
    }
   ],
   "source": [
    "print(soma)"
   ]
  },
  {
   "cell_type": "code",
   "execution_count": 22,
   "metadata": {},
   "outputs": [
    {
     "name": "stdout",
     "output_type": "stream",
     "text": [
      "[7.  8.5 8.  5.  9.5 7.  6.5 6.  7.5 8.5 7.  8. ]\n"
     ]
    }
   ],
   "source": [
    "#Soma escalar\n",
    "notas = np.array([6.5, 8.0, 7.5, 4.5, 9.0, 6.5, 6.0, 5.5, 7.0, 8.0, 6.5, 7.5])\n",
    "soma = notas + 0.5  \n",
    "print(soma)"
   ]
  },
  {
   "cell_type": "code",
   "execution_count": 23,
   "metadata": {},
   "outputs": [
    {
     "name": "stdout",
     "output_type": "stream",
     "text": [
      "[ 5 12 21 32]\n"
     ]
    }
   ],
   "source": [
    "#Multiplicação de vetores\n",
    "x = np.array([1, 2, 3, 4])\n",
    "y = np.array([5, 6, 7, 8])\n",
    "mult = x * y  #[5, 12, 21, 32]\n",
    "print(mult)"
   ]
  },
  {
   "cell_type": "code",
   "execution_count": 39,
   "metadata": {},
   "outputs": [
    {
     "name": "stdout",
     "output_type": "stream",
     "text": [
      "7.6\n",
      "O aluno está aprovado 7.6\n"
     ]
    }
   ],
   "source": [
    "#Aplicação: Se temos um vetor com as notas de um aluno.\n",
    "notas = np.array([10.0, 7.0, 5.5, 6.5, 8.0])\n",
    "\n",
    "#E temos um vetor com o peso que representa cada uma das notas na disciplina:\n",
    "pesos = np.array([0.2, 0.1, 0.1, 0.3, 0.3])\n",
    "\n",
    "#Se multiplicarmos os dois vetores e somar seus valores, temos como resultado a nota que este aluno teve na disciplina:\n",
    "notaFinal = sum(notas * pesos)\n",
    "\n",
    "media_ponderada = (notaFinal)/(pesos.sum())\n",
    "\n",
    "print(media_ponderada)\n",
    "\n",
    "if 4.0 < media_ponderada < 7.0:\n",
    "    print(\"O seu aluno está de recuperação\", media_ponderada)\n",
    "elif (0.0<= media_ponderada<=4.0):\n",
    "    print(\"O aluno está reprovado direto!\")\n",
    "else:\n",
    "    print(\"O aluno está aprovado\", media_ponderada)"
   ]
  },
  {
   "cell_type": "code",
   "execution_count": 40,
   "metadata": {},
   "outputs": [
    {
     "name": "stdout",
     "output_type": "stream",
     "text": [
      "[1.8  1.65 1.7  1.95 1.85]\n"
     ]
    }
   ],
   "source": [
    "#Multiplicação de escalar\n",
    "valores = np.array([18.0, 16.5, 17.0, 19.5, 18.5])\n",
    "#E queremos atribuir um peso de 10% para cada um dos valores:\n",
    "pesos = valores * 0.1  \n",
    "print(pesos)"
   ]
  },
  {
   "cell_type": "code",
   "execution_count": 41,
   "metadata": {},
   "outputs": [
    {
     "name": "stdout",
     "output_type": "stream",
     "text": [
      "70\n"
     ]
    }
   ],
   "source": [
    "#Produto escalar de vetores\n",
    "x = np.array([1, 2, 3, 4])\n",
    "y = np.array([5, 6, 7, 8])\n",
    "prod = np.dot(x, y)\n",
    "print(prod)"
   ]
  },
  {
   "cell_type": "code",
   "execution_count": 43,
   "metadata": {},
   "outputs": [
    {
     "name": "stdout",
     "output_type": "stream",
     "text": [
      "30\n",
      "5.477225575051661\n"
     ]
    }
   ],
   "source": [
    "x = np.array([1, 2, 3, 4])\n",
    "prod_quadrado = np.dot(x, x)\n",
    "print(prod_quadrado)\n",
    "print(np.sqrt(prod_quadrado))"
   ]
  },
  {
   "cell_type": "code",
   "execution_count": 44,
   "metadata": {},
   "outputs": [
    {
     "name": "stdout",
     "output_type": "stream",
     "text": [
      "3.605551275463989\n",
      "2.23606797749979\n"
     ]
    }
   ],
   "source": [
    "#Distância entre pontos\n",
    "qv = np.array([1,4])    \n",
    "qa = np.array([2,1])    \n",
    "tv = np.array([4,2]) \n",
    "distancia1 = np.sqrt(sum((qv - tv) ** 2))\n",
    "distancia2 = np.sqrt(sum((qa - tv) ** 2)) \n",
    "print(distancia1)\n",
    "print(distancia2)"
   ]
  },
  {
   "cell_type": "code",
   "execution_count": 6,
   "metadata": {},
   "outputs": [],
   "source": [
    "#Matrizes\n",
    "A = np.matrix([[1, 2, 3, 4],\n",
    "               [5, 6, 7, 8]])"
   ]
  },
  {
   "cell_type": "code",
   "execution_count": 7,
   "metadata": {},
   "outputs": [
    {
     "name": "stdout",
     "output_type": "stream",
     "text": [
      "[[1 2 3 4]\n",
      " [5 6 7 8]]\n"
     ]
    }
   ],
   "source": [
    "print(A)"
   ]
  },
  {
   "cell_type": "code",
   "execution_count": 8,
   "metadata": {},
   "outputs": [
    {
     "name": "stdout",
     "output_type": "stream",
     "text": [
      "[[ 2  4  6  8]\n",
      " [10 12 14 16]]\n"
     ]
    }
   ],
   "source": [
    "#Soma de matrizes\n",
    "A = np.matrix([[1, 2, 3, 4], \n",
    "               [5, 6, 7, 8]])\n",
    "B = np.matrix([[1, 2, 3, 4], \n",
    "               [5, 6, 7, 8]])\n",
    "\n",
    "SOMA = A + B\n",
    "print(SOMA)"
   ]
  },
  {
   "cell_type": "code",
   "execution_count": 9,
   "metadata": {},
   "outputs": [
    {
     "name": "stdout",
     "output_type": "stream",
     "text": [
      "[[1 5]\n",
      " [2 6]\n",
      " [3 7]\n",
      " [4 8]]\n"
     ]
    }
   ],
   "source": [
    "#Transposta da matriz\n",
    "A = np.matrix([[1, 2, 3, 4], \n",
    "               [5, 6, 7, 8]])\n",
    "print(A.T)   "
   ]
  },
  {
   "cell_type": "code",
   "execution_count": 10,
   "metadata": {},
   "outputs": [
    {
     "name": "stdout",
     "output_type": "stream",
     "text": [
      "[[ 50  60]\n",
      " [114 140]]\n"
     ]
    }
   ],
   "source": [
    "#Multiplicação de matrizes\n",
    "A = np.matrix([[1, 2, 3, 4], \n",
    "               [5, 6, 7, 8]])\n",
    "B = np.matrix([[1, 2],\n",
    "               [3, 4], \n",
    "               [5, 6],\n",
    "               [7, 8]])\n",
    "mult = A * B\n",
    "print(mult)"
   ]
  },
  {
   "cell_type": "markdown",
   "metadata": {},
   "source": [
    "# Avançando na programação"
   ]
  },
  {
   "cell_type": "code",
   "execution_count": 31,
   "metadata": {},
   "outputs": [
    {
     "name": "stdout",
     "output_type": "stream",
     "text": [
      "\n",
      "O vetor: [10, 11, 12, 13, 14, 15, 16, 17, 18, 19]\n"
     ]
    }
   ],
   "source": [
    "#DEFININDO UM VETOR DE FORMA MAIS AVANÇADA\n",
    "n = 10;\n",
    "\n",
    "# Definir vetor/lista com: (10,11,12,13,...10+n-1)\n",
    "vet = []; # define um vetor vazio\n",
    "for i in range(0, n, 1) : # ou mais simples neste caso \"for i in range(n)\"\n",
    "    vet.append(10+i); # anexe mais um elemento `a lista\n",
    "# Imprime o vetor/lista de uma so' vez (na mesma linha)\n",
    "print(\"\\nO vetor: \", end=\"\"); # informe o que vira impresso a seguir (na mesma linha devido ao parametro end=\"\"\n",
    "print(vet);"
   ]
  },
  {
   "cell_type": "code",
   "execution_count": null,
   "metadata": {},
   "outputs": [
    {
     "name": "stdout",
     "output_type": "stream",
     "text": [
      "\n",
      "Imprime caracteres e seus codigos ASCII na forma de tabela\n",
      "Coluna 1 => caractere; coluna 2 => seu codigo ASCII\n",
      "                   0 :  48\n",
      "                   1 :  49\n",
      "                   2 :  50\n",
      "                   3 :  51\n",
      "                   4 :  52\n",
      "                   5 :  53\n",
      "                   6 :  54\n",
      "                   7 :  55\n",
      "                   8 :  56\n",
      "                   9 :  57\n",
      "                   a :  97\n",
      "                   b :  98\n",
      "                   c :  99\n",
      "                   d : 100\n",
      "                   e : 101\n",
      "                   f : 102\n",
      "                   g : 103\n",
      "                   h : 104\n",
      "                   i : 105\n",
      "                   h : 104\n",
      "\n",
      "Digite uma frase e tecle ENTER/CR\n"
     ]
    }
   ],
   "source": [
    "#Defininido uma cadeia de caracteres (\"string\")\n",
    "# Definir \"string\"\n",
    "string = \"0123456789abcdefghih\"; \n",
    "\n",
    "# Imprimir cada caractere da string com seu codigo ASCII\n",
    "print(\"\\nImprime caracteres e seus codigos ASCII na forma de tabela\\nColuna 1 => caractere; coluna 2 => seu codigo ASCII\");\n",
    "for char in string : # iterador\n",
    "    print(\"%20c : %3d\" % (char, ord(char))); # funcao ord(.) devolve codigo ASCII do caractere parametro\n",
    "print(); # quebre a linha\n",
    "\n",
    "# Agora um entrada de dados via teclado e pegando uma frase como \"string\" (o ENTER finaliza a frase)\n",
    "print(\"Digite uma frase e tecle ENTER/CR\");\n",
    "string = input(); # se usar Python 2 precisa trocar 'input' por 'raw_input'\n",
    "print(\"Foi digitada uma frase com %d caracteres: %s\" % (len(string), string));\n",
    "\n",
    "# Observacao: se definiu um vetor como \"string\" como em (1) acima, NAO e' possivel alterar a \"string\", por exemplo,\n",
    "# o comando abaixo resulta erro \"TypeError: 'str' object does not support item assignment\"\n",
    "# string[2] = '*'; # isso resultaria erro! experimente"
   ]
  },
  {
   "cell_type": "code",
   "execution_count": 10,
   "metadata": {},
   "outputs": [],
   "source": [
    "#Construindo matriz como vetor de vetor e ilustrando que cada linha dela é um vetor.\n",
    "# Vetor de vetor ou matriz\n",
    "# Funcao para somar elementos de um vetor e devolver essa soma\n",
    "def somalinha (vet):\n",
    "    tam = len(vet);\n",
    "    soma = 0;\n",
    "    for i in range(tam) : \n",
    "        soma += vet[i]\n",
    "    return soma"
   ]
  },
  {
   "cell_type": "code",
   "execution_count": 11,
   "metadata": {},
   "outputs": [
    {
     "data": {
      "text/plain": [
       "matrix([[ 6,  8, 10, 12]])"
      ]
     },
     "execution_count": 11,
     "metadata": {},
     "output_type": "execute_result"
    }
   ],
   "source": [
    "A = np.matrix([[1, 2, 3, 4], \n",
    "               [5, 6, 7, 8]])\n",
    "somalinha(A)"
   ]
  },
  {
   "cell_type": "code",
   "execution_count": 14,
   "metadata": {},
   "outputs": [
    {
     "name": "stdout",
     "output_type": "stream",
     "text": [
      "\n",
      "A matriz: [[0, 1, 2, 3], [4, 5, 6, 7], [8, 9, 10, 11]]\n"
     ]
    }
   ],
   "source": [
    "# Definir vetor/lista com: (0,1,2,3,...n-1)\n",
    "nl = 3; nc = 4; #Quantidade linhas e colunas\n",
    "mat = []; # define um vetor vazio\n",
    "for i in range(0, nl, 1) : # ou mais simples neste caso \"for i in range(n)\"\n",
    "    linha = []; # define um vetor vazio\n",
    "    for j in range(0, nc, 1) : # ou mais simples neste caso \"for i in range(n)\"\n",
    "        linha.append(i*nc+j);\n",
    "    mat.append(linha); # anexe nova linha `a matriz 'mat'\n",
    "# Imprime o vetor/lista de uma so' vez (na mesma linha)\n",
    "print(\"\\nA matriz: \", end=\"\"); # informe o que vira impresso a seguir (na mesma linha devido ao parametro end=\"\"\n",
    "print(mat);"
   ]
  },
  {
   "cell_type": "code",
   "execution_count": 15,
   "metadata": {},
   "outputs": [
    {
     "name": "stdout",
     "output_type": "stream",
     "text": [
      "O primeiro e segundo elemento da terceira linha da matriz: 8 e 9\n",
      "Linhas da matriz: 0=[0, 1, 2, 3] ; 1=[4, 5, 6, 7] ; 2=[8, 9, 10, 11]\n"
     ]
    }
   ],
   "source": [
    "# Pegando o primeiro e segundo elemento da terceira linha de mat: mat[2][1]\n",
    "prim = mat[2][0]; seg = mat[2][1]; # pegar primeiro e segundo elemento da linha mat[2]\n",
    "print(\"O primeiro e segundo elemento da terceira linha da matriz: %d e %d\" % (prim, seg));\n",
    "\n",
    "print(\"Linhas da matriz: 0=%s ; 1=%s ; 2=%s\" % (mat[0], mat[1], mat[2])); # cada linha e' um vetor!\n",
    "# print(mat[0]); print(mat[1]); print(mat[2]);"
   ]
  },
  {
   "cell_type": "code",
   "execution_count": 16,
   "metadata": {},
   "outputs": [
    {
     "name": "stdout",
     "output_type": "stream",
     "text": [
      "Soma da linha  0 =   6\n",
      "Soma da linha  1 =  22\n",
      "Soma da linha  2 =  38\n"
     ]
    }
   ],
   "source": [
    "# Verifique que cada linha da matriz e' de fato um vetor\n",
    "for i in range(0, nl) :\n",
    "    print(\"Soma da linha %2d = %3d\" % (i, somalinha(mat[i])));"
   ]
  },
  {
   "cell_type": "code",
   "execution_count": null,
   "metadata": {},
   "outputs": [],
   "source": []
  }
 ],
 "metadata": {
  "kernelspec": {
   "display_name": "Python 3",
   "language": "python",
   "name": "python3"
  },
  "language_info": {
   "codemirror_mode": {
    "name": "ipython",
    "version": 3
   },
   "file_extension": ".py",
   "mimetype": "text/x-python",
   "name": "python",
   "nbconvert_exporter": "python",
   "pygments_lexer": "ipython3",
   "version": "3.7.6"
  }
 },
 "nbformat": 4,
 "nbformat_minor": 4
}
