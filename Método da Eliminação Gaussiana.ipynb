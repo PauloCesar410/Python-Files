{
 "cells": [
  {
   "cell_type": "markdown",
   "metadata": {},
   "source": [
    "# Método mais simples:Matrizes de tamanho fixo"
   ]
  },
  {
   "cell_type": "code",
   "execution_count": 9,
   "metadata": {},
   "outputs": [],
   "source": [
    "import numpy as np\n",
    "from numpy import*"
   ]
  },
  {
   "cell_type": "code",
   "execution_count": 29,
   "metadata": {},
   "outputs": [],
   "source": [
    "A=np.array([[1.,2.,1.],[3.,-2.,-2.],[1.,3.,-1.]])"
   ]
  },
  {
   "cell_type": "code",
   "execution_count": 30,
   "metadata": {},
   "outputs": [],
   "source": [
    "B=np.array([1.,-1.,-9.])"
   ]
  },
  {
   "cell_type": "code",
   "execution_count": 31,
   "metadata": {},
   "outputs": [],
   "source": [
    "n =np.size(B)"
   ]
  },
  {
   "cell_type": "code",
   "execution_count": 32,
   "metadata": {},
   "outputs": [
    {
     "name": "stdout",
     "output_type": "stream",
     "text": [
      "[[ 1.  2.  1.]\n",
      " [ 0. -8. -5.]\n",
      " [ 1.  3. -1.]] [ 1. -4. -9.]\n",
      "\n",
      "[[ 1.  2.  1.]\n",
      " [ 0. -8. -5.]\n",
      " [ 0.  1. -2.]] [  1.  -4. -10.]\n",
      "\n",
      "[[ 1.     2.     1.   ]\n",
      " [ 0.    -8.    -5.   ]\n",
      " [ 0.     0.    -2.625]] [  1.   -4.  -10.5]\n",
      "\n"
     ]
    }
   ],
   "source": [
    "for k in range(n-1):\n",
    "    for i in range(k+1,n):\n",
    "        m = A[i,k]/A[k,k]\n",
    "        A[i,:] = A[i,:] - m*A[k,:]\n",
    "        B[i] = B[i] - m*B[k]\n",
    "        print(A,B)\n",
    "        print(\"\")\n",
    "        "
   ]
  },
  {
   "cell_type": "code",
   "execution_count": 33,
   "metadata": {},
   "outputs": [
    {
     "name": "stdout",
     "output_type": "stream",
     "text": [
      "[ 1. -2.  4.]\n"
     ]
    }
   ],
   "source": [
    "print(linalg.solve(A,B))"
   ]
  },
  {
   "cell_type": "markdown",
   "metadata": {},
   "source": [
    "# Método mais completo:Matrizes de tamanho qualquer"
   ]
  },
  {
   "cell_type": "code",
   "execution_count": 1,
   "metadata": {},
   "outputs": [],
   "source": [
    "import numpy as np\n",
    "from numpy import*"
   ]
  },
  {
   "cell_type": "code",
   "execution_count": 2,
   "metadata": {},
   "outputs": [
    {
     "name": "stdout",
     "output_type": "stream",
     "text": [
      "Resolução de sistemas pelo método da eliminação gaussiana\n",
      "Digite a quantidade linhas deste sistema\n"
     ]
    }
   ],
   "source": [
    "print(\"Resolução de sistemas pelo método da eliminação gaussiana\")\n",
    "print(\"Digite a quantidade linhas deste sistema\")"
   ]
  },
  {
   "cell_type": "code",
   "execution_count": 3,
   "metadata": {},
   "outputs": [
    {
     "name": "stdout",
     "output_type": "stream",
     "text": [
      "Digite o número de linhas:  3\n"
     ]
    }
   ],
   "source": [
    "L=int(input(\"Digite o número de linhas:  \"))\n",
    "C=L #Matriz quadrada"
   ]
  },
  {
   "cell_type": "code",
   "execution_count": 4,
   "metadata": {},
   "outputs": [
    {
     "name": "stdout",
     "output_type": "stream",
     "text": [
      "Elemento [1][1]: 1\n",
      "Elemento [1][2]: 2\n",
      "Elemento [1][3]: 1\n",
      "Elemento [2][1]: 3\n",
      "Elemento [2][2]: -2\n",
      "Elemento [2][3]: -2\n",
      "Elemento [3][1]: 1\n",
      "Elemento [3][2]: 3\n",
      "Elemento [3][3]: -1\n",
      "[[ 1.  2.  1.]\n",
      " [ 3. -2. -2.]\n",
      " [ 1.  3. -1.]]\n"
     ]
    }
   ],
   "source": [
    "print(\"Digite a matriz de termos dependentes\")\n",
    "M=[[0]*C for i in range(L)]\n",
    "for i in range(L):\n",
    "    for j in range(C):\n",
    "        M[i][j] = float(input('Elemento ['+str(i+1)+']'+'['+str(j+1)+']: '))\n",
    "f =np.array(matrix(M))\n",
    "print(f)"
   ]
  },
  {
   "cell_type": "code",
   "execution_count": 5,
   "metadata": {},
   "outputs": [
    {
     "name": "stdout",
     "output_type": "stream",
     "text": [
      "Digite a matriz de termos independentes\n",
      "Elemento [1][1]: 1\n",
      "Elemento [2][1]: -1\n",
      "Elemento [3][1]: -9\n",
      "[[ 1.]\n",
      " [-1.]\n",
      " [-9.]]\n"
     ]
    }
   ],
   "source": [
    "print(\"Digite a matriz de termos independentes\")\n",
    "C1=1\n",
    "M1=[[0]*C1 for i in range(L)]\n",
    "for i in range(L):\n",
    "    for j in range(C1):\n",
    "        M1[i][j] = float(input('Elemento ['+str(i+1)+']'+'['+str(j+1)+']: '))\n",
    "f1=np.array(matrix(M1))\n",
    "print(f1)"
   ]
  },
  {
   "cell_type": "code",
   "execution_count": 6,
   "metadata": {},
   "outputs": [
    {
     "name": "stdout",
     "output_type": "stream",
     "text": [
      "MATRIZ INICIAL:\n",
      "MATRIZ A \t\t\t MATRIZ B\n",
      "[1. 2. 1.]\t['x1']=[1.]\n",
      "[ 3. -2. -2.]\t['x2']=[-1.]\n",
      "[ 1.  3. -1.]\t['x3']=[-9.]\n"
     ]
    }
   ],
   "source": [
    "# Impressão do Sistema linear\n",
    "M2=[[0]*C1 for i in range(L)]\n",
    "for i in range(L):\n",
    "    for j in range(C1):\n",
    "        M2[i][j] = 'x'+ str(i+1)\n",
    "f2=np.array(matrix(M2))\n",
    "print('MATRIZ INICIAL:' '\\n''MATRIZ A \\t\\t\\t MATRIZ B''\\n'+'\\n'.join('{}\\t{}={}'.format(f,f2,f1) for f,f2,f1 in zip(f,f2,f1)))"
   ]
  },
  {
   "cell_type": "code",
   "execution_count": 7,
   "metadata": {},
   "outputs": [
    {
     "name": "stdout",
     "output_type": "stream",
     "text": [
      "Resolvendo o sistema via Gauss\n"
     ]
    }
   ],
   "source": [
    "print(\"Resolvendo o sistema via Gauss\")"
   ]
  },
  {
   "cell_type": "code",
   "execution_count": 8,
   "metadata": {},
   "outputs": [
    {
     "name": "stdout",
     "output_type": "stream",
     "text": [
      "Pivô=  1.0\n",
      "m= 3.0\n",
      "[1. 2. 1.]\t['x1']=[1.]\n",
      "[ 0. -8. -5.]\t['x2']=[-4.]\n",
      "[ 1.  3. -1.]\t['x3']=[-9.]\n",
      "\n",
      "Pivô=  1.0\n",
      "m= 1.0\n",
      "[1. 2. 1.]\t['x1']=[1.]\n",
      "[ 0. -8. -5.]\t['x2']=[-4.]\n",
      "[ 0.  1. -2.]\t['x3']=[-10.]\n",
      "\n",
      "Pivô=  -8.0\n",
      "m= -0.125\n",
      "[1. 2. 1.]\t['x1']=[1.]\n",
      "[ 0. -8. -5.]\t['x2']=[-4.]\n",
      "[ 0.     0.    -2.625]\t['x3']=[-10.5]\n",
      "\n"
     ]
    }
   ],
   "source": [
    "#Método da eliminação Gaussiana\n",
    "for k in range(L-1):\n",
    "    for i in range(k+1,L):\n",
    "        m=(f[i,k]/f[k,k])\n",
    "        f[i,:]=f[i,:]-m*f[k,:]\n",
    "        f1[i,:]=f1[i,:]-m*f1[k,:]\n",
    "        print('Pivô= ', f[k,k])\n",
    "        print('m=',m)\n",
    "        print('\\n'.join('{}\\t{}={}'.format(f,f2,f1) for f,f2,f1 in zip(f,f2,f1)))\n",
    "        print('') \n",
    "        "
   ]
  },
  {
   "cell_type": "code",
   "execution_count": 10,
   "metadata": {},
   "outputs": [
    {
     "name": "stdout",
     "output_type": "stream",
     "text": [
      "A solução do sistema é:  \n",
      "x3= 4.0\n",
      "x2= -2.0\n",
      "x1= 1.0\n"
     ]
    }
   ],
   "source": [
    "print(\"A solução do sistema é:  \")\n",
    "x=zeros(L)\n",
    "x[L-1]=f1[L-1]/f[L-1,L-1]\n",
    "print('x'+str(L)+'=',x[L-1])\n",
    "for i in range(L-2,-1,-1):\n",
    "    sum_ax=0\n",
    "    for j in range(i+1,L):\n",
    "        sum_ax += f[i,j]*x[j]\n",
    "    x[i]=(f1[i]-sum_ax)/f[i,i]\n",
    "    print('x' + str(i+1)+'=',x[i])"
   ]
  },
  {
   "cell_type": "code",
   "execution_count": null,
   "metadata": {},
   "outputs": [],
   "source": []
  }
 ],
 "metadata": {
  "kernelspec": {
   "display_name": "Python 3",
   "language": "python",
   "name": "python3"
  },
  "language_info": {
   "codemirror_mode": {
    "name": "ipython",
    "version": 3
   },
   "file_extension": ".py",
   "mimetype": "text/x-python",
   "name": "python",
   "nbconvert_exporter": "python",
   "pygments_lexer": "ipython3",
   "version": "3.7.6"
  }
 },
 "nbformat": 4,
 "nbformat_minor": 4
}
