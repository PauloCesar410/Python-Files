{
 "cells": [
  {
   "cell_type": "code",
   "execution_count": 1,
   "metadata": {},
   "outputs": [
    {
     "name": "stdout",
     "output_type": "stream",
     "text": [
      "3000\n",
      "50000\n",
      "4368\n"
     ]
    }
   ],
   "source": [
    "import sys\n",
    "print(sys.getrecursionlimit())\n",
    "sys.setrecursionlimit(50000) #Aumenta o número de recursões\n",
    "print(sys.getrecursionlimit())\n",
    "\n",
    "def somadiv(n, i = 1, s = 0):\n",
    "    if n == i:\n",
    "        return s+i\n",
    "    else:\n",
    "        if i <= n:\n",
    "            if n%i==0:\n",
    "                return somadiv(n,i+1, s+i)\n",
    "            else:\n",
    "                return somadiv(n,i+1,s)\n",
    "\n",
    "\n",
    "print(somadiv(1260))"
   ]
  },
  {
   "cell_type": "code",
   "execution_count": null,
   "metadata": {},
   "outputs": [],
   "source": []
  }
 ],
 "metadata": {
  "kernelspec": {
   "display_name": "Python 3",
   "language": "python",
   "name": "python3"
  },
  "language_info": {
   "codemirror_mode": {
    "name": "ipython",
    "version": 3
   },
   "file_extension": ".py",
   "mimetype": "text/x-python",
   "name": "python",
   "nbconvert_exporter": "python",
   "pygments_lexer": "ipython3",
   "version": "3.7.6"
  }
 },
 "nbformat": 4,
 "nbformat_minor": 4
}
