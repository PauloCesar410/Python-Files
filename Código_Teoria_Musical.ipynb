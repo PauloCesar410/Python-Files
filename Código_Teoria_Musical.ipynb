{
 "cells": [
  {
   "cell_type": "code",
   "execution_count": 1,
   "metadata": {},
   "outputs": [],
   "source": [
    "# Código para estudo de teoria musical, ACORDES MAIORES!\n",
    "Do_Maior  =  ('C','C#','D','D#','E','F','F#','G','G#','A','A#','B') #1ºgrau maior\n",
    "Do_sustenido=('C#','D','D#','E','F','F#','G','G#','A','A#','B','C') #2ªgrau menor \n",
    "Re_Maior=('D','D#','E','F','F#','G','G#','A','A#','B','C','C#') #2ªgrau maior\n",
    "Re_sustenido=('D#','E','F','F#','G','G#','A','A#','B','C','C#','D') #3ªgrau menor\n",
    "Mi_maior=('E','F','F#','G','G#','A','A#','B','C','C#','D','D#') #3ªgrau menor\n",
    "Fa_maior=('F','F#','G','G#','A','A#','B','C','C#','D','D#','E') #4ªjusta\n",
    "Fa_sustenido=('F#','G','G#','A','A#','B','C','C#','D','D#','E','F') #4ªaumentada\n",
    "Sol_maior=('G','G#','A','A#','B','C','C#','D','D#','E','F','F#') #5ª justa\n",
    "Sol_sustenido=('G#','A','A#','B','C','C#','D','D#','E','F','F#','G') #5ª aumentada\n",
    "La_maior=('A','A#','B','C','C#','D','D#','E','F','F#','G','G#') #6ª maior\n",
    "La_sustenido=('A#','B','C','C#','D','D#','E','F','F#','G','G#','A') #7ª menor\n",
    "Si_maior=('B','C','C#','D','D#','E','F','F#','G','G#','A','A#') #7ª menor\n",
    "\n",
    "##Código harmônico maior\n",
    "# I7M  IIm7  IIIm7  IV7M  V7  VIm7  VIIm7(b5)"
   ]
  },
  {
   "cell_type": "code",
   "execution_count": 2,
   "metadata": {},
   "outputs": [],
   "source": [
    "# Acordes formados pelas 1ª, 3ª e 5ª notas \n",
    "Acorde_Do_Maior =     (Do_Maior[0],Do_Maior[4],Do_Maior[7])\n",
    "Acorde_Do_sustenido = (Do_sustenido[0],Do_sustenido[4],Do_sustenido[7])\n",
    "Acorde_Re_maior = (Re_Maior[0],Re_Maior[4],Re_Maior[7])\n",
    "Acorde_Re_sustenido = (Re_sustenido[0],Re_sustenido[4],Re_sustenido[7])\n",
    "Acorde_Mi_Maior = (Mi_maior[0],Mi_maior[4],Mi_maior[7])\n",
    "Acorde_Fa_Maior = (Fa_maior[0],Fa_maior[4],Fa_maior[7])\n",
    "Acorde_Fa_sustenido = (Fa_sustenido[0],Fa_sustenido[4],Fa_sustenido[7])\n",
    "Acorde_Sol_Maior = (Sol_maior[0],Sol_maior[4],Sol_maior[7])\n",
    "Acorde_Sol_sustenido = (Sol_sustenido[0],Sol_sustenido[4],Sol_sustenido[7])\n",
    "Acorde_La_maior = (La_maior[0],La_maior[4],La_maior[7])\n",
    "Acorde_La_sustenido = (La_sustenido[0],La_sustenido[4],La_sustenido[7])\n",
    "Acorde_Si_Maior = (Si_maior[0],Si_maior[4],Si_maior[7])"
   ]
  },
  {
   "cell_type": "code",
   "execution_count": 5,
   "metadata": {},
   "outputs": [
    {
     "name": "stdout",
     "output_type": "stream",
     "text": [
      "Acorde de Dó maior =  ('C', 'E', 'G')\n"
     ]
    }
   ],
   "source": [
    "print(\"Acorde de Dó maior = \", Acorde_Do_Maior)"
   ]
  },
  {
   "cell_type": "code",
   "execution_count": 4,
   "metadata": {},
   "outputs": [
    {
     "name": "stdout",
     "output_type": "stream",
     "text": [
      "Acorde de Dó sustenido  ('C#', 'F', 'G#')\n"
     ]
    }
   ],
   "source": [
    "print(\"Acorde de Dó sustenido \", Acorde_Do_sustenido)"
   ]
  },
  {
   "cell_type": "code",
   "execution_count": 3,
   "metadata": {},
   "outputs": [
    {
     "name": "stdout",
     "output_type": "stream",
     "text": [
      "Acorde de Ré maior ('D', 'F#', 'A')\n"
     ]
    }
   ],
   "source": [
    "print(\"Acorde de Ré maior\", Acorde_Re_maior)"
   ]
  },
  {
   "cell_type": "code",
   "execution_count": 6,
   "metadata": {},
   "outputs": [
    {
     "name": "stdout",
     "output_type": "stream",
     "text": [
      "Acorde de Fá maior ('F', 'A', 'C')\n"
     ]
    }
   ],
   "source": [
    "print(\"Acorde de Fá maior\", Acorde_Fa_Maior)"
   ]
  },
  {
   "cell_type": "code",
   "execution_count": null,
   "metadata": {},
   "outputs": [],
   "source": []
  }
 ],
 "metadata": {
  "kernelspec": {
   "display_name": "Python 3",
   "language": "python",
   "name": "python3"
  },
  "language_info": {
   "codemirror_mode": {
    "name": "ipython",
    "version": 3
   },
   "file_extension": ".py",
   "mimetype": "text/x-python",
   "name": "python",
   "nbconvert_exporter": "python",
   "pygments_lexer": "ipython3",
   "version": "3.7.6"
  }
 },
 "nbformat": 4,
 "nbformat_minor": 4
}
