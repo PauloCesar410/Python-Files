{
 "cells": [
  {
   "cell_type": "markdown",
   "metadata": {},
   "source": [
    "# Soma de Riemann"
   ]
  },
  {
   "cell_type": "code",
   "execution_count": 5,
   "metadata": {},
   "outputs": [],
   "source": [
    "import numpy as np\n",
    "def f(x):\n",
    "    return np.exp(x**2)"
   ]
  },
  {
   "cell_type": "code",
   "execution_count": 6,
   "metadata": {},
   "outputs": [
    {
     "name": "stdout",
     "output_type": "stream",
     "text": [
      "digite o ponto inicial: 0\n",
      "digite o ponto final: 1\n",
      "digite a quantidade de divisões do intervalo: 100000\n"
     ]
    }
   ],
   "source": [
    "a=float(input('digite o ponto inicial: '))\n",
    "b=float(input('digite o ponto final: '))\n",
    "n=int(input('digite a quantidade de divisões do intervalo: '))\n"
   ]
  },
  {
   "cell_type": "code",
   "execution_count": 7,
   "metadata": {},
   "outputs": [
    {
     "name": "stdout",
     "output_type": "stream",
     "text": [
      "1e-05\n"
     ]
    }
   ],
   "source": [
    "deltax=((b-a)/n)\n",
    "print(deltax)\n"
   ]
  },
  {
   "cell_type": "code",
   "execution_count": 8,
   "metadata": {},
   "outputs": [
    {
     "name": "stdout",
     "output_type": "stream",
     "text": [
      "1.4626431545433414\n"
     ]
    }
   ],
   "source": [
    "soma=0\n",
    "for i in range(0,n,1):\n",
    "    x=a+deltax*i\n",
    "    soma += f(x)*deltax\n",
    "print(soma)"
   ]
  },
  {
   "cell_type": "code",
   "execution_count": 4,
   "metadata": {},
   "outputs": [
    {
     "name": "stdout",
     "output_type": "stream",
     "text": [
      "digite um valor para n: 10000\n",
      "0.9999000099990007\n"
     ]
    }
   ],
   "source": [
    "n = int(input(\"digite um valor para n: \"))\n",
    "soma = 0 \n",
    "for i in range(1,n+1,1):\n",
    "    soma+= 1/(i*(i+1))\n",
    "print(soma)"
   ]
  },
  {
   "cell_type": "code",
   "execution_count": 5,
   "metadata": {},
   "outputs": [
    {
     "name": "stdout",
     "output_type": "stream",
     "text": [
      "O erro percentual é de: 0.009999000099925048\n"
     ]
    }
   ],
   "source": [
    "valor_exato =1\n",
    "valor_aproximado = soma\n",
    "erro_percentual = ((valor_exato - valor_aproximado) / (valor_exato))*100\n",
    "print(\"O erro percentual é de:\", erro_percentual)"
   ]
  },
  {
   "cell_type": "code",
   "execution_count": null,
   "metadata": {},
   "outputs": [],
   "source": [
    "SOMA =0\n",
    "for i in range(0,n,1):\n",
    "    SOMA+= "
   ]
  }
 ],
 "metadata": {
  "kernelspec": {
   "display_name": "Python 3",
   "language": "python",
   "name": "python3"
  },
  "language_info": {
   "codemirror_mode": {
    "name": "ipython",
    "version": 3
   },
   "file_extension": ".py",
   "mimetype": "text/x-python",
   "name": "python",
   "nbconvert_exporter": "python",
   "pygments_lexer": "ipython3",
   "version": "3.7.6"
  }
 },
 "nbformat": 4,
 "nbformat_minor": 4
}
